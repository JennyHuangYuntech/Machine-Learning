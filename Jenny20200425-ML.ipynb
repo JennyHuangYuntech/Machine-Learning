{
  "nbformat": 4,
  "nbformat_minor": 0,
  "metadata": {
    "colab": {
      "name": "Demo20200425.ipynb",
      "provenance": [],
      "collapsed_sections": []
    },
    "kernelspec": {
      "name": "python3",
      "display_name": "Python 3"
    },
    "accelerator": "GPU"
  },
  "cells": [
    {
      "cell_type": "markdown",
      "metadata": {
        "id": "B6enckf6NM1m",
        "colab_type": "text"
      },
      "source": [
        "## Python Basic"
      ]
    },
    {
      "cell_type": "code",
      "metadata": {
        "id": "29YlEy3ybXF_",
        "colab_type": "code",
        "colab": {
          "base_uri": "https://localhost:8080/",
          "height": 124
        },
        "outputId": "2b245518-7fcf-412e-81a6-b8600b321020"
      },
      "source": [
        "from google.colab import drive\n",
        "drive.mount('/content/drive')"
      ],
      "execution_count": 1,
      "outputs": [
        {
          "output_type": "stream",
          "text": [
            "Go to this URL in a browser: https://accounts.google.com/o/oauth2/auth?client_id=947318989803-6bn6qk8qdgf4n4g3pfee6491hc0brc4i.apps.googleusercontent.com&redirect_uri=urn%3aietf%3awg%3aoauth%3a2.0%3aoob&response_type=code&scope=email%20https%3a%2f%2fwww.googleapis.com%2fauth%2fdocs.test%20https%3a%2f%2fwww.googleapis.com%2fauth%2fdrive%20https%3a%2f%2fwww.googleapis.com%2fauth%2fdrive.photos.readonly%20https%3a%2f%2fwww.googleapis.com%2fauth%2fpeopleapi.readonly\n",
            "\n",
            "Enter your authorization code:\n",
            "··········\n",
            "Mounted at /content/drive\n"
          ],
          "name": "stdout"
        }
      ]
    },
    {
      "cell_type": "code",
      "metadata": {
        "id": "W8t_yzDwMXqr",
        "colab_type": "code",
        "outputId": "1d2f3802-3425-4fb0-9940-86b6b7d06ce0",
        "colab": {
          "base_uri": "https://localhost:8080/",
          "height": 35
        }
      },
      "source": [
        "a = 3\n",
        "b = 2\n",
        "a + b"
      ],
      "execution_count": 2,
      "outputs": [
        {
          "output_type": "execute_result",
          "data": {
            "text/plain": [
              "5"
            ]
          },
          "metadata": {
            "tags": []
          },
          "execution_count": 2
        }
      ]
    },
    {
      "cell_type": "code",
      "metadata": {
        "id": "P7Obm5-uNFQp",
        "colab_type": "code",
        "outputId": "d1136f7d-6348-4675-9d50-163f344387ed",
        "colab": {
          "base_uri": "https://localhost:8080/",
          "height": 35
        }
      },
      "source": [
        "a * 10"
      ],
      "execution_count": 3,
      "outputs": [
        {
          "output_type": "execute_result",
          "data": {
            "text/plain": [
              "30"
            ]
          },
          "metadata": {
            "tags": []
          },
          "execution_count": 3
        }
      ]
    },
    {
      "cell_type": "markdown",
      "metadata": {
        "id": "5e-FYXc2S38a",
        "colab_type": "text"
      },
      "source": [
        "## Check GPU Version"
      ]
    },
    {
      "cell_type": "code",
      "metadata": {
        "id": "wFlETFFLSkjt",
        "colab_type": "code",
        "outputId": "bc020088-c5e5-492b-bf65-9ed5c11675ea",
        "colab": {
          "base_uri": "https://localhost:8080/",
          "height": 312
        }
      },
      "source": [
        "! nvidia-smi"
      ],
      "execution_count": 4,
      "outputs": [
        {
          "output_type": "stream",
          "text": [
            "Sun May 31 11:23:03 2020       \n",
            "+-----------------------------------------------------------------------------+\n",
            "| NVIDIA-SMI 440.82       Driver Version: 418.67       CUDA Version: 10.1     |\n",
            "|-------------------------------+----------------------+----------------------+\n",
            "| GPU  Name        Persistence-M| Bus-Id        Disp.A | Volatile Uncorr. ECC |\n",
            "| Fan  Temp  Perf  Pwr:Usage/Cap|         Memory-Usage | GPU-Util  Compute M. |\n",
            "|===============================+======================+======================|\n",
            "|   0  Tesla P100-PCIE...  Off  | 00000000:00:04.0 Off |                    0 |\n",
            "| N/A   36C    P0    24W / 250W |      0MiB / 16280MiB |      0%      Default |\n",
            "+-------------------------------+----------------------+----------------------+\n",
            "                                                                               \n",
            "+-----------------------------------------------------------------------------+\n",
            "| Processes:                                                       GPU Memory |\n",
            "|  GPU       PID   Type   Process name                             Usage      |\n",
            "|=============================================================================|\n",
            "|  No running processes found                                                 |\n",
            "+-----------------------------------------------------------------------------+\n"
          ],
          "name": "stdout"
        }
      ]
    },
    {
      "cell_type": "markdown",
      "metadata": {
        "id": "H1hTBryZUECD",
        "colab_type": "text"
      },
      "source": [
        "## Data Science Project In Practice"
      ]
    },
    {
      "cell_type": "markdown",
      "metadata": {
        "id": "8It2cZznWcA_",
        "colab_type": "text"
      },
      "source": [
        "### Data Collection"
      ]
    },
    {
      "cell_type": "code",
      "metadata": {
        "id": "yB002slGTD-b",
        "colab_type": "code",
        "colab": {}
      },
      "source": [
        "import pandas\n",
        "dfs = pandas.read_html('https://rate.bot.com.tw/xrt/quote/l6m/USD')"
      ],
      "execution_count": 0,
      "outputs": []
    },
    {
      "cell_type": "code",
      "metadata": {
        "id": "xWgsgt7ZfDWY",
        "colab_type": "code",
        "colab": {
          "base_uri": "https://localhost:8080/",
          "height": 654
        },
        "outputId": "ac679820-8229-4156-a8f1-dc139caf19a3"
      },
      "source": [
        "dfs[0]"
      ],
      "execution_count": 22,
      "outputs": [
        {
          "output_type": "execute_result",
          "data": {
            "text/html": [
              "<div>\n",
              "<style scoped>\n",
              "    .dataframe tbody tr th:only-of-type {\n",
              "        vertical-align: middle;\n",
              "    }\n",
              "\n",
              "    .dataframe tbody tr th {\n",
              "        vertical-align: top;\n",
              "    }\n",
              "\n",
              "    .dataframe thead tr th {\n",
              "        text-align: left;\n",
              "    }\n",
              "</style>\n",
              "<table border=\"1\" class=\"dataframe\">\n",
              "  <thead>\n",
              "    <tr>\n",
              "      <th></th>\n",
              "      <th colspan=\"2\" halign=\"left\">掛牌日期</th>\n",
              "      <th>幣別</th>\n",
              "      <th colspan=\"2\" halign=\"left\">現金匯率</th>\n",
              "      <th>Unnamed: 5_level_0</th>\n",
              "      <th colspan=\"2\" halign=\"left\">即期匯率</th>\n",
              "      <th>Unnamed: 8_level_0</th>\n",
              "    </tr>\n",
              "    <tr>\n",
              "      <th></th>\n",
              "      <th>掛牌日期</th>\n",
              "      <th>本行買入</th>\n",
              "      <th>幣別</th>\n",
              "      <th>本行賣出</th>\n",
              "      <th>本行買入</th>\n",
              "      <th>本行賣出</th>\n",
              "      <th>Unnamed: 6_level_1</th>\n",
              "      <th>Unnamed: 7_level_1</th>\n",
              "      <th>Unnamed: 8_level_1</th>\n",
              "    </tr>\n",
              "  </thead>\n",
              "  <tbody>\n",
              "    <tr>\n",
              "      <th>0</th>\n",
              "      <td>2020/05/29</td>\n",
              "      <td>美金 (USD)</td>\n",
              "      <td>29.620</td>\n",
              "      <td>30.290</td>\n",
              "      <td>29.970</td>\n",
              "      <td>30.070</td>\n",
              "      <td>NaN</td>\n",
              "      <td>NaN</td>\n",
              "      <td>NaN</td>\n",
              "    </tr>\n",
              "    <tr>\n",
              "      <th>1</th>\n",
              "      <td>2020/05/28</td>\n",
              "      <td>美金 (USD)</td>\n",
              "      <td>29.620</td>\n",
              "      <td>30.290</td>\n",
              "      <td>29.970</td>\n",
              "      <td>30.070</td>\n",
              "      <td>NaN</td>\n",
              "      <td>NaN</td>\n",
              "      <td>NaN</td>\n",
              "    </tr>\n",
              "    <tr>\n",
              "      <th>2</th>\n",
              "      <td>2020/05/27</td>\n",
              "      <td>美金 (USD)</td>\n",
              "      <td>29.610</td>\n",
              "      <td>30.280</td>\n",
              "      <td>29.960</td>\n",
              "      <td>30.060</td>\n",
              "      <td>NaN</td>\n",
              "      <td>NaN</td>\n",
              "      <td>NaN</td>\n",
              "    </tr>\n",
              "    <tr>\n",
              "      <th>3</th>\n",
              "      <td>2020/05/26</td>\n",
              "      <td>美金 (USD)</td>\n",
              "      <td>29.560</td>\n",
              "      <td>30.230</td>\n",
              "      <td>29.910</td>\n",
              "      <td>30.010</td>\n",
              "      <td>NaN</td>\n",
              "      <td>NaN</td>\n",
              "      <td>NaN</td>\n",
              "    </tr>\n",
              "    <tr>\n",
              "      <th>4</th>\n",
              "      <td>2020/05/25</td>\n",
              "      <td>美金 (USD)</td>\n",
              "      <td>29.640</td>\n",
              "      <td>30.310</td>\n",
              "      <td>29.990</td>\n",
              "      <td>30.090</td>\n",
              "      <td>NaN</td>\n",
              "      <td>NaN</td>\n",
              "      <td>NaN</td>\n",
              "    </tr>\n",
              "    <tr>\n",
              "      <th>...</th>\n",
              "      <td>...</td>\n",
              "      <td>...</td>\n",
              "      <td>...</td>\n",
              "      <td>...</td>\n",
              "      <td>...</td>\n",
              "      <td>...</td>\n",
              "      <td>...</td>\n",
              "      <td>...</td>\n",
              "      <td>...</td>\n",
              "    </tr>\n",
              "    <tr>\n",
              "      <th>116</th>\n",
              "      <td>2019/12/06</td>\n",
              "      <td>美金 (USD)</td>\n",
              "      <td>30.085</td>\n",
              "      <td>30.755</td>\n",
              "      <td>30.435</td>\n",
              "      <td>30.535</td>\n",
              "      <td>NaN</td>\n",
              "      <td>NaN</td>\n",
              "      <td>NaN</td>\n",
              "    </tr>\n",
              "    <tr>\n",
              "      <th>117</th>\n",
              "      <td>2019/12/05</td>\n",
              "      <td>美金 (USD)</td>\n",
              "      <td>30.070</td>\n",
              "      <td>30.740</td>\n",
              "      <td>30.420</td>\n",
              "      <td>30.520</td>\n",
              "      <td>NaN</td>\n",
              "      <td>NaN</td>\n",
              "      <td>NaN</td>\n",
              "    </tr>\n",
              "    <tr>\n",
              "      <th>118</th>\n",
              "      <td>2019/12/04</td>\n",
              "      <td>美金 (USD)</td>\n",
              "      <td>30.100</td>\n",
              "      <td>30.770</td>\n",
              "      <td>30.450</td>\n",
              "      <td>30.550</td>\n",
              "      <td>NaN</td>\n",
              "      <td>NaN</td>\n",
              "      <td>NaN</td>\n",
              "    </tr>\n",
              "    <tr>\n",
              "      <th>119</th>\n",
              "      <td>2019/12/03</td>\n",
              "      <td>美金 (USD)</td>\n",
              "      <td>30.095</td>\n",
              "      <td>30.765</td>\n",
              "      <td>30.445</td>\n",
              "      <td>30.545</td>\n",
              "      <td>NaN</td>\n",
              "      <td>NaN</td>\n",
              "      <td>NaN</td>\n",
              "    </tr>\n",
              "    <tr>\n",
              "      <th>120</th>\n",
              "      <td>2019/12/02</td>\n",
              "      <td>美金 (USD)</td>\n",
              "      <td>30.095</td>\n",
              "      <td>30.765</td>\n",
              "      <td>30.445</td>\n",
              "      <td>30.545</td>\n",
              "      <td>NaN</td>\n",
              "      <td>NaN</td>\n",
              "      <td>NaN</td>\n",
              "    </tr>\n",
              "  </tbody>\n",
              "</table>\n",
              "<p>121 rows × 9 columns</p>\n",
              "</div>"
            ],
            "text/plain": [
              "           掛牌日期            ...               即期匯率 Unnamed: 8_level_0\n",
              "           掛牌日期      本行買入  ... Unnamed: 7_level_1 Unnamed: 8_level_1\n",
              "0    2020/05/29  美金 (USD)  ...                NaN                NaN\n",
              "1    2020/05/28  美金 (USD)  ...                NaN                NaN\n",
              "2    2020/05/27  美金 (USD)  ...                NaN                NaN\n",
              "3    2020/05/26  美金 (USD)  ...                NaN                NaN\n",
              "4    2020/05/25  美金 (USD)  ...                NaN                NaN\n",
              "..          ...       ...  ...                ...                ...\n",
              "116  2019/12/06  美金 (USD)  ...                NaN                NaN\n",
              "117  2019/12/05  美金 (USD)  ...                NaN                NaN\n",
              "118  2019/12/04  美金 (USD)  ...                NaN                NaN\n",
              "119  2019/12/03  美金 (USD)  ...                NaN                NaN\n",
              "120  2019/12/02  美金 (USD)  ...                NaN                NaN\n",
              "\n",
              "[121 rows x 9 columns]"
            ]
          },
          "metadata": {
            "tags": []
          },
          "execution_count": 22
        }
      ]
    },
    {
      "cell_type": "markdown",
      "metadata": {
        "id": "zZ4GDjxdWexw",
        "colab_type": "text"
      },
      "source": [
        "### Data Cleansing"
      ]
    },
    {
      "cell_type": "code",
      "metadata": {
        "id": "oKbaGjbNfs0O",
        "colab_type": "code",
        "colab": {
          "base_uri": "https://localhost:8080/",
          "height": 446
        },
        "outputId": "6513796f-c80d-4cf4-d520-3e5c92dc2add"
      },
      "source": [
        "df=dfs[0].iloc[:,0:6]\n",
        "df"
      ],
      "execution_count": 23,
      "outputs": [
        {
          "output_type": "execute_result",
          "data": {
            "text/html": [
              "<div>\n",
              "<style scoped>\n",
              "    .dataframe tbody tr th:only-of-type {\n",
              "        vertical-align: middle;\n",
              "    }\n",
              "\n",
              "    .dataframe tbody tr th {\n",
              "        vertical-align: top;\n",
              "    }\n",
              "\n",
              "    .dataframe thead tr th {\n",
              "        text-align: left;\n",
              "    }\n",
              "</style>\n",
              "<table border=\"1\" class=\"dataframe\">\n",
              "  <thead>\n",
              "    <tr>\n",
              "      <th></th>\n",
              "      <th colspan=\"2\" halign=\"left\">掛牌日期</th>\n",
              "      <th>幣別</th>\n",
              "      <th colspan=\"2\" halign=\"left\">現金匯率</th>\n",
              "      <th>Unnamed: 5_level_0</th>\n",
              "    </tr>\n",
              "    <tr>\n",
              "      <th></th>\n",
              "      <th>掛牌日期</th>\n",
              "      <th>本行買入</th>\n",
              "      <th>幣別</th>\n",
              "      <th>本行賣出</th>\n",
              "      <th>本行買入</th>\n",
              "      <th>本行賣出</th>\n",
              "    </tr>\n",
              "  </thead>\n",
              "  <tbody>\n",
              "    <tr>\n",
              "      <th>0</th>\n",
              "      <td>2020/05/29</td>\n",
              "      <td>美金 (USD)</td>\n",
              "      <td>29.620</td>\n",
              "      <td>30.290</td>\n",
              "      <td>29.970</td>\n",
              "      <td>30.070</td>\n",
              "    </tr>\n",
              "    <tr>\n",
              "      <th>1</th>\n",
              "      <td>2020/05/28</td>\n",
              "      <td>美金 (USD)</td>\n",
              "      <td>29.620</td>\n",
              "      <td>30.290</td>\n",
              "      <td>29.970</td>\n",
              "      <td>30.070</td>\n",
              "    </tr>\n",
              "    <tr>\n",
              "      <th>2</th>\n",
              "      <td>2020/05/27</td>\n",
              "      <td>美金 (USD)</td>\n",
              "      <td>29.610</td>\n",
              "      <td>30.280</td>\n",
              "      <td>29.960</td>\n",
              "      <td>30.060</td>\n",
              "    </tr>\n",
              "    <tr>\n",
              "      <th>3</th>\n",
              "      <td>2020/05/26</td>\n",
              "      <td>美金 (USD)</td>\n",
              "      <td>29.560</td>\n",
              "      <td>30.230</td>\n",
              "      <td>29.910</td>\n",
              "      <td>30.010</td>\n",
              "    </tr>\n",
              "    <tr>\n",
              "      <th>4</th>\n",
              "      <td>2020/05/25</td>\n",
              "      <td>美金 (USD)</td>\n",
              "      <td>29.640</td>\n",
              "      <td>30.310</td>\n",
              "      <td>29.990</td>\n",
              "      <td>30.090</td>\n",
              "    </tr>\n",
              "    <tr>\n",
              "      <th>...</th>\n",
              "      <td>...</td>\n",
              "      <td>...</td>\n",
              "      <td>...</td>\n",
              "      <td>...</td>\n",
              "      <td>...</td>\n",
              "      <td>...</td>\n",
              "    </tr>\n",
              "    <tr>\n",
              "      <th>116</th>\n",
              "      <td>2019/12/06</td>\n",
              "      <td>美金 (USD)</td>\n",
              "      <td>30.085</td>\n",
              "      <td>30.755</td>\n",
              "      <td>30.435</td>\n",
              "      <td>30.535</td>\n",
              "    </tr>\n",
              "    <tr>\n",
              "      <th>117</th>\n",
              "      <td>2019/12/05</td>\n",
              "      <td>美金 (USD)</td>\n",
              "      <td>30.070</td>\n",
              "      <td>30.740</td>\n",
              "      <td>30.420</td>\n",
              "      <td>30.520</td>\n",
              "    </tr>\n",
              "    <tr>\n",
              "      <th>118</th>\n",
              "      <td>2019/12/04</td>\n",
              "      <td>美金 (USD)</td>\n",
              "      <td>30.100</td>\n",
              "      <td>30.770</td>\n",
              "      <td>30.450</td>\n",
              "      <td>30.550</td>\n",
              "    </tr>\n",
              "    <tr>\n",
              "      <th>119</th>\n",
              "      <td>2019/12/03</td>\n",
              "      <td>美金 (USD)</td>\n",
              "      <td>30.095</td>\n",
              "      <td>30.765</td>\n",
              "      <td>30.445</td>\n",
              "      <td>30.545</td>\n",
              "    </tr>\n",
              "    <tr>\n",
              "      <th>120</th>\n",
              "      <td>2019/12/02</td>\n",
              "      <td>美金 (USD)</td>\n",
              "      <td>30.095</td>\n",
              "      <td>30.765</td>\n",
              "      <td>30.445</td>\n",
              "      <td>30.545</td>\n",
              "    </tr>\n",
              "  </tbody>\n",
              "</table>\n",
              "<p>121 rows × 6 columns</p>\n",
              "</div>"
            ],
            "text/plain": [
              "           掛牌日期                幣別    現金匯率         Unnamed: 5_level_0\n",
              "           掛牌日期      本行買入      幣別    本行賣出    本行買入               本行賣出\n",
              "0    2020/05/29  美金 (USD)  29.620  30.290  29.970             30.070\n",
              "1    2020/05/28  美金 (USD)  29.620  30.290  29.970             30.070\n",
              "2    2020/05/27  美金 (USD)  29.610  30.280  29.960             30.060\n",
              "3    2020/05/26  美金 (USD)  29.560  30.230  29.910             30.010\n",
              "4    2020/05/25  美金 (USD)  29.640  30.310  29.990             30.090\n",
              "..          ...       ...     ...     ...     ...                ...\n",
              "116  2019/12/06  美金 (USD)  30.085  30.755  30.435             30.535\n",
              "117  2019/12/05  美金 (USD)  30.070  30.740  30.420             30.520\n",
              "118  2019/12/04  美金 (USD)  30.100  30.770  30.450             30.550\n",
              "119  2019/12/03  美金 (USD)  30.095  30.765  30.445             30.545\n",
              "120  2019/12/02  美金 (USD)  30.095  30.765  30.445             30.545\n",
              "\n",
              "[121 rows x 6 columns]"
            ]
          },
          "metadata": {
            "tags": []
          },
          "execution_count": 23
        }
      ]
    },
    {
      "cell_type": "code",
      "metadata": {
        "id": "EkyByOECU_Uw",
        "colab_type": "code",
        "colab": {}
      },
      "source": [
        "df.columns = ['掛牌日期', '幣別', '現金匯率買入','現金匯率賣出', '即期匯率買入','即期匯率賣出']"
      ],
      "execution_count": 0,
      "outputs": []
    },
    {
      "cell_type": "code",
      "metadata": {
        "id": "0oKnfSdvVFzF",
        "colab_type": "code",
        "outputId": "1649dd9d-c44f-4447-eff3-347b5cf3ccb0",
        "colab": {
          "base_uri": "https://localhost:8080/",
          "height": 202
        }
      },
      "source": [
        "df.head()"
      ],
      "execution_count": 25,
      "outputs": [
        {
          "output_type": "execute_result",
          "data": {
            "text/html": [
              "<div>\n",
              "<style scoped>\n",
              "    .dataframe tbody tr th:only-of-type {\n",
              "        vertical-align: middle;\n",
              "    }\n",
              "\n",
              "    .dataframe tbody tr th {\n",
              "        vertical-align: top;\n",
              "    }\n",
              "\n",
              "    .dataframe thead th {\n",
              "        text-align: right;\n",
              "    }\n",
              "</style>\n",
              "<table border=\"1\" class=\"dataframe\">\n",
              "  <thead>\n",
              "    <tr style=\"text-align: right;\">\n",
              "      <th></th>\n",
              "      <th>掛牌日期</th>\n",
              "      <th>幣別</th>\n",
              "      <th>現金匯率買入</th>\n",
              "      <th>現金匯率賣出</th>\n",
              "      <th>即期匯率買入</th>\n",
              "      <th>即期匯率賣出</th>\n",
              "    </tr>\n",
              "  </thead>\n",
              "  <tbody>\n",
              "    <tr>\n",
              "      <th>0</th>\n",
              "      <td>2020/05/29</td>\n",
              "      <td>美金 (USD)</td>\n",
              "      <td>29.62</td>\n",
              "      <td>30.29</td>\n",
              "      <td>29.97</td>\n",
              "      <td>30.07</td>\n",
              "    </tr>\n",
              "    <tr>\n",
              "      <th>1</th>\n",
              "      <td>2020/05/28</td>\n",
              "      <td>美金 (USD)</td>\n",
              "      <td>29.62</td>\n",
              "      <td>30.29</td>\n",
              "      <td>29.97</td>\n",
              "      <td>30.07</td>\n",
              "    </tr>\n",
              "    <tr>\n",
              "      <th>2</th>\n",
              "      <td>2020/05/27</td>\n",
              "      <td>美金 (USD)</td>\n",
              "      <td>29.61</td>\n",
              "      <td>30.28</td>\n",
              "      <td>29.96</td>\n",
              "      <td>30.06</td>\n",
              "    </tr>\n",
              "    <tr>\n",
              "      <th>3</th>\n",
              "      <td>2020/05/26</td>\n",
              "      <td>美金 (USD)</td>\n",
              "      <td>29.56</td>\n",
              "      <td>30.23</td>\n",
              "      <td>29.91</td>\n",
              "      <td>30.01</td>\n",
              "    </tr>\n",
              "    <tr>\n",
              "      <th>4</th>\n",
              "      <td>2020/05/25</td>\n",
              "      <td>美金 (USD)</td>\n",
              "      <td>29.64</td>\n",
              "      <td>30.31</td>\n",
              "      <td>29.99</td>\n",
              "      <td>30.09</td>\n",
              "    </tr>\n",
              "  </tbody>\n",
              "</table>\n",
              "</div>"
            ],
            "text/plain": [
              "         掛牌日期        幣別  現金匯率買入  現金匯率賣出  即期匯率買入  即期匯率賣出\n",
              "0  2020/05/29  美金 (USD)   29.62   30.29   29.97   30.07\n",
              "1  2020/05/28  美金 (USD)   29.62   30.29   29.97   30.07\n",
              "2  2020/05/27  美金 (USD)   29.61   30.28   29.96   30.06\n",
              "3  2020/05/26  美金 (USD)   29.56   30.23   29.91   30.01\n",
              "4  2020/05/25  美金 (USD)   29.64   30.31   29.99   30.09"
            ]
          },
          "metadata": {
            "tags": []
          },
          "execution_count": 25
        }
      ]
    },
    {
      "cell_type": "code",
      "metadata": {
        "id": "zaYp_XQjVWs4",
        "colab_type": "code",
        "colab": {}
      },
      "source": [
        "df['掛牌日期'] = pandas.to_datetime(df['掛牌日期'], format = '%Y/%m/%d')\n",
        "df.set_index(df['掛牌日期'], inplace=True)"
      ],
      "execution_count": 0,
      "outputs": []
    },
    {
      "cell_type": "code",
      "metadata": {
        "id": "7bkQrNznV3ml",
        "colab_type": "code",
        "colab": {}
      },
      "source": [
        "df.sort_index(inplace=True)"
      ],
      "execution_count": 0,
      "outputs": []
    },
    {
      "cell_type": "markdown",
      "metadata": {
        "id": "iYO1mU9WWjCu",
        "colab_type": "text"
      },
      "source": [
        "### Data Visualization"
      ]
    },
    {
      "cell_type": "code",
      "metadata": {
        "id": "mq4pUeUUV88m",
        "colab_type": "code",
        "outputId": "f27eeb59-812b-46cc-8329-3432839e0e08",
        "colab": {
          "base_uri": "https://localhost:8080/",
          "height": 575
        }
      },
      "source": [
        "df['現金匯率買入'].plot(kind = 'line')"
      ],
      "execution_count": 34,
      "outputs": [
        {
          "output_type": "execute_result",
          "data": {
            "text/plain": [
              "<matplotlib.axes._subplots.AxesSubplot at 0x7f1f8868ff28>"
            ]
          },
          "metadata": {
            "tags": []
          },
          "execution_count": 34
        },
        {
          "output_type": "stream",
          "text": [
            "/usr/local/lib/python3.6/dist-packages/matplotlib/backends/backend_agg.py:214: RuntimeWarning: Glyph 25499 missing from current font.\n",
            "  font.set_text(s, 0.0, flags=flags)\n",
            "/usr/local/lib/python3.6/dist-packages/matplotlib/backends/backend_agg.py:214: RuntimeWarning: Glyph 29260 missing from current font.\n",
            "  font.set_text(s, 0.0, flags=flags)\n",
            "/usr/local/lib/python3.6/dist-packages/matplotlib/backends/backend_agg.py:214: RuntimeWarning: Glyph 26085 missing from current font.\n",
            "  font.set_text(s, 0.0, flags=flags)\n",
            "/usr/local/lib/python3.6/dist-packages/matplotlib/backends/backend_agg.py:214: RuntimeWarning: Glyph 26399 missing from current font.\n",
            "  font.set_text(s, 0.0, flags=flags)\n",
            "/usr/local/lib/python3.6/dist-packages/matplotlib/backends/backend_agg.py:183: RuntimeWarning: Glyph 25499 missing from current font.\n",
            "  font.set_text(s, 0, flags=flags)\n",
            "/usr/local/lib/python3.6/dist-packages/matplotlib/backends/backend_agg.py:183: RuntimeWarning: Glyph 29260 missing from current font.\n",
            "  font.set_text(s, 0, flags=flags)\n",
            "/usr/local/lib/python3.6/dist-packages/matplotlib/backends/backend_agg.py:183: RuntimeWarning: Glyph 26085 missing from current font.\n",
            "  font.set_text(s, 0, flags=flags)\n",
            "/usr/local/lib/python3.6/dist-packages/matplotlib/backends/backend_agg.py:183: RuntimeWarning: Glyph 26399 missing from current font.\n",
            "  font.set_text(s, 0, flags=flags)\n"
          ],
          "name": "stderr"
        },
        {
          "output_type": "display_data",
          "data": {
            "image/png": "[encoded data removed]",
            "text/plain": [
              "<Figure size 432x288 with 1 Axes>"
            ]
          },
          "metadata": {
            "tags": [],
            "needs_background": "light"
          }
        }
      ]
    },
    {
      "cell_type": "markdown",
      "metadata": {
        "id": "gDKcfi-dWmMP",
        "colab_type": "text"
      },
      "source": [
        "### Data Analysis"
      ]
    },
    {
      "cell_type": "code",
      "metadata": {
        "id": "kbi146AkWBMw",
        "colab_type": "code",
        "colab": {}
      },
      "source": [
        "df['ma30'] = df['現金匯率買入'].rolling(window = 30).mean()"
      ],
      "execution_count": 0,
      "outputs": []
    },
    {
      "cell_type": "code",
      "metadata": {
        "id": "RnCHPC8xXTyt",
        "colab_type": "code",
        "outputId": "772f1fb8-5e6a-4c30-f0b5-99e1728c256e",
        "colab": {
          "base_uri": "https://localhost:8080/",
          "height": 228
        }
      },
      "source": [
        "!wget -O /usr/share/fonts/truetype/liberation/simhei.ttf https://raw.githubusercontent.com/StellarCN/scp_zh/master/fonts/SimHei.ttf"
      ],
      "execution_count": 36,
      "outputs": [
        {
          "output_type": "stream",
          "text": [
            "--2020-05-31 12:03:41--  https://raw.githubusercontent.com/StellarCN/scp_zh/master/fonts/SimHei.ttf\n",
            "Resolving raw.githubusercontent.com (raw.githubusercontent.com)... 151.101.0.133, 151.101.64.133, 151.101.128.133, ...\n",
            "Connecting to raw.githubusercontent.com (raw.githubusercontent.com)|151.101.0.133|:443... connected.\n",
            "HTTP request sent, awaiting response... 200 OK\n",
            "Length: 9751960 (9.3M) [application/octet-stream]\n",
            "Saving to: ‘/usr/share/fonts/truetype/liberation/simhei.ttf’\n",
            "\n",
            "\r          /usr/shar   0%[                    ]       0  --.-KB/s               \r         /usr/share  19%[==>                 ]   1.86M  9.29MB/s               \r        /usr/share/  65%[============>       ]   6.06M  15.1MB/s               \r/usr/share/fonts/tr 100%[===================>]   9.30M  18.9MB/s    in 0.5s    \n",
            "\n",
            "2020-05-31 12:03:42 (18.9 MB/s) - ‘/usr/share/fonts/truetype/liberation/simhei.ttf’ saved [9751960/9751960]\n",
            "\n"
          ],
          "name": "stdout"
        }
      ]
    },
    {
      "cell_type": "code",
      "metadata": {
        "id": "PHBq3N2UXHnv",
        "colab_type": "code",
        "colab": {}
      },
      "source": [
        "import matplotlib.pyplot as plt\n",
        "import matplotlib as mpl\n",
        "mpl.rcParams['font.family'] = '/usr/share/fonts/truetype/liberation/simhei.ttf'\n",
        "zhfont = mpl.font_manager.FontProperties(fname='/usr/share/fonts/truetype/liberation/simhei.ttf')"
      ],
      "execution_count": 0,
      "outputs": []
    },
    {
      "cell_type": "code",
      "metadata": {
        "id": "Uvaeo-LUWPt_",
        "colab_type": "code",
        "outputId": "4d0cceaa-7d81-4694-b25d-bcad802df9af",
        "colab": {
          "base_uri": "https://localhost:8080/",
          "height": 1000
        }
      },
      "source": [
        "df[['現金匯率買入', 'ma30']].plot(kind = 'line')"
      ],
      "execution_count": 38,
      "outputs": [
        {
          "output_type": "execute_result",
          "data": {
            "text/plain": [
              "<matplotlib.axes._subplots.AxesSubplot at 0x7f1f8868f0b8>"
            ]
          },
          "metadata": {
            "tags": []
          },
          "execution_count": 38
        },
        {
          "output_type": "stream",
          "text": [
            "findfont: Font family ['/usr/share/fonts/truetype/liberation/simhei.ttf'] not found. Falling back to DejaVu Sans.\n",
            "/usr/local/lib/python3.6/dist-packages/matplotlib/backends/backend_agg.py:214: RuntimeWarning: Glyph 25499 missing from current font.\n",
            "  font.set_text(s, 0.0, flags=flags)\n",
            "/usr/local/lib/python3.6/dist-packages/matplotlib/backends/backend_agg.py:214: RuntimeWarning: Glyph 29260 missing from current font.\n",
            "  font.set_text(s, 0.0, flags=flags)\n",
            "/usr/local/lib/python3.6/dist-packages/matplotlib/backends/backend_agg.py:214: RuntimeWarning: Glyph 26085 missing from current font.\n",
            "  font.set_text(s, 0.0, flags=flags)\n",
            "/usr/local/lib/python3.6/dist-packages/matplotlib/backends/backend_agg.py:214: RuntimeWarning: Glyph 26399 missing from current font.\n",
            "  font.set_text(s, 0.0, flags=flags)\n",
            "/usr/local/lib/python3.6/dist-packages/matplotlib/backends/backend_agg.py:183: RuntimeWarning: Glyph 25499 missing from current font.\n",
            "  font.set_text(s, 0, flags=flags)\n",
            "/usr/local/lib/python3.6/dist-packages/matplotlib/backends/backend_agg.py:183: RuntimeWarning: Glyph 29260 missing from current font.\n",
            "  font.set_text(s, 0, flags=flags)\n",
            "/usr/local/lib/python3.6/dist-packages/matplotlib/backends/backend_agg.py:183: RuntimeWarning: Glyph 26085 missing from current font.\n",
            "  font.set_text(s, 0, flags=flags)\n",
            "/usr/local/lib/python3.6/dist-packages/matplotlib/backends/backend_agg.py:183: RuntimeWarning: Glyph 26399 missing from current font.\n",
            "  font.set_text(s, 0, flags=flags)\n",
            "/usr/local/lib/python3.6/dist-packages/matplotlib/backends/backend_agg.py:214: RuntimeWarning: Glyph 29694 missing from current font.\n",
            "  font.set_text(s, 0.0, flags=flags)\n",
            "/usr/local/lib/python3.6/dist-packages/matplotlib/backends/backend_agg.py:214: RuntimeWarning: Glyph 37329 missing from current font.\n",
            "  font.set_text(s, 0.0, flags=flags)\n",
            "/usr/local/lib/python3.6/dist-packages/matplotlib/backends/backend_agg.py:214: RuntimeWarning: Glyph 21295 missing from current font.\n",
            "  font.set_text(s, 0.0, flags=flags)\n",
            "/usr/local/lib/python3.6/dist-packages/matplotlib/backends/backend_agg.py:214: RuntimeWarning: Glyph 29575 missing from current font.\n",
            "  font.set_text(s, 0.0, flags=flags)\n",
            "/usr/local/lib/python3.6/dist-packages/matplotlib/backends/backend_agg.py:214: RuntimeWarning: Glyph 36023 missing from current font.\n",
            "  font.set_text(s, 0.0, flags=flags)\n",
            "/usr/local/lib/python3.6/dist-packages/matplotlib/backends/backend_agg.py:214: RuntimeWarning: Glyph 20837 missing from current font.\n",
            "  font.set_text(s, 0.0, flags=flags)\n",
            "/usr/local/lib/python3.6/dist-packages/matplotlib/backends/backend_agg.py:183: RuntimeWarning: Glyph 29694 missing from current font.\n",
            "  font.set_text(s, 0, flags=flags)\n",
            "/usr/local/lib/python3.6/dist-packages/matplotlib/backends/backend_agg.py:183: RuntimeWarning: Glyph 37329 missing from current font.\n",
            "  font.set_text(s, 0, flags=flags)\n",
            "/usr/local/lib/python3.6/dist-packages/matplotlib/backends/backend_agg.py:183: RuntimeWarning: Glyph 21295 missing from current font.\n",
            "  font.set_text(s, 0, flags=flags)\n",
            "/usr/local/lib/python3.6/dist-packages/matplotlib/backends/backend_agg.py:183: RuntimeWarning: Glyph 29575 missing from current font.\n",
            "  font.set_text(s, 0, flags=flags)\n",
            "/usr/local/lib/python3.6/dist-packages/matplotlib/backends/backend_agg.py:183: RuntimeWarning: Glyph 36023 missing from current font.\n",
            "  font.set_text(s, 0, flags=flags)\n",
            "/usr/local/lib/python3.6/dist-packages/matplotlib/backends/backend_agg.py:183: RuntimeWarning: Glyph 20837 missing from current font.\n",
            "  font.set_text(s, 0, flags=flags)\n"
          ],
          "name": "stderr"
        },
        {
          "output_type": "display_data",
          "data": {
            "image/png": "[encoded data removed]",
            "text/plain": [
              "<Figure size 432x288 with 1 Axes>"
            ]
          },
          "metadata": {
            "tags": [],
            "needs_background": "light"
          }
        }
      ]
    },
    {
      "cell_type": "code",
      "metadata": {
        "id": "Qn2h6hjZnuom",
        "colab_type": "code",
        "colab": {}
      },
      "source": [
        ""
      ],
      "execution_count": 0,
      "outputs": []
    },
    {
      "cell_type": "markdown",
      "metadata": {
        "id": "G7TfioCOcyVa",
        "colab_type": "text"
      },
      "source": [
        "## Numeric"
      ]
    },
    {
      "cell_type": "code",
      "metadata": {
        "id": "jrq5h3q0WTEs",
        "colab_type": "code",
        "outputId": "17f4bcf2-a816-4f59-8df1-274541106ffb",
        "colab": {
          "base_uri": "https://localhost:8080/",
          "height": 34
        }
      },
      "source": [
        "3 + 2 * 8"
      ],
      "execution_count": 0,
      "outputs": [
        {
          "output_type": "execute_result",
          "data": {
            "text/plain": [
              "19"
            ]
          },
          "metadata": {
            "tags": []
          },
          "execution_count": 1
        }
      ]
    },
    {
      "cell_type": "code",
      "metadata": {
        "id": "U002e6Y3c0l8",
        "colab_type": "code",
        "outputId": "0491e7bb-3525-4828-c931-fef1481c5a5f",
        "colab": {
          "base_uri": "https://localhost:8080/",
          "height": 34
        }
      },
      "source": [
        "a = 3\n",
        "b = 2\n",
        "a + b"
      ],
      "execution_count": 0,
      "outputs": [
        {
          "output_type": "execute_result",
          "data": {
            "text/plain": [
              "5"
            ]
          },
          "metadata": {
            "tags": []
          },
          "execution_count": 2
        }
      ]
    },
    {
      "cell_type": "code",
      "metadata": {
        "id": "S_zYW0Wmc9sI",
        "colab_type": "code",
        "outputId": "fec5fa95-23e6-4fb5-ae67-76bb097dea69",
        "colab": {
          "base_uri": "https://localhost:8080/",
          "height": 34
        }
      },
      "source": [
        "a - b"
      ],
      "execution_count": 0,
      "outputs": [
        {
          "output_type": "execute_result",
          "data": {
            "text/plain": [
              "1"
            ]
          },
          "metadata": {
            "tags": []
          },
          "execution_count": 3
        }
      ]
    },
    {
      "cell_type": "code",
      "metadata": {
        "id": "8NKev48Uc-9S",
        "colab_type": "code",
        "outputId": "0b377334-a866-4201-c1db-d70fde97d5d6",
        "colab": {
          "base_uri": "https://localhost:8080/",
          "height": 34
        }
      },
      "source": [
        "type(a)"
      ],
      "execution_count": 0,
      "outputs": [
        {
          "output_type": "execute_result",
          "data": {
            "text/plain": [
              "int"
            ]
          },
          "metadata": {
            "tags": []
          },
          "execution_count": 4
        }
      ]
    },
    {
      "cell_type": "code",
      "metadata": {
        "id": "WC6txNS5dGA5",
        "colab_type": "code",
        "colab": {}
      },
      "source": [
        "c = 1.5\n",
        "d = 2.5"
      ],
      "execution_count": 0,
      "outputs": []
    },
    {
      "cell_type": "code",
      "metadata": {
        "id": "X77ylDb7dLz8",
        "colab_type": "code",
        "outputId": "8f8753a7-2331-4951-9eb9-18e66793d8c2",
        "colab": {
          "base_uri": "https://localhost:8080/",
          "height": 34
        }
      },
      "source": [
        "c + d"
      ],
      "execution_count": 0,
      "outputs": [
        {
          "output_type": "execute_result",
          "data": {
            "text/plain": [
              "4.0"
            ]
          },
          "metadata": {
            "tags": []
          },
          "execution_count": 6
        }
      ]
    },
    {
      "cell_type": "code",
      "metadata": {
        "id": "p-and4ykdNDh",
        "colab_type": "code",
        "outputId": "12f599a0-17f4-4868-ac1e-27953e002450",
        "colab": {
          "base_uri": "https://localhost:8080/",
          "height": 34
        }
      },
      "source": [
        "c - d"
      ],
      "execution_count": 0,
      "outputs": [
        {
          "output_type": "execute_result",
          "data": {
            "text/plain": [
              "-1.0"
            ]
          },
          "metadata": {
            "tags": []
          },
          "execution_count": 7
        }
      ]
    },
    {
      "cell_type": "code",
      "metadata": {
        "id": "CtYxKqLgdOBj",
        "colab_type": "code",
        "outputId": "047eeec5-9ad5-4526-bf71-90abaf3ae3ce",
        "colab": {
          "base_uri": "https://localhost:8080/",
          "height": 34
        }
      },
      "source": [
        "type(c)"
      ],
      "execution_count": 0,
      "outputs": [
        {
          "output_type": "execute_result",
          "data": {
            "text/plain": [
              "float"
            ]
          },
          "metadata": {
            "tags": []
          },
          "execution_count": 8
        }
      ]
    },
    {
      "cell_type": "code",
      "metadata": {
        "id": "uokNBsludROo",
        "colab_type": "code",
        "outputId": "6483cb0b-953b-4765-bd7d-5640767b147d",
        "colab": {
          "base_uri": "https://localhost:8080/",
          "height": 34
        }
      },
      "source": [
        "a = '2'\n",
        "type(a)"
      ],
      "execution_count": 0,
      "outputs": [
        {
          "output_type": "execute_result",
          "data": {
            "text/plain": [
              "str"
            ]
          },
          "metadata": {
            "tags": []
          },
          "execution_count": 9
        }
      ]
    },
    {
      "cell_type": "code",
      "metadata": {
        "id": "fsdLlDynda1i",
        "colab_type": "code",
        "outputId": "b98551cc-dd89-4dec-a8ef-482d6229519e",
        "colab": {
          "base_uri": "https://localhost:8080/",
          "height": 34
        }
      },
      "source": [
        "int(a)"
      ],
      "execution_count": 0,
      "outputs": [
        {
          "output_type": "execute_result",
          "data": {
            "text/plain": [
              "2"
            ]
          },
          "metadata": {
            "tags": []
          },
          "execution_count": 10
        }
      ]
    },
    {
      "cell_type": "code",
      "metadata": {
        "id": "XnhurMQBdes_",
        "colab_type": "code",
        "outputId": "ad6a2e9e-33d7-469b-e9f5-6dd886125c07",
        "colab": {
          "base_uri": "https://localhost:8080/",
          "height": 34
        }
      },
      "source": [
        "type(int(a))"
      ],
      "execution_count": 0,
      "outputs": [
        {
          "output_type": "execute_result",
          "data": {
            "text/plain": [
              "int"
            ]
          },
          "metadata": {
            "tags": []
          },
          "execution_count": 11
        }
      ]
    },
    {
      "cell_type": "code",
      "metadata": {
        "id": "-uG3MG5adghL",
        "colab_type": "code",
        "outputId": "c31d0c10-73db-42fe-cd87-4a8e61904666",
        "colab": {
          "base_uri": "https://localhost:8080/",
          "height": 34
        }
      },
      "source": [
        "float(int(a))"
      ],
      "execution_count": 0,
      "outputs": [
        {
          "output_type": "execute_result",
          "data": {
            "text/plain": [
              "2.0"
            ]
          },
          "metadata": {
            "tags": []
          },
          "execution_count": 12
        }
      ]
    },
    {
      "cell_type": "code",
      "metadata": {
        "id": "VYCzrWBNdm3q",
        "colab_type": "code",
        "outputId": "76c03d2c-a3d2-4cdc-c2eb-fbe73ef59a73",
        "colab": {
          "base_uri": "https://localhost:8080/",
          "height": 34
        }
      },
      "source": [
        "type(float(int(a)))"
      ],
      "execution_count": 0,
      "outputs": [
        {
          "output_type": "execute_result",
          "data": {
            "text/plain": [
              "float"
            ]
          },
          "metadata": {
            "tags": []
          },
          "execution_count": 13
        }
      ]
    },
    {
      "cell_type": "code",
      "metadata": {
        "id": "vkzFIWpddrgc",
        "colab_type": "code",
        "outputId": "261d6b99-3b40-498c-cecc-66431cc5ea17",
        "colab": {
          "base_uri": "https://localhost:8080/",
          "height": 34
        }
      },
      "source": [
        "float('3.2')"
      ],
      "execution_count": 0,
      "outputs": [
        {
          "output_type": "execute_result",
          "data": {
            "text/plain": [
              "3.2"
            ]
          },
          "metadata": {
            "tags": []
          },
          "execution_count": 14
        }
      ]
    },
    {
      "cell_type": "code",
      "metadata": {
        "id": "tZmBVwlpdxGC",
        "colab_type": "code",
        "outputId": "033226c4-31d0-4426-c052-d396e5f51d34",
        "colab": {
          "base_uri": "https://localhost:8080/",
          "height": 34
        }
      },
      "source": [
        "a = 5\n",
        "a + a"
      ],
      "execution_count": 0,
      "outputs": [
        {
          "output_type": "execute_result",
          "data": {
            "text/plain": [
              "10"
            ]
          },
          "metadata": {
            "tags": []
          },
          "execution_count": 15
        }
      ]
    },
    {
      "cell_type": "code",
      "metadata": {
        "id": "_3YB0dO9eGnI",
        "colab_type": "code",
        "outputId": "6c8cab5c-52e2-4919-9312-fd0f6b0a579d",
        "colab": {
          "base_uri": "https://localhost:8080/",
          "height": 34
        }
      },
      "source": [
        "a = 10\n",
        "a"
      ],
      "execution_count": 0,
      "outputs": [
        {
          "output_type": "execute_result",
          "data": {
            "text/plain": [
              "10"
            ]
          },
          "metadata": {
            "tags": []
          },
          "execution_count": 16
        }
      ]
    },
    {
      "cell_type": "code",
      "metadata": {
        "id": "N_plb3xjeM4C",
        "colab_type": "code",
        "outputId": "d1061d25-b2f7-40f1-a395-28fcc90bc6f1",
        "colab": {
          "base_uri": "https://localhost:8080/",
          "height": 34
        }
      },
      "source": [
        "a = a + a\n",
        "a"
      ],
      "execution_count": 0,
      "outputs": [
        {
          "output_type": "execute_result",
          "data": {
            "text/plain": [
              "20"
            ]
          },
          "metadata": {
            "tags": []
          },
          "execution_count": 17
        }
      ]
    },
    {
      "cell_type": "code",
      "metadata": {
        "id": "j7QF8K9PeSjZ",
        "colab_type": "code",
        "colab": {}
      },
      "source": [
        "price = 49.99\n",
        "exchange_rate = 30.31"
      ],
      "execution_count": 0,
      "outputs": []
    },
    {
      "cell_type": "code",
      "metadata": {
        "id": "jaR1kuSNewPW",
        "colab_type": "code",
        "colab": {}
      },
      "source": [
        "ntd_price = price * exchange_rate"
      ],
      "execution_count": 0,
      "outputs": []
    },
    {
      "cell_type": "code",
      "metadata": {
        "id": "c32W2xHre1H8",
        "colab_type": "code",
        "outputId": "bfcebc27-6e42-484a-f626-a05c077d5a00",
        "colab": {
          "base_uri": "https://localhost:8080/",
          "height": 34
        }
      },
      "source": [
        "ntd_price"
      ],
      "execution_count": 0,
      "outputs": [
        {
          "output_type": "execute_result",
          "data": {
            "text/plain": [
              "1515.1969"
            ]
          },
          "metadata": {
            "tags": []
          },
          "execution_count": 22
        }
      ]
    },
    {
      "cell_type": "markdown",
      "metadata": {
        "id": "Jldvt0mxfb95",
        "colab_type": "text"
      },
      "source": [
        "## String"
      ]
    },
    {
      "cell_type": "code",
      "metadata": {
        "id": "CBssD0IafDGH",
        "colab_type": "code",
        "outputId": "f6d3aa37-c5c2-4a20-fe5b-4b5ffe349a92",
        "colab": {
          "base_uri": "https://localhost:8080/",
          "height": 34
        }
      },
      "source": [
        "'this is a string'"
      ],
      "execution_count": 0,
      "outputs": [
        {
          "output_type": "execute_result",
          "data": {
            "text/plain": [
              "'this is a string'"
            ]
          },
          "metadata": {
            "tags": []
          },
          "execution_count": 23
        }
      ]
    },
    {
      "cell_type": "code",
      "metadata": {
        "id": "RBURYGyBgT5F",
        "colab_type": "code",
        "outputId": "9c12640f-e75d-470c-a938-77e7af409cdf",
        "colab": {
          "base_uri": "https://localhost:8080/",
          "height": 34
        }
      },
      "source": [
        "\"this is also a string\""
      ],
      "execution_count": 0,
      "outputs": [
        {
          "output_type": "execute_result",
          "data": {
            "text/plain": [
              "'this is also a string'"
            ]
          },
          "metadata": {
            "tags": []
          },
          "execution_count": 24
        }
      ]
    },
    {
      "cell_type": "code",
      "metadata": {
        "id": "c9FOjyrwgWFw",
        "colab_type": "code",
        "outputId": "0cf0b765-eb22-4294-f9d1-d93ea96d63b0",
        "colab": {
          "base_uri": "https://localhost:8080/",
          "height": 34
        }
      },
      "source": [
        "'寶寶心理苦，但寶寶不說'"
      ],
      "execution_count": 0,
      "outputs": [
        {
          "output_type": "execute_result",
          "data": {
            "text/plain": [
              "'寶寶心理苦，但寶寶不說'"
            ]
          },
          "metadata": {
            "tags": []
          },
          "execution_count": 25
        }
      ]
    },
    {
      "cell_type": "code",
      "metadata": {
        "id": "TpTm9DGCggU-",
        "colab_type": "code",
        "outputId": "2f265c00-e237-410f-aaa7-e36f560a0207",
        "colab": {
          "base_uri": "https://localhost:8080/",
          "height": 34
        }
      },
      "source": [
        "'i wanna know 不說'"
      ],
      "execution_count": 0,
      "outputs": [
        {
          "output_type": "execute_result",
          "data": {
            "text/plain": [
              "'i wanna know 不說'"
            ]
          },
          "metadata": {
            "tags": []
          },
          "execution_count": 26
        }
      ]
    },
    {
      "cell_type": "code",
      "metadata": {
        "id": "JZFyxfU4glfQ",
        "colab_type": "code",
        "outputId": "a7afec12-fd7e-4e51-ec5f-26194e5e4698",
        "colab": {
          "base_uri": "https://localhost:8080/",
          "height": 34
        }
      },
      "source": [
        "'this is a string'\n",
        "\"this is also a string\""
      ],
      "execution_count": 0,
      "outputs": [
        {
          "output_type": "execute_result",
          "data": {
            "text/plain": [
              "'this is also a string'"
            ]
          },
          "metadata": {
            "tags": []
          },
          "execution_count": 27
        }
      ]
    },
    {
      "cell_type": "code",
      "metadata": {
        "id": "Up5qythqgt-0",
        "colab_type": "code",
        "outputId": "6998ac34-2f1b-4de8-a2d8-a2148d2a7ffb",
        "colab": {
          "base_uri": "https://localhost:8080/",
          "height": 51
        }
      },
      "source": [
        "print('this is a string')\n",
        "print(\"this is also a string\")"
      ],
      "execution_count": 0,
      "outputs": [
        {
          "output_type": "stream",
          "text": [
            "this is a string\n",
            "this is also a string\n"
          ],
          "name": "stdout"
        }
      ]
    },
    {
      "cell_type": "code",
      "metadata": {
        "id": "3so0rvn-g1Xj",
        "colab_type": "code",
        "outputId": "a2f93625-b82d-492b-b290-41f60f9075c0",
        "colab": {
          "base_uri": "https://localhost:8080/",
          "height": 51
        }
      },
      "source": [
        "print('Here is a new line \\n and here is the second line')"
      ],
      "execution_count": 0,
      "outputs": [
        {
          "output_type": "stream",
          "text": [
            "Here is a new line \n",
            " and here is the second line\n"
          ],
          "name": "stdout"
        }
      ]
    },
    {
      "cell_type": "code",
      "metadata": {
        "id": "1usLwCILg_HG",
        "colab_type": "code",
        "outputId": "38de6af1-01a1-40c5-f300-1c0450d9ae99",
        "colab": {
          "base_uri": "https://localhost:8080/",
          "height": 51
        }
      },
      "source": [
        "print(\"1 2 3\\n100 200 300\")"
      ],
      "execution_count": 0,
      "outputs": [
        {
          "output_type": "stream",
          "text": [
            "1 2 3\n",
            "100 200 300\n"
          ],
          "name": "stdout"
        }
      ]
    },
    {
      "cell_type": "code",
      "metadata": {
        "id": "bqOf-HqQhJY9",
        "colab_type": "code",
        "outputId": "0573a9bc-ef11-4922-d5e0-61d6c7183d58",
        "colab": {
          "base_uri": "https://localhost:8080/",
          "height": 51
        }
      },
      "source": [
        "print(\"1\\t2\\t3\\n100\\t200\\t300\")"
      ],
      "execution_count": 0,
      "outputs": [
        {
          "output_type": "stream",
          "text": [
            "1\t2\t3\n",
            "100\t200\t300\n"
          ],
          "name": "stdout"
        }
      ]
    },
    {
      "cell_type": "code",
      "metadata": {
        "id": "v0TP3PCChR7-",
        "colab_type": "code",
        "outputId": "45421cbe-c249-4f27-dfaf-79955a891021",
        "colab": {
          "base_uri": "https://localhost:8080/",
          "height": 34
        }
      },
      "source": [
        "a = 'this is a loooooooooooooooooooooooooooooooooooooooooooooooong line'\n",
        "a"
      ],
      "execution_count": 0,
      "outputs": [
        {
          "output_type": "execute_result",
          "data": {
            "text/plain": [
              "'this is a loooooooooooooooooooooooooooooooooooooooooooooooong line'"
            ]
          },
          "metadata": {
            "tags": []
          },
          "execution_count": 32
        }
      ]
    },
    {
      "cell_type": "code",
      "metadata": {
        "id": "KBJpv0cghbem",
        "colab_type": "code",
        "outputId": "0a75dde7-f1e2-411d-ec76-361b2e35427b",
        "colab": {
          "base_uri": "https://localhost:8080/",
          "height": 34
        }
      },
      "source": [
        "a = 'this is a looooooooooooooooooooooooo\\\n",
        "ooooooooooooooooooooooong line'\n",
        "a"
      ],
      "execution_count": 0,
      "outputs": [
        {
          "output_type": "execute_result",
          "data": {
            "text/plain": [
              "'this is a loooooooooooooooooooooooooooooooooooooooooooooooong line'"
            ]
          },
          "metadata": {
            "tags": []
          },
          "execution_count": 33
        }
      ]
    },
    {
      "cell_type": "code",
      "metadata": {
        "id": "BkhYacUjhg5J",
        "colab_type": "code",
        "outputId": "b08860c2-2485-40b9-8c6e-1b94282b3f37",
        "colab": {
          "base_uri": "https://localhost:8080/",
          "height": 34
        }
      },
      "source": [
        "'''Here is a new line\n",
        "and here is the second line'''"
      ],
      "execution_count": 0,
      "outputs": [
        {
          "output_type": "execute_result",
          "data": {
            "text/plain": [
              "'Here is a new line\\nand here is the second line'"
            ]
          },
          "metadata": {
            "tags": []
          },
          "execution_count": 34
        }
      ]
    },
    {
      "cell_type": "code",
      "metadata": {
        "id": "4TeKMjZFh62I",
        "colab_type": "code",
        "outputId": "2e2fb273-c3a9-42cf-f442-ad3f67ccb587",
        "colab": {
          "base_uri": "https://localhost:8080/",
          "height": 51
        }
      },
      "source": [
        "print('''Here is a new line\n",
        "and here is the second line''')"
      ],
      "execution_count": 0,
      "outputs": [
        {
          "output_type": "stream",
          "text": [
            "Here is a new line\n",
            "and here is the second line\n"
          ],
          "name": "stdout"
        }
      ]
    },
    {
      "cell_type": "code",
      "metadata": {
        "id": "q0alluACh_Kw",
        "colab_type": "code",
        "colab": {}
      },
      "source": [
        "s = 'Hello'"
      ],
      "execution_count": 0,
      "outputs": []
    },
    {
      "cell_type": "code",
      "metadata": {
        "id": "HbjKGPv4iObv",
        "colab_type": "code",
        "outputId": "a090b3bb-ae89-4838-f069-82df43634ed6",
        "colab": {
          "base_uri": "https://localhost:8080/",
          "height": 34
        }
      },
      "source": [
        "s[0]"
      ],
      "execution_count": 0,
      "outputs": [
        {
          "output_type": "execute_result",
          "data": {
            "text/plain": [
              "'H'"
            ]
          },
          "metadata": {
            "tags": []
          },
          "execution_count": 37
        }
      ]
    },
    {
      "cell_type": "code",
      "metadata": {
        "id": "94SwfwsLiPaC",
        "colab_type": "code",
        "outputId": "d9429223-f095-4efe-96c9-56fbe6d3b403",
        "colab": {
          "base_uri": "https://localhost:8080/",
          "height": 34
        }
      },
      "source": [
        "len(s)"
      ],
      "execution_count": 0,
      "outputs": [
        {
          "output_type": "execute_result",
          "data": {
            "text/plain": [
              "5"
            ]
          },
          "metadata": {
            "tags": []
          },
          "execution_count": 38
        }
      ]
    },
    {
      "cell_type": "code",
      "metadata": {
        "id": "aWlQBqYgiXKg",
        "colab_type": "code",
        "outputId": "fd61026e-c4dc-4b40-cc0c-bc14baf10e77",
        "colab": {
          "base_uri": "https://localhost:8080/",
          "height": 34
        }
      },
      "source": [
        "s[len(s) -1]"
      ],
      "execution_count": 0,
      "outputs": [
        {
          "output_type": "execute_result",
          "data": {
            "text/plain": [
              "'o'"
            ]
          },
          "metadata": {
            "tags": []
          },
          "execution_count": 39
        }
      ]
    },
    {
      "cell_type": "code",
      "metadata": {
        "id": "tvihYu3qibrb",
        "colab_type": "code",
        "outputId": "5375c378-9564-4bc8-df3f-6a90f1f466e4",
        "colab": {
          "base_uri": "https://localhost:8080/",
          "height": 34
        }
      },
      "source": [
        "s[-1]"
      ],
      "execution_count": 0,
      "outputs": [
        {
          "output_type": "execute_result",
          "data": {
            "text/plain": [
              "'o'"
            ]
          },
          "metadata": {
            "tags": []
          },
          "execution_count": 40
        }
      ]
    },
    {
      "cell_type": "code",
      "metadata": {
        "id": "WbgPvWf3if_m",
        "colab_type": "code",
        "outputId": "1efe7b88-917e-4c70-bb98-cc3012c2c147",
        "colab": {
          "base_uri": "https://localhost:8080/",
          "height": 34
        }
      },
      "source": [
        "s"
      ],
      "execution_count": 0,
      "outputs": [
        {
          "output_type": "execute_result",
          "data": {
            "text/plain": [
              "'Hello'"
            ]
          },
          "metadata": {
            "tags": []
          },
          "execution_count": 41
        }
      ]
    },
    {
      "cell_type": "code",
      "metadata": {
        "id": "8N4LoDcciqos",
        "colab_type": "code",
        "outputId": "5dfcadcd-82fb-4529-fb54-fa890934dfc9",
        "colab": {
          "base_uri": "https://localhost:8080/",
          "height": 34
        }
      },
      "source": [
        "# begin:end\n",
        "s[:]"
      ],
      "execution_count": 0,
      "outputs": [
        {
          "output_type": "execute_result",
          "data": {
            "text/plain": [
              "'Hello'"
            ]
          },
          "metadata": {
            "tags": []
          },
          "execution_count": 43
        }
      ]
    },
    {
      "cell_type": "code",
      "metadata": {
        "id": "iIVdmXbsisoS",
        "colab_type": "code",
        "outputId": "767813e9-a09b-4ab5-85c5-32cebc01743e",
        "colab": {
          "base_uri": "https://localhost:8080/",
          "height": 34
        }
      },
      "source": [
        "s[1:]"
      ],
      "execution_count": 0,
      "outputs": [
        {
          "output_type": "execute_result",
          "data": {
            "text/plain": [
              "'ello'"
            ]
          },
          "metadata": {
            "tags": []
          },
          "execution_count": 44
        }
      ]
    },
    {
      "cell_type": "code",
      "metadata": {
        "id": "k9B0ifBOi1Ai",
        "colab_type": "code",
        "outputId": "04adb895-1ba9-4782-e2bf-33611a42a71a",
        "colab": {
          "base_uri": "https://localhost:8080/",
          "height": 34
        }
      },
      "source": [
        "# get charater from 1, before 4\n",
        "# for(i = 0, i < 4; i++ )\n",
        "s[1:4]"
      ],
      "execution_count": 0,
      "outputs": [
        {
          "output_type": "execute_result",
          "data": {
            "text/plain": [
              "'ell'"
            ]
          },
          "metadata": {
            "tags": []
          },
          "execution_count": 45
        }
      ]
    },
    {
      "cell_type": "code",
      "metadata": {
        "id": "CQ0R86Czi8ZJ",
        "colab_type": "code",
        "outputId": "a4017cba-d446-4754-d072-bcb62cf09e6d",
        "colab": {
          "base_uri": "https://localhost:8080/",
          "height": 34
        }
      },
      "source": [
        "s[:3]"
      ],
      "execution_count": 0,
      "outputs": [
        {
          "output_type": "execute_result",
          "data": {
            "text/plain": [
              "'Hel'"
            ]
          },
          "metadata": {
            "tags": []
          },
          "execution_count": 46
        }
      ]
    },
    {
      "cell_type": "code",
      "metadata": {
        "id": "umrj4f-hjTWX",
        "colab_type": "code",
        "outputId": "6decb97e-691f-4cd6-d31d-eb0bcbaddd62",
        "colab": {
          "base_uri": "https://localhost:8080/",
          "height": 34
        }
      },
      "source": [
        "# begin:end:step\n",
        "s[::]"
      ],
      "execution_count": 0,
      "outputs": [
        {
          "output_type": "execute_result",
          "data": {
            "text/plain": [
              "'Hello'"
            ]
          },
          "metadata": {
            "tags": []
          },
          "execution_count": 48
        }
      ]
    },
    {
      "cell_type": "code",
      "metadata": {
        "id": "RriYm6-bjbf1",
        "colab_type": "code",
        "outputId": "3f94b35e-460d-411f-fdf2-71c7b8ad5e83",
        "colab": {
          "base_uri": "https://localhost:8080/",
          "height": 34
        }
      },
      "source": [
        "s[::2]"
      ],
      "execution_count": 0,
      "outputs": [
        {
          "output_type": "execute_result",
          "data": {
            "text/plain": [
              "'Hlo'"
            ]
          },
          "metadata": {
            "tags": []
          },
          "execution_count": 49
        }
      ]
    },
    {
      "cell_type": "code",
      "metadata": {
        "id": "Dqo4w_fwjhfc",
        "colab_type": "code",
        "outputId": "85d2de58-4569-4387-a8dd-6f81dc86b71c",
        "colab": {
          "base_uri": "https://localhost:8080/",
          "height": 34
        }
      },
      "source": [
        "s[1::2]"
      ],
      "execution_count": 0,
      "outputs": [
        {
          "output_type": "execute_result",
          "data": {
            "text/plain": [
              "'el'"
            ]
          },
          "metadata": {
            "tags": []
          },
          "execution_count": 50
        }
      ]
    },
    {
      "cell_type": "code",
      "metadata": {
        "id": "4zHEU2n0jpcx",
        "colab_type": "code",
        "outputId": "a0306bb7-44c7-4678-ef86-d299d73805eb",
        "colab": {
          "base_uri": "https://localhost:8080/",
          "height": 34
        }
      },
      "source": [
        "# for(i=len(s) -1 ; i> 0 ; i--)\n",
        "s[::-1]"
      ],
      "execution_count": 0,
      "outputs": [
        {
          "output_type": "execute_result",
          "data": {
            "text/plain": [
              "'olleH'"
            ]
          },
          "metadata": {
            "tags": []
          },
          "execution_count": 52
        }
      ]
    },
    {
      "cell_type": "code",
      "metadata": {
        "id": "09OVAiLijsqS",
        "colab_type": "code",
        "outputId": "4da58f30-5973-4959-f467-38b15512f1ea",
        "colab": {
          "base_uri": "https://localhost:8080/",
          "height": 34
        }
      },
      "source": [
        "s[::-2]"
      ],
      "execution_count": 0,
      "outputs": [
        {
          "output_type": "execute_result",
          "data": {
            "text/plain": [
              "'olH'"
            ]
          },
          "metadata": {
            "tags": []
          },
          "execution_count": 53
        }
      ]
    },
    {
      "cell_type": "code",
      "metadata": {
        "id": "32tdvnFJj2Od",
        "colab_type": "code",
        "outputId": "950a2791-4ee5-4261-a355-8feefdbd8d4c",
        "colab": {
          "base_uri": "https://localhost:8080/",
          "height": 34
        }
      },
      "source": [
        "s = 'madamimadam'\n",
        "s[::-1]"
      ],
      "execution_count": 0,
      "outputs": [
        {
          "output_type": "execute_result",
          "data": {
            "text/plain": [
              "'madamimadam'"
            ]
          },
          "metadata": {
            "tags": []
          },
          "execution_count": 58
        }
      ]
    },
    {
      "cell_type": "code",
      "metadata": {
        "id": "GNuWymmqkkEQ",
        "colab_type": "code",
        "outputId": "6c6c5aa0-3894-4612-8de9-b7b2f1948275",
        "colab": {
          "base_uri": "https://localhost:8080/",
          "height": 34
        }
      },
      "source": [
        "s == s[::-1]"
      ],
      "execution_count": 0,
      "outputs": [
        {
          "output_type": "execute_result",
          "data": {
            "text/plain": [
              "True"
            ]
          },
          "metadata": {
            "tags": []
          },
          "execution_count": 59
        }
      ]
    },
    {
      "cell_type": "code",
      "metadata": {
        "id": "u4o_OBNskmjL",
        "colab_type": "code",
        "outputId": "32ae8b4c-cf6c-4740-9f68-766b1cfaae72",
        "colab": {
          "base_uri": "https://localhost:8080/",
          "height": 34
        }
      },
      "source": [
        "s[0]"
      ],
      "execution_count": 0,
      "outputs": [
        {
          "output_type": "execute_result",
          "data": {
            "text/plain": [
              "'m'"
            ]
          },
          "metadata": {
            "tags": []
          },
          "execution_count": 61
        }
      ]
    },
    {
      "cell_type": "code",
      "metadata": {
        "id": "tRecN2hAk70Q",
        "colab_type": "code",
        "outputId": "1bdf2788-b570-4ef1-90b9-95ac09966e7b",
        "colab": {
          "base_uri": "https://localhost:8080/",
          "height": 164
        }
      },
      "source": [
        "s[0] = 'x'"
      ],
      "execution_count": 0,
      "outputs": [
        {
          "output_type": "error",
          "ename": "TypeError",
          "evalue": "ignored",
          "traceback": [
            "\u001b[0;31m---------------------------------------------------------------------------\u001b[0m",
            "\u001b[0;31mTypeError\u001b[0m                                 Traceback (most recent call last)",
            "\u001b[0;32m<ipython-input-62-fa085c53b004>\u001b[0m in \u001b[0;36m<module>\u001b[0;34m()\u001b[0m\n\u001b[0;32m----> 1\u001b[0;31m \u001b[0ms\u001b[0m\u001b[0;34m[\u001b[0m\u001b[0;36m0\u001b[0m\u001b[0;34m]\u001b[0m \u001b[0;34m=\u001b[0m \u001b[0;34m'x'\u001b[0m\u001b[0;34m\u001b[0m\u001b[0;34m\u001b[0m\u001b[0m\n\u001b[0m",
            "\u001b[0;31mTypeError\u001b[0m: 'str' object does not support item assignment"
          ]
        }
      ]
    },
    {
      "cell_type": "code",
      "metadata": {
        "id": "VmigdU-nk-2Q",
        "colab_type": "code",
        "outputId": "40e38184-ad2d-4ca5-ebe3-d6864e8c34a6",
        "colab": {
          "base_uri": "https://localhost:8080/",
          "height": 34
        }
      },
      "source": [
        "s = 'hello '\n",
        "s + 'world'"
      ],
      "execution_count": 0,
      "outputs": [
        {
          "output_type": "execute_result",
          "data": {
            "text/plain": [
              "'hello world'"
            ]
          },
          "metadata": {
            "tags": []
          },
          "execution_count": 63
        }
      ]
    },
    {
      "cell_type": "code",
      "metadata": {
        "id": "HqQUkMmzlG8V",
        "colab_type": "code",
        "outputId": "6aa076f9-6291-48f5-f7bd-4dfea8ef197d",
        "colab": {
          "base_uri": "https://localhost:8080/",
          "height": 34
        }
      },
      "source": [
        "letter = '?'\n",
        "letter * 10"
      ],
      "execution_count": 0,
      "outputs": [
        {
          "output_type": "execute_result",
          "data": {
            "text/plain": [
              "'??????????'"
            ]
          },
          "metadata": {
            "tags": []
          },
          "execution_count": 64
        }
      ]
    },
    {
      "cell_type": "code",
      "metadata": {
        "id": "menpd8RJlNyl",
        "colab_type": "code",
        "outputId": "47c1167c-776b-46e2-8aa7-e1c8ff26ed7b",
        "colab": {
          "base_uri": "https://localhost:8080/",
          "height": 54
        }
      },
      "source": [
        "letter = 'i am sorry! '\n",
        "letter * 10"
      ],
      "execution_count": 0,
      "outputs": [
        {
          "output_type": "execute_result",
          "data": {
            "text/plain": [
              "'i am sorry! i am sorry! i am sorry! i am sorry! i am sorry! i am sorry! i am sorry! i am sorry! i am sorry! i am sorry! '"
            ]
          },
          "metadata": {
            "tags": []
          },
          "execution_count": 66
        }
      ]
    },
    {
      "cell_type": "code",
      "metadata": {
        "id": "ASZb5Gi4lReA",
        "colab_type": "code",
        "outputId": "9c5da3e6-1d3b-47ce-d692-a8fd767a4ac2",
        "colab": {
          "base_uri": "https://localhost:8080/",
          "height": 54
        }
      },
      "source": [
        "print(dir(s))"
      ],
      "execution_count": 0,
      "outputs": [
        {
          "output_type": "stream",
          "text": [
            "['__add__', '__class__', '__contains__', '__delattr__', '__dir__', '__doc__', '__eq__', '__format__', '__ge__', '__getattribute__', '__getitem__', '__getnewargs__', '__gt__', '__hash__', '__init__', '__init_subclass__', '__iter__', '__le__', '__len__', '__lt__', '__mod__', '__mul__', '__ne__', '__new__', '__reduce__', '__reduce_ex__', '__repr__', '__rmod__', '__rmul__', '__setattr__', '__sizeof__', '__str__', '__subclasshook__', 'capitalize', 'casefold', 'center', 'count', 'encode', 'endswith', 'expandtabs', 'find', 'format', 'format_map', 'index', 'isalnum', 'isalpha', 'isdecimal', 'isdigit', 'isidentifier', 'islower', 'isnumeric', 'isprintable', 'isspace', 'istitle', 'isupper', 'join', 'ljust', 'lower', 'lstrip', 'maketrans', 'partition', 'replace', 'rfind', 'rindex', 'rjust', 'rpartition', 'rsplit', 'rstrip', 'split', 'splitlines', 'startswith', 'strip', 'swapcase', 'title', 'translate', 'upper', 'zfill']\n"
          ],
          "name": "stdout"
        }
      ]
    },
    {
      "cell_type": "code",
      "metadata": {
        "id": "JrIeqh5ulcGP",
        "colab_type": "code",
        "outputId": "6d86ddd5-15b3-46ee-9fb2-737917bb2986",
        "colab": {
          "base_uri": "https://localhost:8080/",
          "height": 34
        }
      },
      "source": [
        "s"
      ],
      "execution_count": 0,
      "outputs": [
        {
          "output_type": "execute_result",
          "data": {
            "text/plain": [
              "'hello '"
            ]
          },
          "metadata": {
            "tags": []
          },
          "execution_count": 69
        }
      ]
    },
    {
      "cell_type": "code",
      "metadata": {
        "id": "hln1STa3lsE9",
        "colab_type": "code",
        "outputId": "a9163ce4-efba-4d5e-f6af-ed2f840b38e6",
        "colab": {
          "base_uri": "https://localhost:8080/",
          "height": 34
        }
      },
      "source": [
        "s.upper()"
      ],
      "execution_count": 0,
      "outputs": [
        {
          "output_type": "execute_result",
          "data": {
            "text/plain": [
              "'HELLO '"
            ]
          },
          "metadata": {
            "tags": []
          },
          "execution_count": 70
        }
      ]
    },
    {
      "cell_type": "code",
      "metadata": {
        "id": "9_SghkUwltyj",
        "colab_type": "code",
        "outputId": "a0a4357d-0826-4441-e0ec-e12105c42f86",
        "colab": {
          "base_uri": "https://localhost:8080/",
          "height": 34
        }
      },
      "source": [
        "s.lower()"
      ],
      "execution_count": 0,
      "outputs": [
        {
          "output_type": "execute_result",
          "data": {
            "text/plain": [
              "'hello '"
            ]
          },
          "metadata": {
            "tags": []
          },
          "execution_count": 71
        }
      ]
    },
    {
      "cell_type": "code",
      "metadata": {
        "id": "J3BafT-nlvyG",
        "colab_type": "code",
        "outputId": "1e0cc33b-a742-45b0-91e0-33a4a643db21",
        "colab": {
          "base_uri": "https://localhost:8080/",
          "height": 137
        }
      },
      "source": [
        "help(s.upper)"
      ],
      "execution_count": 0,
      "outputs": [
        {
          "output_type": "stream",
          "text": [
            "Help on built-in function upper:\n",
            "\n",
            "upper(...) method of builtins.str instance\n",
            "    S.upper() -> str\n",
            "    \n",
            "    Return a copy of S converted to uppercase.\n",
            "\n"
          ],
          "name": "stdout"
        }
      ]
    },
    {
      "cell_type": "code",
      "metadata": {
        "id": "gtTVwteelz3J",
        "colab_type": "code",
        "colab": {}
      },
      "source": [
        "?s.upper"
      ],
      "execution_count": 0,
      "outputs": []
    },
    {
      "cell_type": "code",
      "metadata": {
        "id": "WWyfcBysl7m9",
        "colab_type": "code",
        "outputId": "271b0df6-3b7a-46de-de3b-040fdcec4575",
        "colab": {
          "base_uri": "https://localhost:8080/",
          "height": 34
        }
      },
      "source": [
        "s = 'hello world'\n",
        "s.split()"
      ],
      "execution_count": 0,
      "outputs": [
        {
          "output_type": "execute_result",
          "data": {
            "text/plain": [
              "['hello', 'world']"
            ]
          },
          "metadata": {
            "tags": []
          },
          "execution_count": 77
        }
      ]
    },
    {
      "cell_type": "code",
      "metadata": {
        "id": "MqMt353OnNnH",
        "colab_type": "code",
        "outputId": "7995341e-97fb-4b12-f83c-cc4908342442",
        "colab": {
          "base_uri": "https://localhost:8080/",
          "height": 34
        }
      },
      "source": [
        "len('hello world')"
      ],
      "execution_count": 0,
      "outputs": [
        {
          "output_type": "execute_result",
          "data": {
            "text/plain": [
              "11"
            ]
          },
          "metadata": {
            "tags": []
          },
          "execution_count": 78
        }
      ]
    },
    {
      "cell_type": "markdown",
      "metadata": {
        "id": "BRPyyDw-nU1W",
        "colab_type": "text"
      },
      "source": [
        "## Practice"
      ]
    },
    {
      "cell_type": "code",
      "metadata": {
        "id": "P93qT_3anREj",
        "colab_type": "code",
        "colab": {}
      },
      "source": [
        "s = '[問卦] 大家聽過點餐時問過最奇葩的問題是什麼?'"
      ],
      "execution_count": 0,
      "outputs": []
    },
    {
      "cell_type": "code",
      "metadata": {
        "id": "uPntOLxmnfVl",
        "colab_type": "code",
        "outputId": "bc33caa0-247b-4252-bebd-7830bbed3857",
        "colab": {
          "base_uri": "https://localhost:8080/",
          "height": 34
        }
      },
      "source": [
        "s[5:]"
      ],
      "execution_count": 0,
      "outputs": [
        {
          "output_type": "execute_result",
          "data": {
            "text/plain": [
              "'大家聽過點餐時問過最奇葩的問題是什麼?'"
            ]
          },
          "metadata": {
            "tags": []
          },
          "execution_count": 3
        }
      ]
    },
    {
      "cell_type": "code",
      "metadata": {
        "id": "Uz36p-Yc2NZ8",
        "colab_type": "code",
        "outputId": "ae825a2c-41bc-4a36-9eda-03be300b1d7d",
        "colab": {
          "base_uri": "https://localhost:8080/",
          "height": 34
        }
      },
      "source": [
        "s.split()[1]"
      ],
      "execution_count": 0,
      "outputs": [
        {
          "output_type": "execute_result",
          "data": {
            "text/plain": [
              "'大家聽過點餐時問過最奇葩的問題是什麼?'"
            ]
          },
          "metadata": {
            "tags": []
          },
          "execution_count": 5
        }
      ]
    },
    {
      "cell_type": "markdown",
      "metadata": {
        "id": "plGVHDT93Q_0",
        "colab_type": "text"
      },
      "source": [
        "## Python List"
      ]
    },
    {
      "cell_type": "code",
      "metadata": {
        "id": "_O-TFh4K2Vnk",
        "colab_type": "code",
        "outputId": "c8ff9714-6044-4f3e-f805-57a793cde5ad",
        "colab": {
          "base_uri": "https://localhost:8080/",
          "height": 34
        }
      },
      "source": [
        "a = []\n",
        "type(a)"
      ],
      "execution_count": 0,
      "outputs": [
        {
          "output_type": "execute_result",
          "data": {
            "text/plain": [
              "list"
            ]
          },
          "metadata": {
            "tags": []
          },
          "execution_count": 6
        }
      ]
    },
    {
      "cell_type": "code",
      "metadata": {
        "id": "Q76MnqSp3URV",
        "colab_type": "code",
        "colab": {}
      },
      "source": [
        "a = [1,2,3]"
      ],
      "execution_count": 0,
      "outputs": []
    },
    {
      "cell_type": "code",
      "metadata": {
        "id": "uZuawtcs3Yly",
        "colab_type": "code",
        "colab": {}
      },
      "source": [
        "a =['my string', 1, 2, 3, 1.234]"
      ],
      "execution_count": 0,
      "outputs": []
    },
    {
      "cell_type": "code",
      "metadata": {
        "id": "Yi5QKP_V3dzY",
        "colab_type": "code",
        "outputId": "42e8de07-069b-4f50-e147-c3924f77fbca",
        "colab": {
          "base_uri": "https://localhost:8080/",
          "height": 34
        }
      },
      "source": [
        "a[1] + 100"
      ],
      "execution_count": 0,
      "outputs": [
        {
          "output_type": "execute_result",
          "data": {
            "text/plain": [
              "101"
            ]
          },
          "metadata": {
            "tags": []
          },
          "execution_count": 10
        }
      ]
    },
    {
      "cell_type": "code",
      "metadata": {
        "id": "j8ajV5hZ3kCR",
        "colab_type": "code",
        "outputId": "143fb4b0-c12a-468c-8cca-6be8290d8261",
        "colab": {
          "base_uri": "https://localhost:8080/",
          "height": 34
        }
      },
      "source": [
        "a[0].upper()"
      ],
      "execution_count": 0,
      "outputs": [
        {
          "output_type": "execute_result",
          "data": {
            "text/plain": [
              "'MY STRING'"
            ]
          },
          "metadata": {
            "tags": []
          },
          "execution_count": 12
        }
      ]
    },
    {
      "cell_type": "code",
      "metadata": {
        "id": "qjhlzVzO3olt",
        "colab_type": "code",
        "outputId": "1c2339f8-fc92-4772-bfcc-9a5c435838f9",
        "colab": {
          "base_uri": "https://localhost:8080/",
          "height": 34
        }
      },
      "source": [
        "len(a)"
      ],
      "execution_count": 0,
      "outputs": [
        {
          "output_type": "execute_result",
          "data": {
            "text/plain": [
              "5"
            ]
          },
          "metadata": {
            "tags": []
          },
          "execution_count": 13
        }
      ]
    },
    {
      "cell_type": "code",
      "metadata": {
        "id": "ZaRZ8NcK3yUy",
        "colab_type": "code",
        "colab": {}
      },
      "source": [
        "a  = [5,6,7, 's']"
      ],
      "execution_count": 0,
      "outputs": []
    },
    {
      "cell_type": "code",
      "metadata": {
        "id": "WESf9F0s38QV",
        "colab_type": "code",
        "outputId": "531db3a2-50d9-4c25-ae9d-4b44567d2dc5",
        "colab": {
          "base_uri": "https://localhost:8080/",
          "height": 34
        }
      },
      "source": [
        "a[0]"
      ],
      "execution_count": 0,
      "outputs": [
        {
          "output_type": "execute_result",
          "data": {
            "text/plain": [
              "5"
            ]
          },
          "metadata": {
            "tags": []
          },
          "execution_count": 15
        }
      ]
    },
    {
      "cell_type": "code",
      "metadata": {
        "id": "IzZGRF-739v2",
        "colab_type": "code",
        "outputId": "4d820ee9-1e3d-4d9d-efa0-18dee899af2d",
        "colab": {
          "base_uri": "https://localhost:8080/",
          "height": 34
        }
      },
      "source": [
        "a[-1]"
      ],
      "execution_count": 0,
      "outputs": [
        {
          "output_type": "execute_result",
          "data": {
            "text/plain": [
              "'s'"
            ]
          },
          "metadata": {
            "tags": []
          },
          "execution_count": 16
        }
      ]
    },
    {
      "cell_type": "code",
      "metadata": {
        "id": "g-5hgO9y3_-A",
        "colab_type": "code",
        "outputId": "c76ec6af-4b9b-4d46-cc03-7b7766aa446e",
        "colab": {
          "base_uri": "https://localhost:8080/",
          "height": 34
        }
      },
      "source": [
        "a[2:4]"
      ],
      "execution_count": 0,
      "outputs": [
        {
          "output_type": "execute_result",
          "data": {
            "text/plain": [
              "[7, 's']"
            ]
          },
          "metadata": {
            "tags": []
          },
          "execution_count": 18
        }
      ]
    },
    {
      "cell_type": "code",
      "metadata": {
        "id": "ZLILcZOB4BnY",
        "colab_type": "code",
        "outputId": "90ba42cc-cd7e-472d-fa77-9e0f9c8aa696",
        "colab": {
          "base_uri": "https://localhost:8080/",
          "height": 34
        }
      },
      "source": [
        "a[2:100]"
      ],
      "execution_count": 0,
      "outputs": [
        {
          "output_type": "execute_result",
          "data": {
            "text/plain": [
              "[7, 's']"
            ]
          },
          "metadata": {
            "tags": []
          },
          "execution_count": 19
        }
      ]
    },
    {
      "cell_type": "code",
      "metadata": {
        "id": "8DsiiQYk4HOO",
        "colab_type": "code",
        "outputId": "8c93b8f1-25a9-46da-a1a7-f8d296f3770d",
        "colab": {
          "base_uri": "https://localhost:8080/",
          "height": 34
        }
      },
      "source": [
        "a[::2]"
      ],
      "execution_count": 0,
      "outputs": [
        {
          "output_type": "execute_result",
          "data": {
            "text/plain": [
              "[5, 7]"
            ]
          },
          "metadata": {
            "tags": []
          },
          "execution_count": 20
        }
      ]
    },
    {
      "cell_type": "code",
      "metadata": {
        "id": "g3jlwuD44ObF",
        "colab_type": "code",
        "outputId": "e834356a-9640-467c-c4f3-cc9036b582a5",
        "colab": {
          "base_uri": "https://localhost:8080/",
          "height": 34
        }
      },
      "source": [
        "a[::-1]"
      ],
      "execution_count": 0,
      "outputs": [
        {
          "output_type": "execute_result",
          "data": {
            "text/plain": [
              "['s', 7, 6, 5]"
            ]
          },
          "metadata": {
            "tags": []
          },
          "execution_count": 21
        }
      ]
    },
    {
      "cell_type": "code",
      "metadata": {
        "id": "sBZUBhMZ4Rtw",
        "colab_type": "code",
        "outputId": "5b25e013-8110-462c-ff9c-4f6d85c410a4",
        "colab": {
          "base_uri": "https://localhost:8080/",
          "height": 34
        }
      },
      "source": [
        "len(a)"
      ],
      "execution_count": 0,
      "outputs": [
        {
          "output_type": "execute_result",
          "data": {
            "text/plain": [
              "4"
            ]
          },
          "metadata": {
            "tags": []
          },
          "execution_count": 22
        }
      ]
    },
    {
      "cell_type": "code",
      "metadata": {
        "id": "zPkkYJbT4VG_",
        "colab_type": "code",
        "colab": {}
      },
      "source": [
        "a = [5,6,7,8]"
      ],
      "execution_count": 0,
      "outputs": []
    },
    {
      "cell_type": "code",
      "metadata": {
        "id": "OvbNr3Aa4e8u",
        "colab_type": "code",
        "outputId": "a08a1ef9-b482-4223-ab14-9f17af7b2d2f",
        "colab": {
          "base_uri": "https://localhost:8080/",
          "height": 34
        }
      },
      "source": [
        "a.pop()"
      ],
      "execution_count": 0,
      "outputs": [
        {
          "output_type": "execute_result",
          "data": {
            "text/plain": [
              "8"
            ]
          },
          "metadata": {
            "tags": []
          },
          "execution_count": 24
        }
      ]
    },
    {
      "cell_type": "code",
      "metadata": {
        "id": "El3Chzxq4ggt",
        "colab_type": "code",
        "outputId": "3ad078f7-0ede-4b14-c7cb-1e126590e0b9",
        "colab": {
          "base_uri": "https://localhost:8080/",
          "height": 34
        }
      },
      "source": [
        "a"
      ],
      "execution_count": 0,
      "outputs": [
        {
          "output_type": "execute_result",
          "data": {
            "text/plain": [
              "[5, 6, 7]"
            ]
          },
          "metadata": {
            "tags": []
          },
          "execution_count": 25
        }
      ]
    },
    {
      "cell_type": "code",
      "metadata": {
        "id": "sGcxB5Eg4hPr",
        "colab_type": "code",
        "colab": {}
      },
      "source": [
        "a.append(2)"
      ],
      "execution_count": 0,
      "outputs": []
    },
    {
      "cell_type": "code",
      "metadata": {
        "id": "DDcbdMk94mxW",
        "colab_type": "code",
        "outputId": "da275772-32bc-466e-d2af-e048217e1150",
        "colab": {
          "base_uri": "https://localhost:8080/",
          "height": 34
        }
      },
      "source": [
        "a"
      ],
      "execution_count": 0,
      "outputs": [
        {
          "output_type": "execute_result",
          "data": {
            "text/plain": [
              "[5, 6, 7, 2]"
            ]
          },
          "metadata": {
            "tags": []
          },
          "execution_count": 27
        }
      ]
    },
    {
      "cell_type": "code",
      "metadata": {
        "id": "1uDfs9s54n8W",
        "colab_type": "code",
        "colab": {}
      },
      "source": [
        "a.sort()"
      ],
      "execution_count": 0,
      "outputs": []
    },
    {
      "cell_type": "code",
      "metadata": {
        "id": "s__pdjNK4q5A",
        "colab_type": "code",
        "outputId": "c397008c-201a-4de4-b046-606d3497538e",
        "colab": {
          "base_uri": "https://localhost:8080/",
          "height": 34
        }
      },
      "source": [
        "a"
      ],
      "execution_count": 0,
      "outputs": [
        {
          "output_type": "execute_result",
          "data": {
            "text/plain": [
              "[2, 5, 6, 7]"
            ]
          },
          "metadata": {
            "tags": []
          },
          "execution_count": 29
        }
      ]
    },
    {
      "cell_type": "code",
      "metadata": {
        "id": "zUGKJo8j4sVB",
        "colab_type": "code",
        "colab": {}
      },
      "source": [
        "a.reverse()"
      ],
      "execution_count": 0,
      "outputs": []
    },
    {
      "cell_type": "code",
      "metadata": {
        "id": "rNmHK4yX4vao",
        "colab_type": "code",
        "outputId": "524f4c84-5230-40e7-a664-adcfa2e688b0",
        "colab": {
          "base_uri": "https://localhost:8080/",
          "height": 34
        }
      },
      "source": [
        "a"
      ],
      "execution_count": 0,
      "outputs": [
        {
          "output_type": "execute_result",
          "data": {
            "text/plain": [
              "[7, 6, 5, 2]"
            ]
          },
          "metadata": {
            "tags": []
          },
          "execution_count": 31
        }
      ]
    },
    {
      "cell_type": "code",
      "metadata": {
        "id": "wrxukZIG4wQ_",
        "colab_type": "code",
        "outputId": "a484f902-8a1b-4b2a-a262-3e4bd9acea88",
        "colab": {
          "base_uri": "https://localhost:8080/",
          "height": 34
        }
      },
      "source": [
        "list('a')"
      ],
      "execution_count": 0,
      "outputs": [
        {
          "output_type": "execute_result",
          "data": {
            "text/plain": [
              "['a']"
            ]
          },
          "metadata": {
            "tags": []
          },
          "execution_count": 32
        }
      ]
    },
    {
      "cell_type": "code",
      "metadata": {
        "id": "RzGeyAnO47Se",
        "colab_type": "code",
        "colab": {}
      },
      "source": [
        "hello = list('hello world')"
      ],
      "execution_count": 0,
      "outputs": []
    },
    {
      "cell_type": "code",
      "metadata": {
        "id": "TMOWYPV14-B1",
        "colab_type": "code",
        "outputId": "4458c110-038d-48f9-ac63-04e996adf3e9",
        "colab": {
          "base_uri": "https://localhost:8080/",
          "height": 34
        }
      },
      "source": [
        "hello"
      ],
      "execution_count": 0,
      "outputs": [
        {
          "output_type": "execute_result",
          "data": {
            "text/plain": [
              "['h', 'e', 'l', 'l', 'o', ' ', 'w', 'o', 'r', 'l', 'd']"
            ]
          },
          "metadata": {
            "tags": []
          },
          "execution_count": 34
        }
      ]
    },
    {
      "cell_type": "code",
      "metadata": {
        "id": "9xeoJLxW4-zA",
        "colab_type": "code",
        "outputId": "39b57888-c7cf-4fa9-aa8a-91fc88394cdd",
        "colab": {
          "base_uri": "https://localhost:8080/",
          "height": 34
        }
      },
      "source": [
        "'a' in hello"
      ],
      "execution_count": 0,
      "outputs": [
        {
          "output_type": "execute_result",
          "data": {
            "text/plain": [
              "False"
            ]
          },
          "metadata": {
            "tags": []
          },
          "execution_count": 35
        }
      ]
    },
    {
      "cell_type": "code",
      "metadata": {
        "id": "q1Lh1-ZI5G6-",
        "colab_type": "code",
        "outputId": "27ace899-1c4f-41be-e268-3698675f33b5",
        "colab": {
          "base_uri": "https://localhost:8080/",
          "height": 34
        }
      },
      "source": [
        "'h' in hello"
      ],
      "execution_count": 0,
      "outputs": [
        {
          "output_type": "execute_result",
          "data": {
            "text/plain": [
              "True"
            ]
          },
          "metadata": {
            "tags": []
          },
          "execution_count": 36
        }
      ]
    },
    {
      "cell_type": "code",
      "metadata": {
        "id": "0tsjxqpC5KyP",
        "colab_type": "code",
        "outputId": "e452ec3a-3692-44e3-bc51-7007862f93f8",
        "colab": {
          "base_uri": "https://localhost:8080/",
          "height": 34
        }
      },
      "source": [
        "a = '日本東京新聞引述消息人士指出，北韓領導人金正恩因新冠病毒相關原因，從平壤搬到元山市一棟別墅辦公，這可能是金正恩最近不見人影的原因。'\n",
        "'川普' in a"
      ],
      "execution_count": 0,
      "outputs": [
        {
          "output_type": "execute_result",
          "data": {
            "text/plain": [
              "False"
            ]
          },
          "metadata": {
            "tags": []
          },
          "execution_count": 37
        }
      ]
    },
    {
      "cell_type": "code",
      "metadata": {
        "id": "_LTo_5o-5cys",
        "colab_type": "code",
        "outputId": "1b8b8b0c-0c9b-4ba4-beea-10c27666eeba",
        "colab": {
          "base_uri": "https://localhost:8080/",
          "height": 34
        }
      },
      "source": [
        "a = 3\n",
        "b = a\n",
        "b"
      ],
      "execution_count": 0,
      "outputs": [
        {
          "output_type": "execute_result",
          "data": {
            "text/plain": [
              "3"
            ]
          },
          "metadata": {
            "tags": []
          },
          "execution_count": 38
        }
      ]
    },
    {
      "cell_type": "code",
      "metadata": {
        "id": "5Jhnvx005psl",
        "colab_type": "code",
        "colab": {}
      },
      "source": [
        "b = 5"
      ],
      "execution_count": 0,
      "outputs": []
    },
    {
      "cell_type": "code",
      "metadata": {
        "id": "sHHAWRwW5rGn",
        "colab_type": "code",
        "outputId": "17dc4ba2-caaf-439b-a4f0-e918f883a6c6",
        "colab": {
          "base_uri": "https://localhost:8080/",
          "height": 34
        }
      },
      "source": [
        "b"
      ],
      "execution_count": 0,
      "outputs": [
        {
          "output_type": "execute_result",
          "data": {
            "text/plain": [
              "5"
            ]
          },
          "metadata": {
            "tags": []
          },
          "execution_count": 40
        }
      ]
    },
    {
      "cell_type": "code",
      "metadata": {
        "id": "Xpy55iM05rgR",
        "colab_type": "code",
        "outputId": "03c14070-883a-4871-e555-9084da0191df",
        "colab": {
          "base_uri": "https://localhost:8080/",
          "height": 34
        }
      },
      "source": [
        "a"
      ],
      "execution_count": 0,
      "outputs": [
        {
          "output_type": "execute_result",
          "data": {
            "text/plain": [
              "3"
            ]
          },
          "metadata": {
            "tags": []
          },
          "execution_count": 41
        }
      ]
    },
    {
      "cell_type": "code",
      "metadata": {
        "id": "WVmG1yNy5sFu",
        "colab_type": "code",
        "colab": {}
      },
      "source": [
        "a = [1, 2, 3]\n",
        "b = a\n"
      ],
      "execution_count": 0,
      "outputs": []
    },
    {
      "cell_type": "code",
      "metadata": {
        "id": "3eeFNeAu5yel",
        "colab_type": "code",
        "colab": {}
      },
      "source": [
        "a[1] = 200"
      ],
      "execution_count": 0,
      "outputs": []
    },
    {
      "cell_type": "code",
      "metadata": {
        "id": "JE6P2_5K51UC",
        "colab_type": "code",
        "outputId": "b2c620c6-4258-4338-e66e-4b8b8fce5d09",
        "colab": {
          "base_uri": "https://localhost:8080/",
          "height": 34
        }
      },
      "source": [
        "a"
      ],
      "execution_count": 0,
      "outputs": [
        {
          "output_type": "execute_result",
          "data": {
            "text/plain": [
              "[1, 200, 3]"
            ]
          },
          "metadata": {
            "tags": []
          },
          "execution_count": 44
        }
      ]
    },
    {
      "cell_type": "code",
      "metadata": {
        "id": "pYWUL25_53z0",
        "colab_type": "code",
        "outputId": "d2cfadfb-52ff-46c7-db22-1616bf700916",
        "colab": {
          "base_uri": "https://localhost:8080/",
          "height": 34
        }
      },
      "source": [
        "b"
      ],
      "execution_count": 0,
      "outputs": [
        {
          "output_type": "execute_result",
          "data": {
            "text/plain": [
              "[1, 200, 3]"
            ]
          },
          "metadata": {
            "tags": []
          },
          "execution_count": 45
        }
      ]
    },
    {
      "cell_type": "code",
      "metadata": {
        "id": "wRyMFvjE549q",
        "colab_type": "code",
        "colab": {}
      },
      "source": [
        "a = [1,2,3]\n",
        "b = a.copy()"
      ],
      "execution_count": 0,
      "outputs": []
    },
    {
      "cell_type": "code",
      "metadata": {
        "id": "jAeevHLc6FB-",
        "colab_type": "code",
        "colab": {}
      },
      "source": [
        "a[1] = 2000"
      ],
      "execution_count": 0,
      "outputs": []
    },
    {
      "cell_type": "code",
      "metadata": {
        "id": "d-qbp2Tq6HPq",
        "colab_type": "code",
        "outputId": "37dafdb1-aef2-4881-cfb8-bba257e549cc",
        "colab": {
          "base_uri": "https://localhost:8080/",
          "height": 34
        }
      },
      "source": [
        "a"
      ],
      "execution_count": 0,
      "outputs": [
        {
          "output_type": "execute_result",
          "data": {
            "text/plain": [
              "[1, 2000, 3]"
            ]
          },
          "metadata": {
            "tags": []
          },
          "execution_count": 48
        }
      ]
    },
    {
      "cell_type": "code",
      "metadata": {
        "id": "q_ZxWjCy6Hoj",
        "colab_type": "code",
        "outputId": "e91be4f7-eba9-4f93-b622-d89b4a79cd56",
        "colab": {
          "base_uri": "https://localhost:8080/",
          "height": 34
        }
      },
      "source": [
        "b"
      ],
      "execution_count": 0,
      "outputs": [
        {
          "output_type": "execute_result",
          "data": {
            "text/plain": [
              "[1, 2, 3]"
            ]
          },
          "metadata": {
            "tags": []
          },
          "execution_count": 49
        }
      ]
    },
    {
      "cell_type": "markdown",
      "metadata": {
        "id": "xobQ0RJN7JqJ",
        "colab_type": "text"
      },
      "source": [
        "## Dictionary"
      ]
    },
    {
      "cell_type": "code",
      "metadata": {
        "id": "Co141aEA6IjH",
        "colab_type": "code",
        "colab": {}
      },
      "source": [
        "dic = {'a':100, 'b':\"yes\", 'c':0.98}"
      ],
      "execution_count": 0,
      "outputs": []
    },
    {
      "cell_type": "code",
      "metadata": {
        "id": "zuwIXKwe7aZw",
        "colab_type": "code",
        "outputId": "218c51ff-8e18-444d-c504-f4368fe43588",
        "colab": {
          "base_uri": "https://localhost:8080/",
          "height": 34
        }
      },
      "source": [
        "dic.keys()"
      ],
      "execution_count": 0,
      "outputs": [
        {
          "output_type": "execute_result",
          "data": {
            "text/plain": [
              "dict_keys(['a', 'b', 'c'])"
            ]
          },
          "metadata": {
            "tags": []
          },
          "execution_count": 51
        }
      ]
    },
    {
      "cell_type": "code",
      "metadata": {
        "id": "-5-P6nmj7dFi",
        "colab_type": "code",
        "outputId": "47e7275e-a530-4593-f234-b8c5e66355d3",
        "colab": {
          "base_uri": "https://localhost:8080/",
          "height": 34
        }
      },
      "source": [
        "dic.values()"
      ],
      "execution_count": 0,
      "outputs": [
        {
          "output_type": "execute_result",
          "data": {
            "text/plain": [
              "dict_values([100, 'yes', 0.98])"
            ]
          },
          "metadata": {
            "tags": []
          },
          "execution_count": 52
        }
      ]
    },
    {
      "cell_type": "code",
      "metadata": {
        "id": "wLegBcPd7fc6",
        "colab_type": "code",
        "outputId": "8d4ba765-55cb-48f7-96e3-47f62e702da0",
        "colab": {
          "base_uri": "https://localhost:8080/",
          "height": 34
        }
      },
      "source": [
        "dic['a']"
      ],
      "execution_count": 0,
      "outputs": [
        {
          "output_type": "execute_result",
          "data": {
            "text/plain": [
              "100"
            ]
          },
          "metadata": {
            "tags": []
          },
          "execution_count": 53
        }
      ]
    },
    {
      "cell_type": "code",
      "metadata": {
        "id": "IFPamuYB7kYx",
        "colab_type": "code",
        "outputId": "242a8e3e-9484-4a6c-dcb1-2d43dfe82352",
        "colab": {
          "base_uri": "https://localhost:8080/",
          "height": 164
        }
      },
      "source": [
        "dic['d']"
      ],
      "execution_count": 0,
      "outputs": [
        {
          "output_type": "error",
          "ename": "KeyError",
          "evalue": "ignored",
          "traceback": [
            "\u001b[0;31m---------------------------------------------------------------------------\u001b[0m",
            "\u001b[0;31mKeyError\u001b[0m                                  Traceback (most recent call last)",
            "\u001b[0;32m<ipython-input-54-2b1b63ca196d>\u001b[0m in \u001b[0;36m<module>\u001b[0;34m()\u001b[0m\n\u001b[0;32m----> 1\u001b[0;31m \u001b[0mdic\u001b[0m\u001b[0;34m[\u001b[0m\u001b[0;34m'd'\u001b[0m\u001b[0;34m]\u001b[0m\u001b[0;34m\u001b[0m\u001b[0;34m\u001b[0m\u001b[0m\n\u001b[0m",
            "\u001b[0;31mKeyError\u001b[0m: 'd'"
          ]
        }
      ]
    },
    {
      "cell_type": "code",
      "metadata": {
        "id": "-CF-pdsZ7oee",
        "colab_type": "code",
        "outputId": "15eb5d79-3250-45b0-bf9a-a45084bf4e4d",
        "colab": {
          "base_uri": "https://localhost:8080/",
          "height": 34
        }
      },
      "source": [
        "dic.get('a')"
      ],
      "execution_count": 0,
      "outputs": [
        {
          "output_type": "execute_result",
          "data": {
            "text/plain": [
              "100"
            ]
          },
          "metadata": {
            "tags": []
          },
          "execution_count": 55
        }
      ]
    },
    {
      "cell_type": "code",
      "metadata": {
        "id": "KldCuEq979hS",
        "colab_type": "code",
        "colab": {}
      },
      "source": [
        "dic.get('d')"
      ],
      "execution_count": 0,
      "outputs": []
    },
    {
      "cell_type": "code",
      "metadata": {
        "id": "loQ17vjf8Cu5",
        "colab_type": "code",
        "colab": {}
      },
      "source": [
        "?dic.get"
      ],
      "execution_count": 0,
      "outputs": []
    },
    {
      "cell_type": "code",
      "metadata": {
        "id": "bJuEP8iE8I9D",
        "colab_type": "code",
        "outputId": "6bbe0b88-fe96-428a-c919-1bd40b47d81e",
        "colab": {
          "base_uri": "https://localhost:8080/",
          "height": 34
        }
      },
      "source": [
        "print(dic.get('d'))"
      ],
      "execution_count": 0,
      "outputs": [
        {
          "output_type": "stream",
          "text": [
            "None\n"
          ],
          "name": "stdout"
        }
      ]
    },
    {
      "cell_type": "code",
      "metadata": {
        "id": "_CbIf28R8Qzm",
        "colab_type": "code",
        "outputId": "585a17ce-f41c-4c5b-c597-223091298224",
        "colab": {
          "base_uri": "https://localhost:8080/",
          "height": 34
        }
      },
      "source": [
        "dic.get('d', 'DEFAULT')"
      ],
      "execution_count": 0,
      "outputs": [
        {
          "output_type": "execute_result",
          "data": {
            "text/plain": [
              "'DEFAULT'"
            ]
          },
          "metadata": {
            "tags": []
          },
          "execution_count": 59
        }
      ]
    },
    {
      "cell_type": "code",
      "metadata": {
        "id": "7o2j_OOr8W-U",
        "colab_type": "code",
        "outputId": "3bdd249c-ec85-4b96-d619-ee1787144af1",
        "colab": {
          "base_uri": "https://localhost:8080/",
          "height": 34
        }
      },
      "source": [
        "dic.get('a', 'DEFAULT')"
      ],
      "execution_count": 0,
      "outputs": [
        {
          "output_type": "execute_result",
          "data": {
            "text/plain": [
              "100"
            ]
          },
          "metadata": {
            "tags": []
          },
          "execution_count": 60
        }
      ]
    },
    {
      "cell_type": "code",
      "metadata": {
        "id": "libloidi8Zd0",
        "colab_type": "code",
        "colab": {}
      },
      "source": [
        "dic['d'] = 'new'"
      ],
      "execution_count": 0,
      "outputs": []
    },
    {
      "cell_type": "code",
      "metadata": {
        "id": "auGTuMbq8j9_",
        "colab_type": "code",
        "outputId": "59d1ad22-2a50-4851-9669-aa87e18d681f",
        "colab": {
          "base_uri": "https://localhost:8080/",
          "height": 34
        }
      },
      "source": [
        "dic"
      ],
      "execution_count": 0,
      "outputs": [
        {
          "output_type": "execute_result",
          "data": {
            "text/plain": [
              "{'a': 100, 'b': 'yes', 'c': 0.98, 'd': 'new'}"
            ]
          },
          "metadata": {
            "tags": []
          },
          "execution_count": 62
        }
      ]
    },
    {
      "cell_type": "code",
      "metadata": {
        "id": "-gJDE0s08k3c",
        "colab_type": "code",
        "outputId": "c93aa087-ea8c-41da-94e0-4a25da865a09",
        "colab": {
          "base_uri": "https://localhost:8080/",
          "height": 34
        }
      },
      "source": [
        "dic['d'] = 'newnew'\n",
        "dic"
      ],
      "execution_count": 0,
      "outputs": [
        {
          "output_type": "execute_result",
          "data": {
            "text/plain": [
              "{'a': 100, 'b': 'yes', 'c': 0.98, 'd': 'newnew'}"
            ]
          },
          "metadata": {
            "tags": []
          },
          "execution_count": 63
        }
      ]
    },
    {
      "cell_type": "code",
      "metadata": {
        "id": "B_hs4W7i8qer",
        "colab_type": "code",
        "colab": {}
      },
      "source": [
        "dic2 = {'d':234, 'e':345}\n",
        "dic.update(dic2)"
      ],
      "execution_count": 0,
      "outputs": []
    },
    {
      "cell_type": "code",
      "metadata": {
        "id": "C-UCMyx883gM",
        "colab_type": "code",
        "outputId": "53d67383-44a4-4c0a-e274-5712fd21aca6",
        "colab": {
          "base_uri": "https://localhost:8080/",
          "height": 34
        }
      },
      "source": [
        "dic"
      ],
      "execution_count": 0,
      "outputs": [
        {
          "output_type": "execute_result",
          "data": {
            "text/plain": [
              "{'a': 100, 'b': 'yes', 'c': 0.98, 'd': 234, 'e': 345}"
            ]
          },
          "metadata": {
            "tags": []
          },
          "execution_count": 65
        }
      ]
    },
    {
      "cell_type": "markdown",
      "metadata": {
        "id": "k0xfToEy9YeK",
        "colab_type": "text"
      },
      "source": [
        "### 小任務\n",
        "\n",
        "我們希望建立一個對話機器人, 機器人裡面內建一個資料問答資料庫, 資料庫的問題跟答案如下所示:\n",
        "\n",
        "- 問題:我要保保險 答案: 以下是我們推薦的險總類\n",
        "- 問題:我要貸款 答案: 以下是我們推薦的貸款總類\n",
        "- 問題:我要查餘額 答案: 以下是您的銀行存款餘額\n",
        "\n",
        "\n",
        "希望你能用這個問答資料庫建立成一個Python 字典, 當使用者輸入問題時, 可以根據問答資料庫回答答案, 但是如果問題不在資料庫之中，請答：我現在還不聰明，等我變聰明以後再回答你"
      ]
    },
    {
      "cell_type": "code",
      "metadata": {
        "id": "xIkJwT3g99TV",
        "colab_type": "code",
        "colab": {}
      },
      "source": [
        "qa = {'我要保保險':'以下是我們推薦的險總類', \n",
        "      '我要貸款':'以下是我們推薦的貸款總類',\n",
        "      '我要查餘額':'以下是您的銀行存款餘額'}"
      ],
      "execution_count": 0,
      "outputs": []
    },
    {
      "cell_type": "code",
      "metadata": {
        "id": "TG4li3_S84vX",
        "colab_type": "code",
        "outputId": "41e580f2-df6c-411d-f7e8-22b53e8c15a2",
        "colab": {
          "base_uri": "https://localhost:8080/",
          "height": 51
        }
      },
      "source": [
        "question = input('請輸入你的問題?')\n",
        "print(qa.get(question, '我現在還不聰明，等我變聰明以後再回答你'))"
      ],
      "execution_count": 0,
      "outputs": [
        {
          "output_type": "stream",
          "text": [
            "請輸入你的問題?早安\n",
            "我現在還不聰明，等我變聰明以後再回答你\n"
          ],
          "name": "stdout"
        }
      ]
    },
    {
      "cell_type": "markdown",
      "metadata": {
        "id": "KKOBScSsE5Dx",
        "colab_type": "text"
      },
      "source": [
        "## Tuple"
      ]
    },
    {
      "cell_type": "code",
      "metadata": {
        "id": "KnM021OT90Zg",
        "colab_type": "code",
        "colab": {}
      },
      "source": [
        "a = {(1,2): 123, ('a','b') : 567}"
      ],
      "execution_count": 0,
      "outputs": []
    },
    {
      "cell_type": "code",
      "metadata": {
        "id": "WpG4ikKsFCS3",
        "colab_type": "code",
        "outputId": "3f5369b5-82e5-44c0-f12f-ef66a8aa6e19",
        "colab": {
          "base_uri": "https://localhost:8080/",
          "height": 54
        }
      },
      "source": [
        "print(dir(list))"
      ],
      "execution_count": 0,
      "outputs": [
        {
          "output_type": "stream",
          "text": [
            "['__add__', '__class__', '__contains__', '__delattr__', '__delitem__', '__dir__', '__doc__', '__eq__', '__format__', '__ge__', '__getattribute__', '__getitem__', '__gt__', '__hash__', '__iadd__', '__imul__', '__init__', '__init_subclass__', '__iter__', '__le__', '__len__', '__lt__', '__mul__', '__ne__', '__new__', '__reduce__', '__reduce_ex__', '__repr__', '__reversed__', '__rmul__', '__setattr__', '__setitem__', '__sizeof__', '__str__', '__subclasshook__', 'append', 'clear', 'copy', 'count', 'extend', 'index', 'insert', 'pop', 'remove', 'reverse', 'sort']\n"
          ],
          "name": "stdout"
        }
      ]
    },
    {
      "cell_type": "code",
      "metadata": {
        "id": "3kCXuwq7FMhO",
        "colab_type": "code",
        "outputId": "5cfe9f17-afc3-4fb0-87ad-f53ac0db9e4a",
        "colab": {
          "base_uri": "https://localhost:8080/",
          "height": 54
        }
      },
      "source": [
        "print(dir(tuple))"
      ],
      "execution_count": 0,
      "outputs": [
        {
          "output_type": "stream",
          "text": [
            "['__add__', '__class__', '__contains__', '__delattr__', '__dir__', '__doc__', '__eq__', '__format__', '__ge__', '__getattribute__', '__getitem__', '__getnewargs__', '__gt__', '__hash__', '__init__', '__init_subclass__', '__iter__', '__le__', '__len__', '__lt__', '__mul__', '__ne__', '__new__', '__reduce__', '__reduce_ex__', '__repr__', '__rmul__', '__setattr__', '__sizeof__', '__str__', '__subclasshook__', 'count', 'index']\n"
          ],
          "name": "stdout"
        }
      ]
    },
    {
      "cell_type": "code",
      "metadata": {
        "id": "eeaj28I_FTD-",
        "colab_type": "code",
        "colab": {}
      },
      "source": [
        "t = ('one', 2)"
      ],
      "execution_count": 0,
      "outputs": []
    },
    {
      "cell_type": "code",
      "metadata": {
        "id": "ZGmvfHcFFlZo",
        "colab_type": "code",
        "outputId": "b460db8e-0e4d-4479-f76e-cafd3612f57f",
        "colab": {
          "base_uri": "https://localhost:8080/",
          "height": 34
        }
      },
      "source": [
        "len(t)"
      ],
      "execution_count": 0,
      "outputs": [
        {
          "output_type": "execute_result",
          "data": {
            "text/plain": [
              "2"
            ]
          },
          "metadata": {
            "tags": []
          },
          "execution_count": 78
        }
      ]
    },
    {
      "cell_type": "code",
      "metadata": {
        "id": "3aKOmJckFm04",
        "colab_type": "code",
        "outputId": "9bfb0ff7-5bd9-40d2-a965-a190978dd7e4",
        "colab": {
          "base_uri": "https://localhost:8080/",
          "height": 34
        }
      },
      "source": [
        "t[0]"
      ],
      "execution_count": 0,
      "outputs": [
        {
          "output_type": "execute_result",
          "data": {
            "text/plain": [
              "'one'"
            ]
          },
          "metadata": {
            "tags": []
          },
          "execution_count": 79
        }
      ]
    },
    {
      "cell_type": "code",
      "metadata": {
        "id": "3N3tp5aLFoD1",
        "colab_type": "code",
        "outputId": "337f1202-998c-4ff1-927b-b2ec54cdaea5",
        "colab": {
          "base_uri": "https://localhost:8080/",
          "height": 34
        }
      },
      "source": [
        "t[-1]"
      ],
      "execution_count": 0,
      "outputs": [
        {
          "output_type": "execute_result",
          "data": {
            "text/plain": [
              "2"
            ]
          },
          "metadata": {
            "tags": []
          },
          "execution_count": 80
        }
      ]
    },
    {
      "cell_type": "code",
      "metadata": {
        "id": "BEs_5YjaFo6Q",
        "colab_type": "code",
        "outputId": "51f1dcc2-69b9-4e06-f9ac-d61f79f58de7",
        "colab": {
          "base_uri": "https://localhost:8080/",
          "height": 34
        }
      },
      "source": [
        "t.index('one')"
      ],
      "execution_count": 0,
      "outputs": [
        {
          "output_type": "execute_result",
          "data": {
            "text/plain": [
              "0"
            ]
          },
          "metadata": {
            "tags": []
          },
          "execution_count": 81
        }
      ]
    },
    {
      "cell_type": "code",
      "metadata": {
        "id": "_SH6ehseFtqQ",
        "colab_type": "code",
        "outputId": "ed53c578-f6b2-4619-ede2-c62de4cf4c39",
        "colab": {
          "base_uri": "https://localhost:8080/",
          "height": 34
        }
      },
      "source": [
        "t.count('one')"
      ],
      "execution_count": 0,
      "outputs": [
        {
          "output_type": "execute_result",
          "data": {
            "text/plain": [
              "1"
            ]
          },
          "metadata": {
            "tags": []
          },
          "execution_count": 82
        }
      ]
    },
    {
      "cell_type": "code",
      "metadata": {
        "id": "LSbYtuDGFyMx",
        "colab_type": "code",
        "outputId": "6598327b-31e8-4bb0-fd39-050489d81fc9",
        "colab": {
          "base_uri": "https://localhost:8080/",
          "height": 164
        }
      },
      "source": [
        "t[1] = 3"
      ],
      "execution_count": 0,
      "outputs": [
        {
          "output_type": "error",
          "ename": "TypeError",
          "evalue": "ignored",
          "traceback": [
            "\u001b[0;31m---------------------------------------------------------------------------\u001b[0m",
            "\u001b[0;31mTypeError\u001b[0m                                 Traceback (most recent call last)",
            "\u001b[0;32m<ipython-input-83-91448c5f771b>\u001b[0m in \u001b[0;36m<module>\u001b[0;34m()\u001b[0m\n\u001b[0;32m----> 1\u001b[0;31m \u001b[0mt\u001b[0m\u001b[0;34m[\u001b[0m\u001b[0;36m1\u001b[0m\u001b[0;34m]\u001b[0m \u001b[0;34m=\u001b[0m \u001b[0;36m3\u001b[0m\u001b[0;34m\u001b[0m\u001b[0;34m\u001b[0m\u001b[0m\n\u001b[0m",
            "\u001b[0;31mTypeError\u001b[0m: 'tuple' object does not support item assignment"
          ]
        }
      ]
    },
    {
      "cell_type": "code",
      "metadata": {
        "id": "gde4AtiCF5WI",
        "colab_type": "code",
        "outputId": "06104f5d-99e7-4dd6-b598-5ca8593a3843",
        "colab": {
          "base_uri": "https://localhost:8080/",
          "height": 164
        }
      },
      "source": [
        "t.append('nope')"
      ],
      "execution_count": 0,
      "outputs": [
        {
          "output_type": "error",
          "ename": "AttributeError",
          "evalue": "ignored",
          "traceback": [
            "\u001b[0;31m---------------------------------------------------------------------------\u001b[0m",
            "\u001b[0;31mAttributeError\u001b[0m                            Traceback (most recent call last)",
            "\u001b[0;32m<ipython-input-84-b75f5b09ac19>\u001b[0m in \u001b[0;36m<module>\u001b[0;34m()\u001b[0m\n\u001b[0;32m----> 1\u001b[0;31m \u001b[0mt\u001b[0m\u001b[0;34m.\u001b[0m\u001b[0mappend\u001b[0m\u001b[0;34m(\u001b[0m\u001b[0;34m'nope'\u001b[0m\u001b[0;34m)\u001b[0m\u001b[0;34m\u001b[0m\u001b[0;34m\u001b[0m\u001b[0m\n\u001b[0m",
            "\u001b[0;31mAttributeError\u001b[0m: 'tuple' object has no attribute 'append'"
          ]
        }
      ]
    },
    {
      "cell_type": "code",
      "metadata": {
        "id": "iJBDxPV6GAnB",
        "colab_type": "code",
        "colab": {}
      },
      "source": [
        "a = 1\n",
        "b = 2"
      ],
      "execution_count": 0,
      "outputs": []
    },
    {
      "cell_type": "code",
      "metadata": {
        "id": "hV3SMBgYGO9-",
        "colab_type": "code",
        "colab": {}
      },
      "source": [
        "a,b = 1,2"
      ],
      "execution_count": 0,
      "outputs": []
    },
    {
      "cell_type": "code",
      "metadata": {
        "id": "DomqcpwbGR5Z",
        "colab_type": "code",
        "outputId": "1f48b5b3-dc56-4e9a-d8d0-b91897ba4372",
        "colab": {
          "base_uri": "https://localhost:8080/",
          "height": 34
        }
      },
      "source": [
        "a"
      ],
      "execution_count": 0,
      "outputs": [
        {
          "output_type": "execute_result",
          "data": {
            "text/plain": [
              "1"
            ]
          },
          "metadata": {
            "tags": []
          },
          "execution_count": 87
        }
      ]
    },
    {
      "cell_type": "code",
      "metadata": {
        "id": "vT7MRa6cGXLt",
        "colab_type": "code",
        "outputId": "82c96293-7900-42d7-a48b-48fff535f5d5",
        "colab": {
          "base_uri": "https://localhost:8080/",
          "height": 34
        }
      },
      "source": [
        "b"
      ],
      "execution_count": 0,
      "outputs": [
        {
          "output_type": "execute_result",
          "data": {
            "text/plain": [
              "2"
            ]
          },
          "metadata": {
            "tags": []
          },
          "execution_count": 88
        }
      ]
    },
    {
      "cell_type": "code",
      "metadata": {
        "id": "PMJP5W5EGX1g",
        "colab_type": "code",
        "outputId": "7e7cc4f1-441f-4883-d5ea-4abb31be9aa1",
        "colab": {
          "base_uri": "https://localhost:8080/",
          "height": 34
        }
      },
      "source": [
        "a,b"
      ],
      "execution_count": 0,
      "outputs": [
        {
          "output_type": "execute_result",
          "data": {
            "text/plain": [
              "(1, 2)"
            ]
          },
          "metadata": {
            "tags": []
          },
          "execution_count": 89
        }
      ]
    },
    {
      "cell_type": "markdown",
      "metadata": {
        "id": "aSQ5gnwsGpDj",
        "colab_type": "text"
      },
      "source": [
        "## Set"
      ]
    },
    {
      "cell_type": "code",
      "metadata": {
        "id": "ks2K-FLoGZP3",
        "colab_type": "code",
        "outputId": "dcc4e076-cd2b-4f6d-ef6c-9e3531e57a2b",
        "colab": {
          "base_uri": "https://localhost:8080/",
          "height": 34
        }
      },
      "source": [
        "l1 = [1,1,1,2,2,1,3,3]\n",
        "set(l1)"
      ],
      "execution_count": 0,
      "outputs": [
        {
          "output_type": "execute_result",
          "data": {
            "text/plain": [
              "{1, 2, 3}"
            ]
          },
          "metadata": {
            "tags": []
          },
          "execution_count": 90
        }
      ]
    },
    {
      "cell_type": "code",
      "metadata": {
        "id": "3JEzmZfIG63z",
        "colab_type": "code",
        "outputId": "9ff99f12-7f7a-42fb-f441-a2f28a9225da",
        "colab": {
          "base_uri": "https://localhost:8080/",
          "height": 34
        }
      },
      "source": [
        "l2 = [3,3,3,4,5]\n",
        "set(l2)"
      ],
      "execution_count": 0,
      "outputs": [
        {
          "output_type": "execute_result",
          "data": {
            "text/plain": [
              "{3, 4, 5}"
            ]
          },
          "metadata": {
            "tags": []
          },
          "execution_count": 91
        }
      ]
    },
    {
      "cell_type": "code",
      "metadata": {
        "id": "Lf5CStNVHAxQ",
        "colab_type": "code",
        "outputId": "541b5145-7973-4c61-e6bf-2727d1525946",
        "colab": {
          "base_uri": "https://localhost:8080/",
          "height": 34
        }
      },
      "source": [
        "set(l1) & set(l2)"
      ],
      "execution_count": 0,
      "outputs": [
        {
          "output_type": "execute_result",
          "data": {
            "text/plain": [
              "{3}"
            ]
          },
          "metadata": {
            "tags": []
          },
          "execution_count": 92
        }
      ]
    },
    {
      "cell_type": "code",
      "metadata": {
        "id": "6hP7Dd6-HFRU",
        "colab_type": "code",
        "outputId": "dbb10216-b6f8-41ee-d4f1-56f4e0365345",
        "colab": {
          "base_uri": "https://localhost:8080/",
          "height": 34
        }
      },
      "source": [
        "set(l1) | set(l2)"
      ],
      "execution_count": 0,
      "outputs": [
        {
          "output_type": "execute_result",
          "data": {
            "text/plain": [
              "{1, 2, 3, 4, 5}"
            ]
          },
          "metadata": {
            "tags": []
          },
          "execution_count": 93
        }
      ]
    },
    {
      "cell_type": "code",
      "metadata": {
        "id": "ROonL6KKHHNb",
        "colab_type": "code",
        "outputId": "2833ef8a-942f-4c67-e1b2-6d834286cb03",
        "colab": {
          "base_uri": "https://localhost:8080/",
          "height": 34
        }
      },
      "source": [
        "set(l1) - set(l2)"
      ],
      "execution_count": 0,
      "outputs": [
        {
          "output_type": "execute_result",
          "data": {
            "text/plain": [
              "{1, 2}"
            ]
          },
          "metadata": {
            "tags": []
          },
          "execution_count": 94
        }
      ]
    },
    {
      "cell_type": "markdown",
      "metadata": {
        "id": "dZ3JO_tIH1Jp",
        "colab_type": "text"
      },
      "source": [
        "## Control Flow"
      ]
    },
    {
      "cell_type": "code",
      "metadata": {
        "id": "I4NgGrl2HJdB",
        "colab_type": "code",
        "colab": {}
      },
      "source": [
        "# if(a > 3){\n",
        "#    System.out.println(a);\n",
        "# }\n",
        "#"
      ],
      "execution_count": 0,
      "outputs": []
    },
    {
      "cell_type": "code",
      "metadata": {
        "id": "sGLZSe6MIBhn",
        "colab_type": "code",
        "outputId": "82355fac-29ff-481a-9027-2b0b97feead6",
        "colab": {
          "base_uri": "https://localhost:8080/",
          "height": 34
        }
      },
      "source": [
        "a = 5\n",
        "if a > 3:\n",
        "                                                              print(a)"
      ],
      "execution_count": 0,
      "outputs": [
        {
          "output_type": "stream",
          "text": [
            "5\n"
          ],
          "name": "stdout"
        }
      ]
    },
    {
      "cell_type": "code",
      "metadata": {
        "id": "UTzkL2MnIK9r",
        "colab_type": "code",
        "outputId": "d5462d90-ed75-401b-d64f-510b3674b127",
        "colab": {
          "base_uri": "https://localhost:8080/",
          "height": 34
        }
      },
      "source": [
        "if True:\n",
        "  print('It was true!')"
      ],
      "execution_count": 0,
      "outputs": [
        {
          "output_type": "stream",
          "text": [
            "It was true!\n"
          ],
          "name": "stdout"
        }
      ]
    },
    {
      "cell_type": "code",
      "metadata": {
        "id": "-qbn0VQ2JACT",
        "colab_type": "code",
        "outputId": "a19a9396-345d-4cda-9390-17e38b49bad0",
        "colab": {
          "base_uri": "https://localhost:8080/",
          "height": 34
        }
      },
      "source": [
        "x = False\n",
        "if x:\n",
        "  print('x was True!')\n",
        "else:\n",
        "  print('I will be printed in any case where x is not true')"
      ],
      "execution_count": 0,
      "outputs": [
        {
          "output_type": "stream",
          "text": [
            "I will be printed in any case where x is not true\n"
          ],
          "name": "stdout"
        }
      ]
    },
    {
      "cell_type": "code",
      "metadata": {
        "id": "ncYO379WJL9S",
        "colab_type": "code",
        "outputId": "2db01c5e-105a-4e71-eec8-ecd665172de4",
        "colab": {
          "base_uri": "https://localhost:8080/",
          "height": 34
        }
      },
      "source": [
        "deposit= 55000\n",
        "if deposit> 30000:\n",
        "  print('Buy iPhone')\n",
        "elif deposit> 20000:\n",
        "  print('Buy Oppo')\n",
        "else:\n",
        "  print('Save More Money')"
      ],
      "execution_count": 0,
      "outputs": [
        {
          "output_type": "stream",
          "text": [
            "Buy iPhone\n"
          ],
          "name": "stdout"
        }
      ]
    },
    {
      "cell_type": "code",
      "metadata": {
        "id": "6GRtyZIxJh3o",
        "colab_type": "code",
        "outputId": "8f5b9c6c-3840-4d89-ae91-963f7509390d",
        "colab": {
          "base_uri": "https://localhost:8080/",
          "height": 188
        }
      },
      "source": [
        "l = [1,2,3,4,5,6,7,8,9,10]\n",
        "for num in l:\n",
        "  print(num)"
      ],
      "execution_count": 0,
      "outputs": [
        {
          "output_type": "stream",
          "text": [
            "1\n",
            "2\n",
            "3\n",
            "4\n",
            "5\n",
            "6\n",
            "7\n",
            "8\n",
            "9\n",
            "10\n"
          ],
          "name": "stdout"
        }
      ]
    },
    {
      "cell_type": "code",
      "metadata": {
        "id": "0xh3mnJBK47j",
        "colab_type": "code",
        "outputId": "84b0fbc2-6d41-40f9-f62a-b377762f8533",
        "colab": {
          "base_uri": "https://localhost:8080/",
          "height": 188
        }
      },
      "source": [
        "l = [1,2,3,4,5,6,7,8,9,10]\n",
        "for qoo in l:\n",
        "  print(qoo)"
      ],
      "execution_count": 0,
      "outputs": [
        {
          "output_type": "stream",
          "text": [
            "1\n",
            "2\n",
            "3\n",
            "4\n",
            "5\n",
            "6\n",
            "7\n",
            "8\n",
            "9\n",
            "10\n"
          ],
          "name": "stdout"
        }
      ]
    },
    {
      "cell_type": "code",
      "metadata": {
        "id": "UmT_ks58LAwo",
        "colab_type": "code",
        "outputId": "ecbdaf10-497c-4ee9-89ad-85d19e3ba9f1",
        "colab": {
          "base_uri": "https://localhost:8080/",
          "height": 188
        }
      },
      "source": [
        "# range(起點,終點)\n",
        "for num in range(1,11):\n",
        "  print(num)"
      ],
      "execution_count": 0,
      "outputs": [
        {
          "output_type": "stream",
          "text": [
            "1\n",
            "2\n",
            "3\n",
            "4\n",
            "5\n",
            "6\n",
            "7\n",
            "8\n",
            "9\n",
            "10\n"
          ],
          "name": "stdout"
        }
      ]
    },
    {
      "cell_type": "code",
      "metadata": {
        "id": "dlFF-awQLTuv",
        "colab_type": "code",
        "outputId": "8cb103dc-63f3-4c65-9b4f-602017723c91",
        "colab": {
          "base_uri": "https://localhost:8080/",
          "height": 34
        }
      },
      "source": [
        "list_sum = 0\n",
        "for num in range(1,101):\n",
        "  list_sum = list_sum + num\n",
        "print(list_sum)"
      ],
      "execution_count": 0,
      "outputs": [
        {
          "output_type": "stream",
          "text": [
            "5050\n"
          ],
          "name": "stdout"
        }
      ]
    },
    {
      "cell_type": "code",
      "metadata": {
        "id": "x2SksZBtLoBW",
        "colab_type": "code",
        "outputId": "e122ee56-f185-46ec-d4df-3be4360c278a",
        "colab": {
          "base_uri": "https://localhost:8080/",
          "height": 34
        }
      },
      "source": [
        "list_sum = 0\n",
        "for num in range(1,101):\n",
        "  list_sum += num\n",
        "print(list_sum)"
      ],
      "execution_count": 0,
      "outputs": [
        {
          "output_type": "stream",
          "text": [
            "5050\n"
          ],
          "name": "stdout"
        }
      ]
    },
    {
      "cell_type": "code",
      "metadata": {
        "id": "64LZC1UCL_4S",
        "colab_type": "code",
        "outputId": "8395f20d-9bf0-404f-a93d-d72631faf0b7",
        "colab": {
          "base_uri": "https://localhost:8080/",
          "height": 34
        }
      },
      "source": [
        "sum = 0\n",
        "for num in range(1,101):\n",
        "  sum += num\n",
        "print(sum)"
      ],
      "execution_count": 0,
      "outputs": [
        {
          "output_type": "stream",
          "text": [
            "5050\n"
          ],
          "name": "stdout"
        }
      ]
    },
    {
      "cell_type": "code",
      "metadata": {
        "id": "43TOZfN4MTdM",
        "colab_type": "code",
        "colab": {}
      },
      "source": [
        "del sum"
      ],
      "execution_count": 0,
      "outputs": []
    },
    {
      "cell_type": "code",
      "metadata": {
        "id": "OVC-9EGtLxIx",
        "colab_type": "code",
        "outputId": "c90e6deb-5f25-4d14-c394-fabfda8da884",
        "colab": {
          "base_uri": "https://localhost:8080/",
          "height": 34
        }
      },
      "source": [
        "sum(range(1,101))"
      ],
      "execution_count": 0,
      "outputs": [
        {
          "output_type": "execute_result",
          "data": {
            "text/plain": [
              "5050"
            ]
          },
          "metadata": {
            "tags": []
          },
          "execution_count": 118
        }
      ]
    },
    {
      "cell_type": "code",
      "metadata": {
        "id": "A3hvyB7YL3S7",
        "colab_type": "code",
        "outputId": "1df0887d-599c-46dd-8045-decd0907a137",
        "colab": {
          "base_uri": "https://localhost:8080/",
          "height": 291
        }
      },
      "source": [
        "for letter in 'This is a string':\n",
        "  print(letter)\n"
      ],
      "execution_count": 0,
      "outputs": [
        {
          "output_type": "stream",
          "text": [
            "T\n",
            "h\n",
            "i\n",
            "s\n",
            " \n",
            "i\n",
            "s\n",
            " \n",
            "a\n",
            " \n",
            "s\n",
            "t\n",
            "r\n",
            "i\n",
            "n\n",
            "g\n"
          ],
          "name": "stdout"
        }
      ]
    },
    {
      "cell_type": "code",
      "metadata": {
        "id": "0fv9XgibMg3X",
        "colab_type": "code",
        "outputId": "907060f1-1b09-4d1f-dc4f-d889684aab9a",
        "colab": {
          "base_uri": "https://localhost:8080/",
          "height": 103
        }
      },
      "source": [
        "tup = (1,2,3,4,5)\n",
        "for t in tup:\n",
        "  print(t)"
      ],
      "execution_count": 0,
      "outputs": [
        {
          "output_type": "stream",
          "text": [
            "1\n",
            "2\n",
            "3\n",
            "4\n",
            "5\n"
          ],
          "name": "stdout"
        }
      ]
    },
    {
      "cell_type": "code",
      "metadata": {
        "id": "MjnLf-WHMkag",
        "colab_type": "code",
        "colab": {}
      },
      "source": [
        "l = [(2,4),(6,8),(10,12)]"
      ],
      "execution_count": 0,
      "outputs": []
    },
    {
      "cell_type": "code",
      "metadata": {
        "id": "w2nfjBBUMqjV",
        "colab_type": "code",
        "outputId": "eb73ab2a-bc2a-4e15-fa4b-114451fd8149",
        "colab": {
          "base_uri": "https://localhost:8080/",
          "height": 68
        }
      },
      "source": [
        "for tup in l:\n",
        "  print(tup)"
      ],
      "execution_count": 0,
      "outputs": [
        {
          "output_type": "stream",
          "text": [
            "(2, 4)\n",
            "(6, 8)\n",
            "(10, 12)\n"
          ],
          "name": "stdout"
        }
      ]
    },
    {
      "cell_type": "code",
      "metadata": {
        "id": "68BiHq8pMuTp",
        "colab_type": "code",
        "outputId": "63c42170-e74e-4f22-f63f-aa1f91e4e073",
        "colab": {
          "base_uri": "https://localhost:8080/",
          "height": 68
        }
      },
      "source": [
        "for tup in l:\n",
        "  t1 = tup[0]\n",
        "  t2 = tup[1]\n",
        "  print(t1,t2)"
      ],
      "execution_count": 0,
      "outputs": [
        {
          "output_type": "stream",
          "text": [
            "2 4\n",
            "6 8\n",
            "10 12\n"
          ],
          "name": "stdout"
        }
      ]
    },
    {
      "cell_type": "code",
      "metadata": {
        "id": "qiYsb3klM4y4",
        "colab_type": "code",
        "outputId": "2644c39e-5ccc-403e-c34e-f3d3b72d66cf",
        "colab": {
          "base_uri": "https://localhost:8080/",
          "height": 68
        }
      },
      "source": [
        "for t1,t2 in l:\n",
        "  print(t1,t2)"
      ],
      "execution_count": 0,
      "outputs": [
        {
          "output_type": "stream",
          "text": [
            "2 4\n",
            "6 8\n",
            "10 12\n"
          ],
          "name": "stdout"
        }
      ]
    },
    {
      "cell_type": "code",
      "metadata": {
        "id": "hKPFS7apM9vR",
        "colab_type": "code",
        "outputId": "2a50c567-93e0-4e53-c8c4-b5c2709b007d",
        "colab": {
          "base_uri": "https://localhost:8080/",
          "height": 68
        }
      },
      "source": [
        "d = {'k1':1,'k2':2,'k3':3}\n",
        "for item in d:\n",
        "  print(item)"
      ],
      "execution_count": 0,
      "outputs": [
        {
          "output_type": "stream",
          "text": [
            "k1\n",
            "k2\n",
            "k3\n"
          ],
          "name": "stdout"
        }
      ]
    },
    {
      "cell_type": "code",
      "metadata": {
        "id": "THLZc4SBNEsl",
        "colab_type": "code",
        "outputId": "a849eff3-29f0-4a38-8038-a00a1a8225a3",
        "colab": {
          "base_uri": "https://localhost:8080/",
          "height": 68
        }
      },
      "source": [
        "d = {'k1':1,'k2':2,'k3':3}\n",
        "for item in d:\n",
        "  print(item, d.get(item))"
      ],
      "execution_count": 0,
      "outputs": [
        {
          "output_type": "stream",
          "text": [
            "k1 1\n",
            "k2 2\n",
            "k3 3\n"
          ],
          "name": "stdout"
        }
      ]
    },
    {
      "cell_type": "code",
      "metadata": {
        "id": "Qe3j2phoNLQF",
        "colab_type": "code",
        "outputId": "6f00c498-11ae-43a0-8bdd-c3b811da681e",
        "colab": {
          "base_uri": "https://localhost:8080/",
          "height": 34
        }
      },
      "source": [
        "d.items()"
      ],
      "execution_count": 0,
      "outputs": [
        {
          "output_type": "execute_result",
          "data": {
            "text/plain": [
              "dict_items([('k1', 1), ('k2', 2), ('k3', 3)])"
            ]
          },
          "metadata": {
            "tags": []
          },
          "execution_count": 127
        }
      ]
    },
    {
      "cell_type": "code",
      "metadata": {
        "id": "kFiScgXNNPbQ",
        "colab_type": "code",
        "outputId": "bde54bb6-7eb4-4f15-f3ad-e1392acf9bf0",
        "colab": {
          "base_uri": "https://localhost:8080/",
          "height": 68
        }
      },
      "source": [
        "for k,v in d.items():\n",
        "  print(k,v)"
      ],
      "execution_count": 0,
      "outputs": [
        {
          "output_type": "stream",
          "text": [
            "k1 1\n",
            "k2 2\n",
            "k3 3\n"
          ],
          "name": "stdout"
        }
      ]
    },
    {
      "cell_type": "code",
      "metadata": {
        "id": "C6_-U5IYNaQY",
        "colab_type": "code",
        "outputId": "582a3d98-5a1b-4cf9-916f-76f9345a1e21",
        "colab": {
          "base_uri": "https://localhost:8080/",
          "height": 360
        }
      },
      "source": [
        "x = 0\n",
        "while x < 10:\n",
        "  print('x is currently: ',x)\n",
        "  print('x is still less than 10, adding 1 to x')\n",
        "  x+=1\n"
      ],
      "execution_count": 0,
      "outputs": [
        {
          "output_type": "stream",
          "text": [
            "x is currently:  0\n",
            "x is still less than 10, adding 1 to x\n",
            "x is currently:  1\n",
            "x is still less than 10, adding 1 to x\n",
            "x is currently:  2\n",
            "x is still less than 10, adding 1 to x\n",
            "x is currently:  3\n",
            "x is still less than 10, adding 1 to x\n",
            "x is currently:  4\n",
            "x is still less than 10, adding 1 to x\n",
            "x is currently:  5\n",
            "x is still less than 10, adding 1 to x\n",
            "x is currently:  6\n",
            "x is still less than 10, adding 1 to x\n",
            "x is currently:  7\n",
            "x is still less than 10, adding 1 to x\n",
            "x is currently:  8\n",
            "x is still less than 10, adding 1 to x\n",
            "x is currently:  9\n",
            "x is still less than 10, adding 1 to x\n"
          ],
          "name": "stdout"
        }
      ]
    },
    {
      "cell_type": "code",
      "metadata": {
        "id": "F-zVs7tDNsAh",
        "colab_type": "code",
        "outputId": "440951b7-3369-4e98-d999-60f2de65882b",
        "colab": {
          "base_uri": "https://localhost:8080/",
          "height": 377
        }
      },
      "source": [
        "x = 0\n",
        "while x < 10:\n",
        "  print('x is currently: ',x)\n",
        "  print('x is still less than 10, adding 1 to x')\n",
        "  x+=1\n",
        "else:\n",
        "  print('All Done!')"
      ],
      "execution_count": 0,
      "outputs": [
        {
          "output_type": "stream",
          "text": [
            "x is currently:  0\n",
            "x is still less than 10, adding 1 to x\n",
            "x is currently:  1\n",
            "x is still less than 10, adding 1 to x\n",
            "x is currently:  2\n",
            "x is still less than 10, adding 1 to x\n",
            "x is currently:  3\n",
            "x is still less than 10, adding 1 to x\n",
            "x is currently:  4\n",
            "x is still less than 10, adding 1 to x\n",
            "x is currently:  5\n",
            "x is still less than 10, adding 1 to x\n",
            "x is currently:  6\n",
            "x is still less than 10, adding 1 to x\n",
            "x is currently:  7\n",
            "x is still less than 10, adding 1 to x\n",
            "x is currently:  8\n",
            "x is still less than 10, adding 1 to x\n",
            "x is currently:  9\n",
            "x is still less than 10, adding 1 to x\n",
            "All Done!\n"
          ],
          "name": "stdout"
        }
      ]
    },
    {
      "cell_type": "code",
      "metadata": {
        "id": "NCQqMPN1N-Hz",
        "colab_type": "code",
        "outputId": "4cb998df-f048-4388-b2d7-b8cdfca87069",
        "colab": {
          "base_uri": "https://localhost:8080/",
          "height": 68
        }
      },
      "source": [
        "x = 0\n",
        "while x < 10:\n",
        "  print('x is currently: ',x )\n",
        "  print(' x is still less than 10, adding 1 to x' )\n",
        "  x+=1\n",
        "  if x ==3:\n",
        "    print('x==3')\n",
        "  else:\n",
        "    print('continuing...' )\n",
        "    #continue\n",
        "    break"
      ],
      "execution_count": 0,
      "outputs": [
        {
          "output_type": "stream",
          "text": [
            "x is currently:  0\n",
            " x is still less than 10, adding 1 to x\n",
            "continuing...\n"
          ],
          "name": "stdout"
        }
      ]
    },
    {
      "cell_type": "code",
      "metadata": {
        "id": "xOW_IHycObPv",
        "colab_type": "code",
        "outputId": "e23acbf3-b45f-401b-a0b8-830a20bf2073",
        "colab": {
          "base_uri": "https://localhost:8080/",
          "height": 531
        }
      },
      "source": [
        "x = 0\n",
        "while x < 10:\n",
        "  print('x is currently: ',x)\n",
        "  print(' x is still less than 10, adding 1 to x')\n",
        "  x+=1\n",
        "  if x ==3:\n",
        "    #break # 終止迴圈\n",
        "    #continue # 回到迴圈的開頭\n",
        "    pass # 往下繼續執行\n",
        "    print('Breaking because x==3' )\n",
        "    #break\n",
        "  else:\n",
        "    print('continuing...')\n",
        "    continue\n"
      ],
      "execution_count": 0,
      "outputs": [
        {
          "output_type": "stream",
          "text": [
            "x is currently:  0\n",
            " x is still less than 10, adding 1 to x\n",
            "continuing...\n",
            "x is currently:  1\n",
            " x is still less than 10, adding 1 to x\n",
            "continuing...\n",
            "x is currently:  2\n",
            " x is still less than 10, adding 1 to x\n",
            "Breaking because x==3\n",
            "x is currently:  3\n",
            " x is still less than 10, adding 1 to x\n",
            "continuing...\n",
            "x is currently:  4\n",
            " x is still less than 10, adding 1 to x\n",
            "continuing...\n",
            "x is currently:  5\n",
            " x is still less than 10, adding 1 to x\n",
            "continuing...\n",
            "x is currently:  6\n",
            " x is still less than 10, adding 1 to x\n",
            "continuing...\n",
            "x is currently:  7\n",
            " x is still less than 10, adding 1 to x\n",
            "continuing...\n",
            "x is currently:  8\n",
            " x is still less than 10, adding 1 to x\n",
            "continuing...\n",
            "x is currently:  9\n",
            " x is still less than 10, adding 1 to x\n",
            "continuing...\n"
          ],
          "name": "stdout"
        }
      ]
    },
    {
      "cell_type": "code",
      "metadata": {
        "id": "s10N38gFO7pS",
        "colab_type": "code",
        "colab": {}
      },
      "source": [
        "#while True:\n",
        "#  print('Uh Oh infinite Loop!')"
      ],
      "execution_count": 0,
      "outputs": []
    },
    {
      "cell_type": "markdown",
      "metadata": {
        "id": "kT4VCD94QBaA",
        "colab_type": "text"
      },
      "source": [
        "### 小任務二\n",
        "\n",
        "我們希望建立一個對話機器人, 機器人裡面內建一個資料問答資料庫, 資料庫的問題跟答案如下所示:\n",
        "\n",
        "- 問題:保險 答案: 以下是我們推薦的險總類\n",
        "- 問題:貸款 答案: 以下是我們推薦的貸款總類\n",
        "- 問題:存款 答案: 以下是您的銀行存款餘額\n",
        "\n",
        "希望你能用這個問答資料庫建立成一個Python 字典, 當使用者輸入問題時, 只要問題中有部分關鍵字對到問答資料庫的問題,電腦就予以回答\n",
        "\n",
        "\n",
        "(加分) 但是如果問題不在資料庫之中，請答：我現在還不聰明，等我變聰明以後再回答你 (for...else)"
      ]
    },
    {
      "cell_type": "code",
      "metadata": {
        "id": "TZ5qlqFHPpAk",
        "colab_type": "code",
        "outputId": "2a7835ae-3eff-4ab2-9e0a-c7a055d1a53f",
        "colab": {
          "base_uri": "https://localhost:8080/",
          "height": 34
        }
      },
      "source": [
        "'保險' in '我要保保險'"
      ],
      "execution_count": 0,
      "outputs": [
        {
          "output_type": "execute_result",
          "data": {
            "text/plain": [
              "True"
            ]
          },
          "metadata": {
            "tags": []
          },
          "execution_count": 140
        }
      ]
    },
    {
      "cell_type": "code",
      "metadata": {
        "id": "hrCkwHHUQdIi",
        "colab_type": "code",
        "outputId": "c2fb6e8a-585f-42df-f1c7-37f30e1788e7",
        "colab": {
          "base_uri": "https://localhost:8080/",
          "height": 51
        }
      },
      "source": [
        "question = input('請輸入你的問題:')\n",
        "if '保險' in question:\n",
        "  print('以下是我們推薦的險總類')\n",
        "elif '貸款' in question:\n",
        "  print('以下是我們推薦的貸款總類')  \n",
        "elif '存款' in question:\n",
        "  print('以下是您的銀行存款餘額')\n",
        "else:\n",
        "  print('我現在還不聰明，等我變聰明以後再回答你')"
      ],
      "execution_count": 0,
      "outputs": [
        {
          "output_type": "stream",
          "text": [
            "請輸入你的問題:我好想買保險\n",
            "以下是我們推薦的險總類\n"
          ],
          "name": "stdout"
        }
      ]
    },
    {
      "cell_type": "code",
      "metadata": {
        "id": "PhuBVpAGXfIL",
        "colab_type": "code",
        "colab": {}
      },
      "source": [
        "qa = {'保險':'以下是我們推薦的險總類',\n",
        "'貸款':'以下是我們推薦的貸款總類',\n",
        "'存款': '以下是您的銀行存款餘額'}"
      ],
      "execution_count": 0,
      "outputs": []
    },
    {
      "cell_type": "code",
      "metadata": {
        "id": "jl0SQA4TXyrp",
        "colab_type": "code",
        "outputId": "55d56e6f-58b2-4f03-b3e9-3b492eeae0ff",
        "colab": {
          "base_uri": "https://localhost:8080/",
          "height": 34
        }
      },
      "source": [
        "question = input('請輸入你的問題:')\n",
        "for keyword in qa:\n",
        "  if keyword in question:\n",
        "    print(qa.get(keyword))"
      ],
      "execution_count": 0,
      "outputs": [
        {
          "output_type": "stream",
          "text": [
            "請輸入你的問題:早安\n"
          ],
          "name": "stdout"
        }
      ]
    },
    {
      "cell_type": "code",
      "metadata": {
        "id": "IIjC9wncX2ke",
        "colab_type": "code",
        "outputId": "7f820b8e-1e89-4d83-e294-1a9cc44dde39",
        "colab": {
          "base_uri": "https://localhost:8080/",
          "height": 51
        }
      },
      "source": [
        "question = input('請輸入你的問題:')\n",
        "for keyword in qa:\n",
        "  if keyword in question:\n",
        "    print(qa.get(keyword))\n",
        "    break\n",
        "else:\n",
        "  print('我現在還不聰明，等我變聰明以後再回答你')    "
      ],
      "execution_count": 0,
      "outputs": [
        {
          "output_type": "stream",
          "text": [
            "請輸入你的問題:我要保保險\n",
            "以下是我們推薦的險總類\n"
          ],
          "name": "stdout"
        }
      ]
    },
    {
      "cell_type": "markdown",
      "metadata": {
        "id": "TdLYYKDeZOMj",
        "colab_type": "text"
      },
      "source": [
        "## Function"
      ]
    },
    {
      "cell_type": "code",
      "metadata": {
        "id": "ACWk3BWYYWij",
        "colab_type": "code",
        "colab": {}
      },
      "source": [
        "def say_hello():\n",
        "  print(\"hello world\")"
      ],
      "execution_count": 0,
      "outputs": []
    },
    {
      "cell_type": "code",
      "metadata": {
        "id": "j04rOyRQZQt6",
        "colab_type": "code",
        "outputId": "1be1b972-dc9c-44b0-db65-02be2af2c722",
        "colab": {
          "base_uri": "https://localhost:8080/",
          "height": 34
        }
      },
      "source": [
        "say_hello()"
      ],
      "execution_count": 0,
      "outputs": [
        {
          "output_type": "stream",
          "text": [
            "hello world\n"
          ],
          "name": "stdout"
        }
      ]
    },
    {
      "cell_type": "code",
      "metadata": {
        "id": "-SCltSU3ZUYV",
        "colab_type": "code",
        "colab": {}
      },
      "source": [
        "def say_hello(name):\n",
        "  print(\"hello, \"+name)"
      ],
      "execution_count": 0,
      "outputs": []
    },
    {
      "cell_type": "code",
      "metadata": {
        "id": "l-zHIglRZdUv",
        "colab_type": "code",
        "outputId": "e80fe529-b5e7-4a32-94f1-667509d8e5f9",
        "colab": {
          "base_uri": "https://localhost:8080/",
          "height": 34
        }
      },
      "source": [
        "say_hello('David')"
      ],
      "execution_count": 0,
      "outputs": [
        {
          "output_type": "stream",
          "text": [
            "hello, David\n"
          ],
          "name": "stdout"
        }
      ]
    },
    {
      "cell_type": "code",
      "metadata": {
        "id": "B9dNM9n_Zfst",
        "colab_type": "code",
        "outputId": "3786ee42-fe79-4c73-8463-5a3cbdcb9e27",
        "colab": {
          "base_uri": "https://localhost:8080/",
          "height": 34
        }
      },
      "source": [
        "say_hello('Marry')"
      ],
      "execution_count": 0,
      "outputs": [
        {
          "output_type": "stream",
          "text": [
            "hello, Marry\n"
          ],
          "name": "stdout"
        }
      ]
    },
    {
      "cell_type": "code",
      "metadata": {
        "id": "lrGwEo_oZicR",
        "colab_type": "code",
        "colab": {}
      },
      "source": [
        "def addNum(a, b):\n",
        "  return a+b"
      ],
      "execution_count": 0,
      "outputs": []
    },
    {
      "cell_type": "code",
      "metadata": {
        "id": "L4hZBqdgZz9s",
        "colab_type": "code",
        "outputId": "b2530ba5-8d3a-41e3-f9dc-2e57c10589ef",
        "colab": {
          "base_uri": "https://localhost:8080/",
          "height": 34
        }
      },
      "source": [
        "addNum(3,5)"
      ],
      "execution_count": 0,
      "outputs": [
        {
          "output_type": "execute_result",
          "data": {
            "text/plain": [
              "8"
            ]
          },
          "metadata": {
            "tags": []
          },
          "execution_count": 156
        }
      ]
    },
    {
      "cell_type": "code",
      "metadata": {
        "id": "u8jQ6bZ9Z1S4",
        "colab_type": "code",
        "outputId": "311ea1a0-926c-44f5-ae4b-cc740b53ca61",
        "colab": {
          "base_uri": "https://localhost:8080/",
          "height": 34
        }
      },
      "source": [
        "addNum('Hello', 'World')"
      ],
      "execution_count": 0,
      "outputs": [
        {
          "output_type": "execute_result",
          "data": {
            "text/plain": [
              "'HelloWorld'"
            ]
          },
          "metadata": {
            "tags": []
          },
          "execution_count": 157
        }
      ]
    },
    {
      "cell_type": "code",
      "metadata": {
        "id": "b7PtgedCZ-jJ",
        "colab_type": "code",
        "outputId": "9b8a5cc5-bef6-4ae1-b32d-852d0bbce6cc",
        "colab": {
          "base_uri": "https://localhost:8080/",
          "height": 34
        }
      },
      "source": [
        "addNum([1,2,3], [4,5,6])"
      ],
      "execution_count": 0,
      "outputs": [
        {
          "output_type": "execute_result",
          "data": {
            "text/plain": [
              "[1, 2, 3, 4, 5, 6]"
            ]
          },
          "metadata": {
            "tags": []
          },
          "execution_count": 158
        }
      ]
    },
    {
      "cell_type": "code",
      "metadata": {
        "id": "MGehk6P6aC1c",
        "colab_type": "code",
        "colab": {}
      },
      "source": [
        "def addNum2(a, b = 3):\n",
        "  return a+b"
      ],
      "execution_count": 0,
      "outputs": []
    },
    {
      "cell_type": "code",
      "metadata": {
        "id": "XoNwjJrKaMWi",
        "colab_type": "code",
        "outputId": "786a66e2-a6de-41ee-f2ef-c0a268e2ad77",
        "colab": {
          "base_uri": "https://localhost:8080/",
          "height": 34
        }
      },
      "source": [
        "addNum2(5)"
      ],
      "execution_count": 0,
      "outputs": [
        {
          "output_type": "execute_result",
          "data": {
            "text/plain": [
              "8"
            ]
          },
          "metadata": {
            "tags": []
          },
          "execution_count": 160
        }
      ]
    },
    {
      "cell_type": "code",
      "metadata": {
        "id": "dZziZeOqaODY",
        "colab_type": "code",
        "outputId": "48d94445-bf78-41d5-ddb7-c231bea2edad",
        "colab": {
          "base_uri": "https://localhost:8080/",
          "height": 164
        }
      },
      "source": [
        "addNum2()"
      ],
      "execution_count": 0,
      "outputs": [
        {
          "output_type": "error",
          "ename": "TypeError",
          "evalue": "ignored",
          "traceback": [
            "\u001b[0;31m---------------------------------------------------------------------------\u001b[0m",
            "\u001b[0;31mTypeError\u001b[0m                                 Traceback (most recent call last)",
            "\u001b[0;32m<ipython-input-161-f8832ca17136>\u001b[0m in \u001b[0;36m<module>\u001b[0;34m()\u001b[0m\n\u001b[0;32m----> 1\u001b[0;31m \u001b[0maddNum2\u001b[0m\u001b[0;34m(\u001b[0m\u001b[0;34m)\u001b[0m\u001b[0;34m\u001b[0m\u001b[0;34m\u001b[0m\u001b[0m\n\u001b[0m",
            "\u001b[0;31mTypeError\u001b[0m: addNum2() missing 1 required positional argument: 'a'"
          ]
        }
      ]
    },
    {
      "cell_type": "markdown",
      "metadata": {
        "id": "8y4fkv4CavVP",
        "colab_type": "text"
      },
      "source": [
        "## Object"
      ]
    },
    {
      "cell_type": "code",
      "metadata": {
        "id": "i15sFPLGaTLm",
        "colab_type": "code",
        "outputId": "4af13b79-ef05-4515-8d94-b5c84aaeafa4",
        "colab": {
          "base_uri": "https://localhost:8080/",
          "height": 68
        }
      },
      "source": [
        "a = 1\n",
        "print(id(a))\n",
        "print(type(a))\n",
        "print(a)"
      ],
      "execution_count": 0,
      "outputs": [
        {
          "output_type": "stream",
          "text": [
            "10914496\n",
            "<class 'int'>\n",
            "1\n"
          ],
          "name": "stdout"
        }
      ]
    },
    {
      "cell_type": "code",
      "metadata": {
        "id": "sRP47bxSayWS",
        "colab_type": "code",
        "outputId": "5c938bda-66ae-4a92-81cc-f18e3f168df0",
        "colab": {
          "base_uri": "https://localhost:8080/",
          "height": 34
        }
      },
      "source": [
        "b = 1\n",
        "print(id(b))"
      ],
      "execution_count": 0,
      "outputs": [
        {
          "output_type": "stream",
          "text": [
            "10914496\n"
          ],
          "name": "stdout"
        }
      ]
    },
    {
      "cell_type": "code",
      "metadata": {
        "id": "KOy7LpK_a-oG",
        "colab_type": "code",
        "colab": {}
      },
      "source": [
        "b = 2"
      ],
      "execution_count": 0,
      "outputs": []
    },
    {
      "cell_type": "code",
      "metadata": {
        "id": "pdXB9I7tbahr",
        "colab_type": "code",
        "outputId": "d5585a8b-29bf-408b-d260-c00bba6e5c7d",
        "colab": {
          "base_uri": "https://localhost:8080/",
          "height": 34
        }
      },
      "source": [
        "id(b)"
      ],
      "execution_count": 0,
      "outputs": [
        {
          "output_type": "execute_result",
          "data": {
            "text/plain": [
              "10914528"
            ]
          },
          "metadata": {
            "tags": []
          },
          "execution_count": 165
        }
      ]
    },
    {
      "cell_type": "code",
      "metadata": {
        "id": "sFwYQG0BbbWX",
        "colab_type": "code",
        "colab": {}
      },
      "source": [
        "class Sample(object):\n",
        "  pass"
      ],
      "execution_count": 0,
      "outputs": []
    },
    {
      "cell_type": "code",
      "metadata": {
        "id": "TXOJqIH8cACF",
        "colab_type": "code",
        "colab": {}
      },
      "source": [
        "x =Sample()"
      ],
      "execution_count": 0,
      "outputs": []
    },
    {
      "cell_type": "code",
      "metadata": {
        "id": "johSMY5AcC16",
        "colab_type": "code",
        "outputId": "061bb4fd-fad3-49e4-fb88-8674d32af7b0",
        "colab": {
          "base_uri": "https://localhost:8080/",
          "height": 34
        }
      },
      "source": [
        "x"
      ],
      "execution_count": 0,
      "outputs": [
        {
          "output_type": "execute_result",
          "data": {
            "text/plain": [
              "<__main__.Sample at 0x7f5c12307128>"
            ]
          },
          "metadata": {
            "tags": []
          },
          "execution_count": 168
        }
      ]
    },
    {
      "cell_type": "code",
      "metadata": {
        "id": "UG38Xv-bcD0g",
        "colab_type": "code",
        "colab": {}
      },
      "source": [
        "class Dog(object):\n",
        "  def __init__(self,breed):\n",
        "    self.breed = breed\n"
      ],
      "execution_count": 0,
      "outputs": []
    },
    {
      "cell_type": "code",
      "metadata": {
        "id": "M-eWd9Ejcq3q",
        "colab_type": "code",
        "colab": {}
      },
      "source": [
        "sam = Dog(breed='Lab')"
      ],
      "execution_count": 0,
      "outputs": []
    },
    {
      "cell_type": "code",
      "metadata": {
        "id": "p9lOBNKzctfm",
        "colab_type": "code",
        "outputId": "314a402f-691b-43da-85ab-42426fdf7641",
        "colab": {
          "base_uri": "https://localhost:8080/",
          "height": 34
        }
      },
      "source": [
        "sam"
      ],
      "execution_count": 0,
      "outputs": [
        {
          "output_type": "execute_result",
          "data": {
            "text/plain": [
              "<__main__.Dog at 0x7f5c12307c88>"
            ]
          },
          "metadata": {
            "tags": []
          },
          "execution_count": 171
        }
      ]
    },
    {
      "cell_type": "code",
      "metadata": {
        "id": "3s6K68IEcuSK",
        "colab_type": "code",
        "outputId": "c1877ddb-8f0c-4e6d-f163-7d60f1fdd94a",
        "colab": {
          "base_uri": "https://localhost:8080/",
          "height": 34
        }
      },
      "source": [
        "sam.breed"
      ],
      "execution_count": 0,
      "outputs": [
        {
          "output_type": "execute_result",
          "data": {
            "text/plain": [
              "'Lab'"
            ]
          },
          "metadata": {
            "tags": []
          },
          "execution_count": 172
        }
      ]
    },
    {
      "cell_type": "code",
      "metadata": {
        "id": "Y408xyMWcwSA",
        "colab_type": "code",
        "colab": {}
      },
      "source": [
        "frank = Dog(breed='Huskie')"
      ],
      "execution_count": 0,
      "outputs": []
    },
    {
      "cell_type": "code",
      "metadata": {
        "id": "35wICw_bczIz",
        "colab_type": "code",
        "outputId": "8fa1570b-95ed-4b19-8780-5a96dfc1bcb4",
        "colab": {
          "base_uri": "https://localhost:8080/",
          "height": 34
        }
      },
      "source": [
        "frank.breed"
      ],
      "execution_count": 0,
      "outputs": [
        {
          "output_type": "execute_result",
          "data": {
            "text/plain": [
              "'Huskie'"
            ]
          },
          "metadata": {
            "tags": []
          },
          "execution_count": 174
        }
      ]
    },
    {
      "cell_type": "code",
      "metadata": {
        "id": "sROvstpMc0NP",
        "colab_type": "code",
        "colab": {}
      },
      "source": [
        "class Dog(object):\n",
        "  species = 'mammal' # 類別屬性\n",
        "  def __init__(self,breed,name):\n",
        "    self.breed = breed\n",
        "    self.name = name"
      ],
      "execution_count": 0,
      "outputs": []
    },
    {
      "cell_type": "code",
      "metadata": {
        "id": "kk5_deKCdFmO",
        "colab_type": "code",
        "colab": {}
      },
      "source": [
        "sam = Dog('Lab','Sam')"
      ],
      "execution_count": 0,
      "outputs": []
    },
    {
      "cell_type": "code",
      "metadata": {
        "id": "svXoRZvRdJH0",
        "colab_type": "code",
        "outputId": "ffb9e71e-a324-4383-8307-ef82074b4866",
        "colab": {
          "base_uri": "https://localhost:8080/",
          "height": 34
        }
      },
      "source": [
        "sam.breed"
      ],
      "execution_count": 0,
      "outputs": [
        {
          "output_type": "execute_result",
          "data": {
            "text/plain": [
              "'Lab'"
            ]
          },
          "metadata": {
            "tags": []
          },
          "execution_count": 177
        }
      ]
    },
    {
      "cell_type": "code",
      "metadata": {
        "id": "Ki6ATTiFdKhq",
        "colab_type": "code",
        "outputId": "281b07f5-2a5c-4696-9d5b-c1837e486135",
        "colab": {
          "base_uri": "https://localhost:8080/",
          "height": 34
        }
      },
      "source": [
        "sam.name"
      ],
      "execution_count": 0,
      "outputs": [
        {
          "output_type": "execute_result",
          "data": {
            "text/plain": [
              "'Sam'"
            ]
          },
          "metadata": {
            "tags": []
          },
          "execution_count": 178
        }
      ]
    },
    {
      "cell_type": "code",
      "metadata": {
        "id": "b1DpVD7YdMZw",
        "colab_type": "code",
        "outputId": "fd3563e3-fa31-4888-d5aa-49a86b8b5ee2",
        "colab": {
          "base_uri": "https://localhost:8080/",
          "height": 34
        }
      },
      "source": [
        "sam.species"
      ],
      "execution_count": 0,
      "outputs": [
        {
          "output_type": "execute_result",
          "data": {
            "text/plain": [
              "'mammal'"
            ]
          },
          "metadata": {
            "tags": []
          },
          "execution_count": 179
        }
      ]
    },
    {
      "cell_type": "code",
      "metadata": {
        "id": "hO08_bgcdTVt",
        "colab_type": "code",
        "outputId": "a044273b-9502-4cec-bcb3-138e69e17e7e",
        "colab": {
          "base_uri": "https://localhost:8080/",
          "height": 34
        }
      },
      "source": [
        "Dog.species"
      ],
      "execution_count": 0,
      "outputs": [
        {
          "output_type": "execute_result",
          "data": {
            "text/plain": [
              "'mammal'"
            ]
          },
          "metadata": {
            "tags": []
          },
          "execution_count": 180
        }
      ]
    },
    {
      "cell_type": "code",
      "metadata": {
        "id": "vWc6KIQgdWhY",
        "colab_type": "code",
        "colab": {}
      },
      "source": [
        "class Dog(object):\n",
        "  species = 'mammal' # 類別屬性\n",
        "  def __init__(self,breed,name):\n",
        "    self.breed = breed\n",
        "    self.name = name\n",
        "  def bark(self):\n",
        "    print('woof')"
      ],
      "execution_count": 0,
      "outputs": []
    },
    {
      "cell_type": "code",
      "metadata": {
        "id": "8Ys_TVvAdjHv",
        "colab_type": "code",
        "colab": {}
      },
      "source": [
        "q = Dog('Lab', 'Sam')"
      ],
      "execution_count": 0,
      "outputs": []
    },
    {
      "cell_type": "code",
      "metadata": {
        "id": "NDVVve1_dnC0",
        "colab_type": "code",
        "outputId": "e9519949-5130-4f8f-8eff-ccf5d6b63b71",
        "colab": {
          "base_uri": "https://localhost:8080/",
          "height": 34
        }
      },
      "source": [
        "q.breed"
      ],
      "execution_count": 0,
      "outputs": [
        {
          "output_type": "execute_result",
          "data": {
            "text/plain": [
              "'Lab'"
            ]
          },
          "metadata": {
            "tags": []
          },
          "execution_count": 183
        }
      ]
    },
    {
      "cell_type": "code",
      "metadata": {
        "id": "V2Tozf8Ydoll",
        "colab_type": "code",
        "outputId": "e6541749-ce63-4b78-d389-0da3bcc2993c",
        "colab": {
          "base_uri": "https://localhost:8080/",
          "height": 34
        }
      },
      "source": [
        "q.name"
      ],
      "execution_count": 0,
      "outputs": [
        {
          "output_type": "execute_result",
          "data": {
            "text/plain": [
              "'Sam'"
            ]
          },
          "metadata": {
            "tags": []
          },
          "execution_count": 184
        }
      ]
    },
    {
      "cell_type": "code",
      "metadata": {
        "id": "SDKZUVUqdpp3",
        "colab_type": "code",
        "outputId": "23c4d10c-301b-4dd6-fc4f-273981e59c69",
        "colab": {
          "base_uri": "https://localhost:8080/",
          "height": 34
        }
      },
      "source": [
        "q.bark()"
      ],
      "execution_count": 0,
      "outputs": [
        {
          "output_type": "stream",
          "text": [
            "woof\n"
          ],
          "name": "stdout"
        }
      ]
    },
    {
      "cell_type": "code",
      "metadata": {
        "id": "x5aQhkQ_dsP0",
        "colab_type": "code",
        "colab": {}
      },
      "source": [
        "class Circle(object):\n",
        "  pi = 3.14\n",
        "  def __init__(self, radius=1):\n",
        "    self.radius = radius\n",
        "\n",
        "  def area(self):\n",
        "    return self.radius * self.radius * Circle.pi\n",
        "\n",
        "  def setRadius(self, radius):\n",
        "    self.radius = radius\n",
        "    \n",
        "  def getRadius(self):\n",
        "    return self.radius"
      ],
      "execution_count": 0,
      "outputs": []
    },
    {
      "cell_type": "code",
      "metadata": {
        "id": "5TPm2dg2eEc2",
        "colab_type": "code",
        "colab": {}
      },
      "source": [
        "c = Circle()"
      ],
      "execution_count": 0,
      "outputs": []
    },
    {
      "cell_type": "code",
      "metadata": {
        "id": "DzJB9g60eHEn",
        "colab_type": "code",
        "outputId": "6be93839-855f-443b-e9e3-1126f095b4e3",
        "colab": {
          "base_uri": "https://localhost:8080/",
          "height": 34
        }
      },
      "source": [
        "c.getRadius()"
      ],
      "execution_count": 0,
      "outputs": [
        {
          "output_type": "execute_result",
          "data": {
            "text/plain": [
              "1"
            ]
          },
          "metadata": {
            "tags": []
          },
          "execution_count": 188
        }
      ]
    },
    {
      "cell_type": "code",
      "metadata": {
        "id": "Un3_odL6eKD4",
        "colab_type": "code",
        "outputId": "20844a0b-05ea-4f75-e8ca-7f746b80e2da",
        "colab": {
          "base_uri": "https://localhost:8080/",
          "height": 34
        }
      },
      "source": [
        "c.area()"
      ],
      "execution_count": 0,
      "outputs": [
        {
          "output_type": "execute_result",
          "data": {
            "text/plain": [
              "3.14"
            ]
          },
          "metadata": {
            "tags": []
          },
          "execution_count": 189
        }
      ]
    },
    {
      "cell_type": "code",
      "metadata": {
        "id": "k8IzK3A-eMpS",
        "colab_type": "code",
        "colab": {}
      },
      "source": [
        "c.setRadius(3)"
      ],
      "execution_count": 0,
      "outputs": []
    },
    {
      "cell_type": "code",
      "metadata": {
        "id": "qpt_8TE3eRcH",
        "colab_type": "code",
        "outputId": "85b02d4c-bc68-48e0-91e3-6304973d4663",
        "colab": {
          "base_uri": "https://localhost:8080/",
          "height": 34
        }
      },
      "source": [
        "c.getRadius()"
      ],
      "execution_count": 0,
      "outputs": [
        {
          "output_type": "execute_result",
          "data": {
            "text/plain": [
              "3"
            ]
          },
          "metadata": {
            "tags": []
          },
          "execution_count": 191
        }
      ]
    },
    {
      "cell_type": "code",
      "metadata": {
        "id": "iLAC0b7YeSzz",
        "colab_type": "code",
        "outputId": "f1bf2909-9898-4c99-9870-89b571a69e9a",
        "colab": {
          "base_uri": "https://localhost:8080/",
          "height": 34
        }
      },
      "source": [
        "c.area()"
      ],
      "execution_count": 0,
      "outputs": [
        {
          "output_type": "execute_result",
          "data": {
            "text/plain": [
              "28.26"
            ]
          },
          "metadata": {
            "tags": []
          },
          "execution_count": 192
        }
      ]
    },
    {
      "cell_type": "markdown",
      "metadata": {
        "id": "u6gxeGuOfSCP",
        "colab_type": "text"
      },
      "source": [
        "## File"
      ]
    },
    {
      "cell_type": "code",
      "metadata": {
        "id": "XPVhKO7BeUn1",
        "colab_type": "code",
        "colab": {}
      },
      "source": [
        "fid = open('test.txt', 'w')\n",
        "fid.write('Hello World')\n",
        "fid.close()"
      ],
      "execution_count": 0,
      "outputs": []
    },
    {
      "cell_type": "code",
      "metadata": {
        "id": "gg-TGn0yfa1z",
        "colab_type": "code",
        "colab": {}
      },
      "source": [
        "# w: write, a: append, r:read, b:binary\n",
        "fid = open('/content/drive/My Drive/test.txt', 'w')\n",
        "fid.write('Hello World')\n",
        "fid.close()"
      ],
      "execution_count": 0,
      "outputs": []
    },
    {
      "cell_type": "code",
      "metadata": {
        "id": "Pxah0FQ7fx5l",
        "colab_type": "code",
        "colab": {}
      },
      "source": [
        "with open('/content/drive/My Drive/test.txt', 'w') as fid:\n",
        "  fid.write('Hello\\nWorld')"
      ],
      "execution_count": 0,
      "outputs": []
    },
    {
      "cell_type": "code",
      "metadata": {
        "id": "ljHTS18vgiPM",
        "colab_type": "code",
        "colab": {}
      },
      "source": [
        "with open('test.txt', 'w') as fid:\n",
        "  fid.write('Hello\\nWorld')"
      ],
      "execution_count": 0,
      "outputs": []
    },
    {
      "cell_type": "code",
      "metadata": {
        "id": "Y30vlhjPgklz",
        "colab_type": "code",
        "outputId": "6ba33273-950d-47d8-ed5d-ca7e1b620391",
        "colab": {
          "base_uri": "https://localhost:8080/",
          "height": 51
        }
      },
      "source": [
        "with open('test.txt', 'r') as fid:\n",
        "  for line in fid.readlines():\n",
        "    print(line.strip())"
      ],
      "execution_count": 0,
      "outputs": [
        {
          "output_type": "stream",
          "text": [
            "Hello\n",
            "World\n"
          ],
          "name": "stdout"
        }
      ]
    },
    {
      "cell_type": "code",
      "metadata": {
        "id": "VJZKMAbugsNQ",
        "colab_type": "code",
        "outputId": "61333a2a-7871-4671-fa27-0bd5910aed0d",
        "colab": {
          "base_uri": "https://localhost:8080/",
          "height": 51
        }
      },
      "source": [
        "with open('test.txt', 'r') as fid:\n",
        "  data = fid.read()\n",
        "print(data)"
      ],
      "execution_count": 0,
      "outputs": [
        {
          "output_type": "stream",
          "text": [
            "Hello\n",
            "World\n"
          ],
          "name": "stdout"
        }
      ]
    },
    {
      "cell_type": "code",
      "metadata": {
        "id": "DGDzuH_Ag90_",
        "colab_type": "code",
        "outputId": "6aff5e21-456d-4a00-91a3-85acf0484e7c",
        "colab": {
          "base_uri": "https://localhost:8080/",
          "height": 34
        }
      },
      "source": [
        "k = 0\n",
        "with open('test.txt', 'r') as fid:\n",
        "  for line in fid:\n",
        "    k +=1\n",
        "print(k)"
      ],
      "execution_count": 0,
      "outputs": [
        {
          "output_type": "stream",
          "text": [
            "2\n"
          ],
          "name": "stdout"
        }
      ]
    },
    {
      "cell_type": "markdown",
      "metadata": {
        "id": "3jYD5gYZhUm0",
        "colab_type": "text"
      },
      "source": [
        "### Pythonic"
      ]
    },
    {
      "cell_type": "code",
      "metadata": {
        "id": "OB2ouNIdhRLq",
        "colab_type": "code",
        "colab": {}
      },
      "source": [
        "ary = []\n",
        "with open('test.txt', 'r') as fid:\n",
        "  for line in fid:\n",
        "    ary.append(line)"
      ],
      "execution_count": 0,
      "outputs": []
    },
    {
      "cell_type": "code",
      "metadata": {
        "id": "hg1ldYBxhfh5",
        "colab_type": "code",
        "outputId": "dd7a6f70-d222-46b3-d768-e1e3d2bab0ec",
        "colab": {
          "base_uri": "https://localhost:8080/",
          "height": 34
        }
      },
      "source": [
        "ary"
      ],
      "execution_count": 0,
      "outputs": [
        {
          "output_type": "execute_result",
          "data": {
            "text/plain": [
              "['Hello\\n', 'World']"
            ]
          },
          "metadata": {
            "tags": []
          },
          "execution_count": 203
        }
      ]
    },
    {
      "cell_type": "code",
      "metadata": {
        "id": "HSpFiK2GhgJ6",
        "colab_type": "code",
        "outputId": "0d9a5c99-9554-4d3a-d452-f70f39e25710",
        "colab": {
          "base_uri": "https://localhost:8080/",
          "height": 34
        }
      },
      "source": [
        "len(ary)"
      ],
      "execution_count": 0,
      "outputs": [
        {
          "output_type": "execute_result",
          "data": {
            "text/plain": [
              "2"
            ]
          },
          "metadata": {
            "tags": []
          },
          "execution_count": 204
        }
      ]
    },
    {
      "cell_type": "code",
      "metadata": {
        "id": "bg_Ak0aDhhfq",
        "colab_type": "code",
        "outputId": "69ad86c8-796e-455c-b7ec-17504702f75a",
        "colab": {
          "base_uri": "https://localhost:8080/",
          "height": 34
        }
      },
      "source": [
        "[line for line in open('test.txt', 'r')]"
      ],
      "execution_count": 0,
      "outputs": [
        {
          "output_type": "execute_result",
          "data": {
            "text/plain": [
              "['Hello\\n', 'World']"
            ]
          },
          "metadata": {
            "tags": []
          },
          "execution_count": 205
        }
      ]
    },
    {
      "cell_type": "code",
      "metadata": {
        "id": "a3vJ2c9KhvEg",
        "colab_type": "code",
        "outputId": "79e22036-1135-43cf-9791-db062a2b79eb",
        "colab": {
          "base_uri": "https://localhost:8080/",
          "height": 34
        }
      },
      "source": [
        "len([line for line in open('test.txt', 'r')])"
      ],
      "execution_count": 0,
      "outputs": [
        {
          "output_type": "execute_result",
          "data": {
            "text/plain": [
              "2"
            ]
          },
          "metadata": {
            "tags": []
          },
          "execution_count": 206
        }
      ]
    },
    {
      "cell_type": "markdown",
      "metadata": {
        "id": "U0BVtNXHiYK6",
        "colab_type": "text"
      },
      "source": [
        "## Text Analysis"
      ]
    },
    {
      "cell_type": "code",
      "metadata": {
        "id": "iCTo2H1wh2YS",
        "colab_type": "code",
        "outputId": "28ca18c8-9430-4862-f517-32f2717271c5",
        "colab": {
          "base_uri": "https://localhost:8080/",
          "height": 226
        }
      },
      "source": [
        "! wget https://raw.githubusercontent.com/ywchiu/tibamepy/master/data/trump.txt"
      ],
      "execution_count": 0,
      "outputs": [
        {
          "output_type": "stream",
          "text": [
            "--2020-04-25 08:52:28--  https://raw.githubusercontent.com/ywchiu/tibamepy/master/data/trump.txt\n",
            "Resolving raw.githubusercontent.com (raw.githubusercontent.com)... 151.101.0.133, 151.101.64.133, 151.101.128.133, ...\n",
            "Connecting to raw.githubusercontent.com (raw.githubusercontent.com)|151.101.0.133|:443... connected.\n",
            "HTTP request sent, awaiting response... 200 OK\n",
            "Length: 8736 (8.5K) [text/plain]\n",
            "Saving to: ‘trump.txt’\n",
            "\n",
            "\rtrump.txt             0%[                    ]       0  --.-KB/s               \rtrump.txt           100%[===================>]   8.53K  --.-KB/s    in 0s      \n",
            "\n",
            "2020-04-25 08:52:28 (88.5 MB/s) - ‘trump.txt’ saved [8736/8736]\n",
            "\n"
          ],
          "name": "stdout"
        }
      ]
    },
    {
      "cell_type": "code",
      "metadata": {
        "id": "omrczdm-ibXU",
        "colab_type": "code",
        "colab": {}
      },
      "source": [
        "with open('trump.txt', 'r', encoding = 'latin1' ) as f:\n",
        "  speech = f.read()"
      ],
      "execution_count": 0,
      "outputs": []
    },
    {
      "cell_type": "code",
      "metadata": {
        "id": "rOVYdY7fik9T",
        "colab_type": "code",
        "colab": {}
      },
      "source": [
        "words = speech.split()"
      ],
      "execution_count": 0,
      "outputs": []
    },
    {
      "cell_type": "code",
      "metadata": {
        "id": "IxZ_UhEJitBW",
        "colab_type": "code",
        "outputId": "98aa11f2-1f92-4d47-a08a-ccd4679197d8",
        "colab": {
          "base_uri": "https://localhost:8080/",
          "height": 34
        }
      },
      "source": [
        "a = [1,1,1,2,2,1,2,3,3,2]\n",
        "dic = {}\n",
        "for ele in a:\n",
        "  if ele not in dic:\n",
        "    dic[ele] = 1\n",
        "  else:\n",
        "    dic[ele] = dic[ele] + 1\n",
        "dic"
      ],
      "execution_count": 0,
      "outputs": [
        {
          "output_type": "execute_result",
          "data": {
            "text/plain": [
              "{1: 4, 2: 4, 3: 2}"
            ]
          },
          "metadata": {
            "tags": []
          },
          "execution_count": 214
        }
      ]
    },
    {
      "cell_type": "code",
      "metadata": {
        "id": "x_c_o_3Zj6gO",
        "colab_type": "code",
        "outputId": "40d99ba4-fe0e-4ffd-979f-148809cccd38",
        "colab": {
          "base_uri": "https://localhost:8080/",
          "height": 34
        }
      },
      "source": [
        "a = [1,1,1,2,2,1,2,3,3,2]\n",
        "dic = {}\n",
        "for ele in a:\n",
        "  dic[ele] = dic.get(ele, 0) + 1\n",
        "dic"
      ],
      "execution_count": 0,
      "outputs": [
        {
          "output_type": "execute_result",
          "data": {
            "text/plain": [
              "{1: 4, 2: 4, 3: 2}"
            ]
          },
          "metadata": {
            "tags": []
          },
          "execution_count": 218
        }
      ]
    },
    {
      "cell_type": "code",
      "metadata": {
        "id": "BYj5s6tMjd-4",
        "colab_type": "code",
        "outputId": "30d99131-4a2f-48b3-f31c-2692eea3546f",
        "colab": {
          "base_uri": "https://localhost:8080/",
          "height": 68
        }
      },
      "source": [
        "for ele in set(a):\n",
        "  print(ele, a.count(ele))"
      ],
      "execution_count": 0,
      "outputs": [
        {
          "output_type": "stream",
          "text": [
            "1 4\n",
            "2 4\n",
            "3 2\n"
          ],
          "name": "stdout"
        }
      ]
    },
    {
      "cell_type": "code",
      "metadata": {
        "id": "nGn4lw_CjyUf",
        "colab_type": "code",
        "colab": {}
      },
      "source": [
        "dic = {}\n",
        "for w in words:\n",
        "  if w not in dic:\n",
        "    dic[w] = 1\n",
        "  else:\n",
        "    dic[w] = dic[w]  + 1\n",
        "#dic "
      ],
      "execution_count": 0,
      "outputs": []
    },
    {
      "cell_type": "code",
      "metadata": {
        "id": "sc4vDQcnkaDw",
        "colab_type": "code",
        "outputId": "1af20e5a-d0b9-4785-f4ec-2e888840eebe",
        "colab": {
          "base_uri": "https://localhost:8080/",
          "height": 54
        }
      },
      "source": [
        "dic.items()\n",
        "#sorted()"
      ],
      "execution_count": 0,
      "outputs": [
        {
          "output_type": "execute_result",
          "data": {
            "text/plain": [
              "dict_items([('The', 7), ('Inaugural', 1), ('Address', 1), ('REMARKS', 1), ('OF', 1), ('PRESIDENT', 1), ('DONALD', 1), ('J.', 1), ('TRUMP', 1), ('¡V', 13), ('AS', 1), ('PREPARED', 1), ('FOR', 1), ('DELIVERY', 1), ('INAUGURAL', 1), ('ADDRESS', 1), ('FRIDAY,', 1), ('JANUARY', 1), ('20,', 1), ('2017', 1), ('WASHINGTON,', 1), ('D.C.', 2), ('As', 1), ('Prepared', 1), ('for', 14), ('Delivery', 1), ('Chief', 1), ('Justice', 1), ('Roberts,', 1), ('President', 5), ('Carter,', 1), ('Clinton,', 1), ('Bush,', 1), ('Obama,', 1), ('fellow', 1), ('Americans,', 2), ('and', 65), ('people', 6), ('of', 48), ('the', 64), ('world:', 1), ('thank', 1), ('you.', 2), ('We,', 1), ('citizens', 2), ('America,', 4), ('are', 14), ('now', 2), ('joined', 1), ('in', 13), ('a', 14), ('great', 5), ('national', 2), ('effort', 1), ('to', 37), ('rebuild', 1), ('our', 47), ('country', 6), ('restore', 1), ('its', 3), ('promise', 1), ('all', 12), ('people.', 2), ('Together,', 3), ('we', 20), ('will', 35), ('determine', 1), ('course', 1), ('America', 10), ('world', 4), ('years', 1), ('come.', 1), ('We', 25), ('face', 2), ('challenges.', 1), ('confront', 1), ('hardships.', 1), ('But', 3), ('get', 2), ('job', 1), ('done.', 2), ('Every', 2), ('four', 1), ('years,', 1), ('gather', 1), ('on', 6), ('these', 2), ('steps', 1), ('carry', 1), ('out', 1), ('orderly', 1), ('peaceful', 1), ('transfer', 1), ('power,', 1), ('grateful', 1), ('Obama', 2), ('First', 1), ('Lady', 1), ('Michelle', 1), ('their', 9), ('gracious', 1), ('aid', 1), ('throughout', 1), ('this', 6), ('transition.', 1), ('They', 1), ('have', 5), ('been', 4), ('magnificent.', 1), ('Today¡¦s', 1), ('ceremony,', 1), ('however,', 1), ('has', 6), ('very', 2), ('special', 1), ('meaning.', 1), ('Because', 1), ('today', 4), ('not', 10), ('merely', 1), ('transferring', 2), ('power', 2), ('from', 9), ('one', 6), ('Administration', 1), ('another,', 1), ('or', 4), ('party', 2), ('another', 1), ('but', 10), ('Washington,', 1), ('giving', 1), ('it', 7), ('back', 6), ('you,', 2), ('American', 11), ('People.', 1), ('For', 2), ('too', 3), ('long,', 1), ('small', 2), ('group', 1), ('nation¡¦s', 3), ('Capital', 1), ('reaped', 1), ('rewards', 1), ('government', 2), ('while', 6), ('borne', 1), ('cost.', 1), ('Washington', 1), ('flourished', 1), ('did', 1), ('share', 2), ('wealth.', 2), ('Politicians', 1), ('prospered', 1), ('jobs', 2), ('left,', 1), ('factories', 3), ('closed.', 1), ('establishment', 1), ('protected', 3), ('itself,', 1), ('country.', 2), ('Their', 2), ('victories', 1), ('your', 10), ('victories;', 1), ('triumphs', 1), ('triumphs;', 1), ('they', 4), ('celebrated', 1), ('Capital,', 1), ('there', 2), ('was', 1), ('little', 1), ('celebrate', 1), ('struggling', 1), ('families', 1), ('across', 5), ('land.', 2), ('That', 1), ('changes', 1), ('starting', 1), ('right', 5), ('here,', 1), ('now,', 1), ('because', 1), ('moment', 2), ('is', 21), ('moment:', 1), ('belongs', 2), ('It', 2), ('everyone', 3), ('gathered', 1), ('here', 3), ('watching', 1), ('America.', 3), ('This', 3), ('day.', 1), ('celebration.', 1), ('And', 7), ('this,', 1), ('United', 2), ('States', 2), ('What', 1), ('truly', 1), ('matters', 1), ('which', 4), ('controls', 1), ('government,', 1), ('whether', 3), ('controlled', 1), ('by', 6), ('January', 1), ('20th', 1), ('2017,', 1), ('be', 12), ('remembered', 1), ('as', 4), ('day', 2), ('became', 1), ('rulers', 1), ('nation', 4), ('again.', 3), ('forgotten', 2), ('men', 2), ('women', 2), ('no', 5), ('longer.', 1), ('Everyone', 1), ('listening', 1), ('you', 5), ('now.', 2), ('You', 2), ('came', 1), ('tens', 1), ('millions', 3), ('become', 1), ('part', 1), ('historic', 1), ('movement', 2), ('likes', 1), ('never', 5), ('seen', 1), ('before.', 2), ('At', 2), ('center', 1), ('crucial', 1), ('conviction:', 1), ('that', 7), ('exists', 1), ('serve', 1), ('citizens.', 1), ('Americans', 1), ('want', 1), ('schools', 1), ('children,', 1), ('safe', 1), ('neighborhoods', 1), ('families,', 1), ('good', 2), ('themselves.', 1), ('These', 1), ('just', 1), ('reasonable', 1), ('demands', 1), ('righteous', 1), ('public.', 1), ('many', 3), ('citizens,', 1), ('different', 1), ('reality', 1), ('exists:', 1), ('Mothers', 1), ('children', 1), ('trapped', 1), ('poverty', 1), ('inner', 1), ('cities;', 1), ('rusted-out', 1), ('scattered', 1), ('like', 2), ('tombstones', 1), ('landscape', 1), ('nation;', 1), ('an', 3), ('education', 1), ('system,', 1), ('flush', 1), ('with', 8), ('cash,', 1), ('leaves', 1), ('young', 1), ('beautiful', 1), ('students', 1), ('deprived', 1), ('knowledge;', 1), ('crime', 1), ('gangs', 1), ('drugs', 1), ('stolen', 1), ('lives', 1), ('robbed', 1), ('so', 2), ('much', 1), ('unrealized', 1), ('potential.', 1), ('carnage', 1), ('stops', 2), ('pain', 1), ('pain.', 1), ('dreams', 1), ('dreams;', 1), ('success', 1), ('success.', 1), ('heart,', 1), ('home,', 1), ('glorious', 2), ('destiny.', 2), ('oath', 2), ('office', 1), ('I', 3), ('take', 1), ('allegiance', 2), ('Americans.', 1), ('decades,', 1), ('we¡¦ve', 1), ('enriched', 1), ('foreign', 3), ('industry', 1), ('at', 3), ('expense', 1), ('industry;', 1), ('Subsidized', 1), ('armies', 1), ('other', 4), ('countries', 3), ('allowing', 1), ('sad', 1), ('depletion', 1), ('military;', 1), (\"We've\", 1), ('defended', 1), ('borders', 2), ('refusing', 1), ('defend', 1), ('own;', 1), ('spent', 1), ('trillions', 1), ('dollars', 1), ('overseas', 1), (\"America's\", 1), ('infrastructure', 1), ('fallen', 1), ('into', 1), ('disrepair', 1), ('decay.', 1), ('We¡¦ve', 1), ('made', 2), ('rich', 1), ('wealth,', 1), ('strength,', 1), ('confidence', 1), ('disappeared', 1), ('over', 1), ('horizon.', 1), ('One', 1), ('one,', 1), ('shuttered', 1), ('left', 2), ('shores,', 1), ('even', 2), ('thought', 1), ('about', 2), ('upon', 1), ('workers', 2), ('behind.', 1), ('wealth', 1), ('middle', 1), ('class', 1), ('ripped', 1), ('homes', 1), ('then', 1), ('redistributed', 1), ('entire', 1), ('world.', 1), ('past.', 1), ('looking', 1), ('only', 2), ('future.', 1), ('assembled', 1), ('issuing', 1), ('new', 6), ('decree', 1), ('heard', 1), ('every', 5), ('city,', 1), ('capital,', 1), ('hall', 1), ('power.', 1), ('From', 2), ('forward,', 1), ('vision', 1), ('govern', 1), ('on,', 1), ('it¡¦s', 1), ('going', 1), ('First.', 1), ('decision', 1), ('trade,', 1), ('taxes,', 1), ('immigration,', 1), ('affairs,', 1), ('benefit', 1), ('families.', 1), ('must', 3), ('protect', 1), ('ravages', 1), ('making', 1), ('products,', 1), ('stealing', 1), ('companies,', 1), ('destroying', 1), ('jobs.', 2), ('Protection', 1), ('lead', 1), ('prosperity', 1), ('strength.', 1), ('fight', 2), ('breath', 2), ('my', 1), ('body', 1), ('never,', 1), ('ever', 1), ('let', 3), ('down.', 1), ('start', 1), ('winning', 2), ('again,', 1), ('bring', 4), ('borders.', 1), ('dreams.', 1), ('build', 1), ('roads,', 1), ('highways,', 1), ('bridges,', 1), ('airports,', 1), ('tunnels,', 1), ('railways', 1), ('wonderful', 1), ('nation.', 1), ('off', 1), ('welfare', 1), ('work', 1), ('rebuilding', 1), ('hands', 1), ('labor.', 1), ('follow', 1), ('two', 1), ('simple', 1), ('rules:', 1), ('Buy', 1), ('Hire', 1), ('American.', 1), ('seek', 2), ('friendship', 1), ('goodwill', 1), ('nations', 2), ('do', 2), ('understanding', 1), ('put', 1), ('own', 1), ('interests', 1), ('first.', 1), ('impose', 1), ('way', 1), ('life', 2), ('anyone,', 1), ('rather', 1), ('shine', 1), ('example', 1), ('follow.', 1), ('reinforce', 1), ('old', 2), ('alliances', 1), ('form', 1), ('ones', 1), ('unite', 1), ('civilized', 1), ('against', 1), ('Radical', 1), ('Islamic', 1), ('Terrorism,', 1), ('eradicate', 1), ('completely', 1), ('Earth.', 1), ('bedrock', 1), ('politics', 1), ('total', 1), ('through', 1), ('loyalty', 2), ('country,', 1), ('rediscover', 1), ('each', 1), ('other.', 1), ('When', 2), ('open', 1), ('heart', 3), ('patriotism,', 1), ('room', 1), ('prejudice.', 1), ('Bible', 1), ('tells', 1), ('us,', 1), ('¡§how', 1), ('pleasant', 1), ('when', 1), ('God¡¦s', 1), ('live', 1), ('together', 1), ('unity.¡¨', 1), ('speak', 1), ('minds', 1), ('openly,', 1), ('debate', 1), ('disagreements', 1), ('honestly,', 1), ('always', 2), ('pursue', 1), ('solidarity.', 1), ('united,', 1), ('totally', 1), ('unstoppable.', 1), ('There', 1), ('should', 1), ('fear', 1), ('protected,', 1), ('protected.', 1), ('military', 1), ('law', 1), ('enforcement', 1), ('and,', 1), ('most', 1), ('importantly,', 1), ('God.', 1), ('Finally,', 1), ('think', 1), ('big', 1), ('dream', 1), ('bigger.', 1), ('In', 1), ('understand', 1), ('living', 1), ('long', 1), ('striving.', 1), ('longer', 1), ('accept', 1), ('politicians', 1), ('who', 1), ('talk', 2), ('action', 1), ('constantly', 1), ('complaining', 1), ('doing', 1), ('anything', 1), ('it.', 1), ('time', 2), ('empty', 1), ('over.', 1), ('Now', 1), ('arrives', 1), ('hour', 1), ('action.', 1), ('Do', 1), ('anyone', 1), ('tell', 1), ('cannot', 1), ('No', 1), ('challenge', 1), ('can', 1), ('match', 1), ('spirit', 1), ('fail.', 1), ('Our', 1), ('thrive', 1), ('prosper', 1), ('stand', 1), ('birth', 1), ('millennium,', 1), ('ready', 1), ('unlock', 1), ('mysteries', 1), ('space,', 1), ('free', 1), ('Earth', 1), ('miseries', 1), ('disease,', 1), ('harness', 1), ('energies,', 1), ('industries', 1), ('technologies', 1), ('tomorrow.', 1), ('A', 1), ('pride', 1), ('stir', 1), ('souls,', 1), ('lift', 1), ('sights,', 1), ('heal', 1), ('divisions.', 1), ('remember', 1), ('wisdom', 1), ('soldiers', 1), ('forget:', 1), ('black', 1), ('brown', 1), ('white,', 1), ('bleed', 1), ('same', 6), ('red', 1), ('blood', 1), ('patriots,', 1), ('enjoy', 1), ('freedoms,', 1), ('salute', 1), ('Flag.', 1), ('child', 1), ('born', 1), ('urban', 1), ('sprawl', 1), ('Detroit', 1), ('windswept', 1), ('plains', 1), ('Nebraska,', 1), ('look', 1), ('up', 1), ('night', 1), ('sky,', 1), ('fill', 1), ('dreams,', 2), ('infused', 1), ('almighty', 1), ('Creator.', 1), ('So', 1), ('city', 1), ('near', 1), ('far,', 1), ('large,', 1), ('mountain', 1), ('mountain,', 1), ('ocean', 1), ('ocean,', 1), ('hear', 1), ('words:', 1), ('ignored', 1), ('Your', 1), ('voice,', 1), ('hopes,', 1), ('define', 1), ('courage', 1), ('goodness', 1), ('love', 1), ('forever', 1), ('guide', 1), ('us', 1), ('along', 1), ('way.', 1), ('Will', 5), ('Make', 5), ('Strong', 1), ('Again.', 5), ('Wealthy', 1), ('Proud', 1), ('Safe', 1), ('And,', 1), ('Yes,', 1), ('Great', 1), ('Thank', 1), ('God', 2), ('Bless', 2), ('You,', 1)])"
            ]
          },
          "metadata": {
            "tags": []
          },
          "execution_count": 221
        }
      ]
    },
    {
      "cell_type": "code",
      "metadata": {
        "id": "UPUB_0FFlH41",
        "colab_type": "code",
        "outputId": "18025550-a15d-4d3c-df80-e904db1bf564",
        "colab": {
          "base_uri": "https://localhost:8080/",
          "height": 34
        }
      },
      "source": [
        "def func(e):\n",
        "  return e[1]\n",
        "func(('The', 7))"
      ],
      "execution_count": 0,
      "outputs": [
        {
          "output_type": "execute_result",
          "data": {
            "text/plain": [
              "7"
            ]
          },
          "metadata": {
            "tags": []
          },
          "execution_count": 222
        }
      ]
    },
    {
      "cell_type": "code",
      "metadata": {
        "id": "H5OkP0uelYUR",
        "colab_type": "code",
        "outputId": "19eef237-9001-4d02-a041-49a6c655b920",
        "colab": {
          "base_uri": "https://localhost:8080/",
          "height": 34
        }
      },
      "source": [
        "func = lambda e: e[1]\n",
        "func(('The', 7))"
      ],
      "execution_count": 0,
      "outputs": [
        {
          "output_type": "execute_result",
          "data": {
            "text/plain": [
              "7"
            ]
          },
          "metadata": {
            "tags": []
          },
          "execution_count": 223
        }
      ]
    },
    {
      "cell_type": "code",
      "metadata": {
        "id": "FlB7yvmzk4w8",
        "colab_type": "code",
        "outputId": "238b0f72-8e59-4618-dd1e-d249c9af5a18",
        "colab": {
          "base_uri": "https://localhost:8080/",
          "height": 188
        }
      },
      "source": [
        "swd = sorted(dic.items(),key = lambda e: e[1], reverse=True)\n",
        "for rec in swd[0:10]:\n",
        "  print(rec)"
      ],
      "execution_count": 0,
      "outputs": [
        {
          "output_type": "stream",
          "text": [
            "('and', 65)\n",
            "('the', 64)\n",
            "('of', 48)\n",
            "('our', 47)\n",
            "('to', 37)\n",
            "('will', 35)\n",
            "('We', 25)\n",
            "('is', 21)\n",
            "('we', 20)\n",
            "('for', 14)\n"
          ],
          "name": "stdout"
        }
      ]
    },
    {
      "cell_type": "code",
      "metadata": {
        "id": "Hrhn7TIUlia2",
        "colab_type": "code",
        "colab": {}
      },
      "source": [
        "stopwords = [\"i\", \"me\", \"my\", \"myself\", \"we\", \"our\", \"ours\", \"ourselves\", \"you\", \"your\", \"yours\", \"yourself\", \"yourselves\", \"he\", \"him\", \"his\", \"himself\", \"she\", \"her\", \"hers\", \"herself\", \"it\", \"its\", \"itself\", \"they\", \"them\", \"their\", \"theirs\", \"themselves\", \"what\", \"which\", \"who\", \"whom\", \"this\", \"that\", \"these\", \"those\", \"am\", \"is\", \"are\", \"was\", \"were\", \"be\", \"been\", \"being\", \"have\", \"has\", \"had\", \"having\", \"do\", \"does\", \"did\", \"doing\", \"a\", \"an\", \"the\", \"and\", \"but\", \"if\", \"or\", \"because\", \"as\", \"until\", \"while\", \"of\", \"at\", \"by\", \"for\", \"with\", \"about\", \"against\", \"between\", \"into\", \"through\", \"during\", \"before\", \"after\", \"above\", \"below\", \"to\", \"from\", \"up\", \"down\", \"in\", \"out\", \"on\", \"off\", \"over\", \"under\", \"again\", \"further\", \"then\", \"once\", \"here\", \"there\", \"when\", \"where\", \"why\", \"how\", \"all\", \"any\", \"both\", \"each\", \"few\", \"more\", \"most\", \"other\", \"some\", \"such\", \"no\", \"nor\", \"not\", \"only\", \"own\", \"same\", \"so\", \"than\", \"too\", \"very\", \"s\", \"t\", \"can\", \"will\", \"just\", \"don\", \"should\", \"now\"]"
      ],
      "execution_count": 0,
      "outputs": []
    },
    {
      "cell_type": "code",
      "metadata": {
        "id": "8UD93WMemHgV",
        "colab_type": "code",
        "colab": {}
      },
      "source": [
        "with open('trump.txt', 'r', encoding = 'latin1' ) as f:\n",
        "  speech = f.read()"
      ],
      "execution_count": 0,
      "outputs": []
    },
    {
      "cell_type": "code",
      "metadata": {
        "id": "XhRifpH9mL29",
        "colab_type": "code",
        "colab": {}
      },
      "source": [
        "words = speech.lower().split()"
      ],
      "execution_count": 0,
      "outputs": []
    },
    {
      "cell_type": "code",
      "metadata": {
        "id": "ZYfrsvARmPRV",
        "colab_type": "code",
        "colab": {}
      },
      "source": [
        "dic = {}\n",
        "for w in words:\n",
        "  if (w not in stopwords) and len(w) > 2:\n",
        "    if w not in dic:\n",
        "      dic[w] = 1\n",
        "    else:\n",
        "      dic[w] = dic[w]  + 1"
      ],
      "execution_count": 0,
      "outputs": []
    },
    {
      "cell_type": "code",
      "metadata": {
        "id": "BH03F1-GmV52",
        "colab_type": "code",
        "outputId": "bd6a5bea-25ca-4519-ebb9-34e024440130",
        "colab": {
          "base_uri": "https://localhost:8080/",
          "height": 188
        }
      },
      "source": [
        "swd = sorted(dic.items(),key = lambda e: e[1], reverse=True)\n",
        "for rec in swd[0:10]:\n",
        "  print(rec)"
      ],
      "execution_count": 0,
      "outputs": [
        {
          "output_type": "stream",
          "text": [
            "('american', 11)\n",
            "('america', 10)\n",
            "('again.', 8)\n",
            "('every', 7)\n",
            "('one', 7)\n",
            "('president', 6)\n",
            "('people', 6)\n",
            "('great', 6)\n",
            "('country', 6)\n",
            "('back', 6)\n"
          ],
          "name": "stdout"
        }
      ]
    },
    {
      "cell_type": "markdown",
      "metadata": {
        "id": "YjR6YdA5nwe-",
        "colab_type": "text"
      },
      "source": [
        "## Python 套件安裝"
      ]
    },
    {
      "cell_type": "code",
      "metadata": {
        "id": "ATkiNmKymYu5",
        "colab_type": "code",
        "outputId": "41e57d6b-de40-42d7-b849-40a16899841b",
        "colab": {
          "base_uri": "https://localhost:8080/",
          "height": 363
        }
      },
      "source": [
        "! pip install gTTS"
      ],
      "execution_count": 0,
      "outputs": [
        {
          "output_type": "stream",
          "text": [
            "Collecting gTTS\n",
            "  Downloading https://files.pythonhosted.org/packages/a1/0c/4ca77eca3b739a4a08360930643f58d714e302fee0d2f8c654e67d9af8e7/gTTS-2.1.1-py3-none-any.whl\n",
            "Requirement already satisfied: requests in /usr/local/lib/python3.6/dist-packages (from gTTS) (2.21.0)\n",
            "Collecting gtts-token>=1.1.3\n",
            "  Downloading https://files.pythonhosted.org/packages/e7/25/ca6e9cd3275bfc3097fe6b06cc31db6d3dfaf32e032e0f73fead9c9a03ce/gTTS-token-1.1.3.tar.gz\n",
            "Requirement already satisfied: six in /usr/local/lib/python3.6/dist-packages (from gTTS) (1.12.0)\n",
            "Requirement already satisfied: click in /usr/local/lib/python3.6/dist-packages (from gTTS) (7.1.1)\n",
            "Requirement already satisfied: beautifulsoup4 in /usr/local/lib/python3.6/dist-packages (from gTTS) (4.6.3)\n",
            "Requirement already satisfied: urllib3<1.25,>=1.21.1 in /usr/local/lib/python3.6/dist-packages (from requests->gTTS) (1.24.3)\n",
            "Requirement already satisfied: chardet<3.1.0,>=3.0.2 in /usr/local/lib/python3.6/dist-packages (from requests->gTTS) (3.0.4)\n",
            "Requirement already satisfied: idna<2.9,>=2.5 in /usr/local/lib/python3.6/dist-packages (from requests->gTTS) (2.8)\n",
            "Requirement already satisfied: certifi>=2017.4.17 in /usr/local/lib/python3.6/dist-packages (from requests->gTTS) (2020.4.5.1)\n",
            "Building wheels for collected packages: gtts-token\n",
            "  Building wheel for gtts-token (setup.py) ... \u001b[?25l\u001b[?25hdone\n",
            "  Created wheel for gtts-token: filename=gTTS_token-1.1.3-cp36-none-any.whl size=4097 sha256=b2bfc65955b6c91d9ddf9abac2340bce58a0cb5eca28a5315bf63d89cfa6b5fd\n",
            "  Stored in directory: /root/.cache/pip/wheels/dd/11/61/33f7e51bf545e910552b2255eead2a7cd8ef54064b46dceb34\n",
            "Successfully built gtts-token\n",
            "Installing collected packages: gtts-token, gTTS\n",
            "Successfully installed gTTS-2.1.1 gtts-token-1.1.3\n"
          ],
          "name": "stdout"
        }
      ]
    },
    {
      "cell_type": "code",
      "metadata": {
        "id": "A-OfLyqioLYD",
        "colab_type": "code",
        "colab": {}
      },
      "source": [
        "from gtts import gTTS\n",
        "tts = gTTS('hello')\n",
        "tts.save('hello.mp3')"
      ],
      "execution_count": 0,
      "outputs": []
    },
    {
      "cell_type": "code",
      "metadata": {
        "id": "JY9HtcLzogph",
        "colab_type": "code",
        "colab": {}
      },
      "source": [
        "from gtts import gTTS\n",
        "tts = gTTS('I wanna know 你行不行', lang='zh-tw')\n",
        "tts.save('hello2.mp3')"
      ],
      "execution_count": 0,
      "outputs": []
    },
    {
      "cell_type": "code",
      "metadata": {
        "id": "OYUgiotFqVGB",
        "colab_type": "code",
        "outputId": "60eb0cd6-b6af-4f48-9c8c-c702d637ac2d",
        "colab": {
          "base_uri": "https://localhost:8080/",
          "height": 123
        }
      },
      "source": [
        "! pip install pygame"
      ],
      "execution_count": 0,
      "outputs": [
        {
          "output_type": "stream",
          "text": [
            "Collecting pygame\n",
            "\u001b[?25l  Downloading https://files.pythonhosted.org/packages/8e/24/ede6428359f913ed9cd1643dd5533aefeb5a2699cc95bea089de50ead586/pygame-1.9.6-cp36-cp36m-manylinux1_x86_64.whl (11.4MB)\n",
            "\u001b[K     |████████████████████████████████| 11.4MB 98kB/s \n",
            "\u001b[?25hInstalling collected packages: pygame\n",
            "Successfully installed pygame-1.9.6\n"
          ],
          "name": "stdout"
        }
      ]
    },
    {
      "cell_type": "code",
      "metadata": {
        "id": "bZ6kXGX6qCkq",
        "colab_type": "code",
        "outputId": "ed29f543-fc8b-4f14-d7dc-3ee42dfcdc60",
        "colab": {
          "base_uri": "https://localhost:8080/",
          "height": 267
        }
      },
      "source": [
        "from gtts import gTTS\n",
        "from pygame import mixer\n",
        "mixer.init()\n",
        "\n",
        "import tempfile\n",
        "def speak(sentence):\n",
        "    with tempfile.NamedTemporaryFile(delete=True) as fp:\n",
        "        tts = gTTS(text=sentence, lang='zh-tw')\n",
        "        tts.save(\"{}.mp3\".format(fp.name))\n",
        "        mixer.music.load('{}.mp3'.format(fp.name))\n",
        "        mixer.music.play()"
      ],
      "execution_count": 0,
      "outputs": [
        {
          "output_type": "stream",
          "text": [
            "pygame 1.9.6\n",
            "Hello from the pygame community. https://www.pygame.org/contribute.html\n"
          ],
          "name": "stdout"
        },
        {
          "output_type": "error",
          "ename": "error",
          "evalue": "ignored",
          "traceback": [
            "\u001b[0;31m---------------------------------------------------------------------------\u001b[0m",
            "\u001b[0;31merror\u001b[0m                                     Traceback (most recent call last)",
            "\u001b[0;32m<ipython-input-244-227da09115e9>\u001b[0m in \u001b[0;36m<module>\u001b[0;34m()\u001b[0m\n\u001b[1;32m      1\u001b[0m \u001b[0;32mfrom\u001b[0m \u001b[0mgtts\u001b[0m \u001b[0;32mimport\u001b[0m \u001b[0mgTTS\u001b[0m\u001b[0;34m\u001b[0m\u001b[0;34m\u001b[0m\u001b[0m\n\u001b[1;32m      2\u001b[0m \u001b[0;32mfrom\u001b[0m \u001b[0mpygame\u001b[0m \u001b[0;32mimport\u001b[0m \u001b[0mmixer\u001b[0m\u001b[0;34m\u001b[0m\u001b[0;34m\u001b[0m\u001b[0m\n\u001b[0;32m----> 3\u001b[0;31m \u001b[0mmixer\u001b[0m\u001b[0;34m.\u001b[0m\u001b[0minit\u001b[0m\u001b[0;34m(\u001b[0m\u001b[0;34m)\u001b[0m\u001b[0;34m\u001b[0m\u001b[0;34m\u001b[0m\u001b[0m\n\u001b[0m\u001b[1;32m      4\u001b[0m \u001b[0;34m\u001b[0m\u001b[0m\n\u001b[1;32m      5\u001b[0m \u001b[0;32mimport\u001b[0m \u001b[0mtempfile\u001b[0m\u001b[0;34m\u001b[0m\u001b[0;34m\u001b[0m\u001b[0m\n",
            "\u001b[0;31merror\u001b[0m: No available audio device"
          ]
        }
      ]
    },
    {
      "cell_type": "markdown",
      "metadata": {
        "id": "tO5XSnARrBdr",
        "colab_type": "text"
      },
      "source": [
        "## 作業 (Python 基礎)\n",
        "\n",
        "- 1 請使用 pip 將 jieba 安裝在自己的電腦上\n",
        "- 2 閱讀jieba 相關的文件，了解jieba 的用法\n",
        "- 3 請將蔡英文演說文 (https://raw.githubusercontent.com/ywchiu/tibamedl/master/Data/speech_tsai.txt) 下載存入到自己電腦\n",
        "- 4 請使用python 的檔案操作方法讀取新聞\n",
        "- 5 請使用 jieba 將演說文切詞\n",
        "- 6 請統計該演說文最常出現的十大字詞"
      ]
    },
    {
      "cell_type": "code",
      "metadata": {
        "id": "EXobwqzTrE4r",
        "colab_type": "code",
        "outputId": "24dd39ed-8924-4efe-ae2b-af5617694f57",
        "colab": {
          "base_uri": "https://localhost:8080/",
          "height": 226
        }
      },
      "source": [
        "! wget https://raw.githubusercontent.com/ywchiu/tibamedl/master/Data/speech_tsai.txt"
      ],
      "execution_count": 0,
      "outputs": [
        {
          "output_type": "stream",
          "text": [
            "--2020-04-25 09:31:52--  https://raw.githubusercontent.com/ywchiu/tibamedl/master/Data/speech_tsai.txt\n",
            "Resolving raw.githubusercontent.com (raw.githubusercontent.com)... 151.101.0.133, 151.101.64.133, 151.101.128.133, ...\n",
            "Connecting to raw.githubusercontent.com (raw.githubusercontent.com)|151.101.0.133|:443... connected.\n",
            "HTTP request sent, awaiting response... 200 OK\n",
            "Length: 6579 (6.4K) [text/plain]\n",
            "Saving to: ‘speech_tsai.txt’\n",
            "\n",
            "\rspeech_tsai.txt       0%[                    ]       0  --.-KB/s               \rspeech_tsai.txt     100%[===================>]   6.42K  --.-KB/s    in 0s      \n",
            "\n",
            "2020-04-25 09:31:52 (103 MB/s) - ‘speech_tsai.txt’ saved [6579/6579]\n",
            "\n"
          ],
          "name": "stdout"
        }
      ]
    },
    {
      "cell_type": "code",
      "metadata": {
        "id": "shkdU4UVrciw",
        "colab_type": "code",
        "colab": {}
      },
      "source": [
        "with open('speech_tsai.txt' , 'r') as f:\n",
        "  speech = f.read()"
      ],
      "execution_count": 0,
      "outputs": []
    },
    {
      "cell_type": "code",
      "metadata": {
        "id": "2Rbz_PJMrna_",
        "colab_type": "code",
        "outputId": "e756d26d-b59b-4b54-a389-f6008b203ba2",
        "colab": {
          "base_uri": "https://localhost:8080/",
          "height": 54
        }
      },
      "source": [
        "speech"
      ],
      "execution_count": 0,
      "outputs": [
        {
          "output_type": "execute_result",
          "data": {
            "text/plain": [
              "'大會主席蘇嘉全院長、現場各位貴賓、電視機前和網路上的全體國人同胞，大家早安，大家好。\\n\\n今天，是中華民國一百零八年的國慶日，謝謝來自世界各地的好朋友，跟我們共度這個值得紀念的日子。\\n\\n去年，也是在國慶日，我和大家說，台灣正處在變局當中。世界貿易局勢的變動、國際政治情勢的變化，都讓未來充滿挑戰。我們必須「求穩、應變、進步」，厚植實力、壯大台灣。\\n\\n轉眼又過了一年，世界依然快速變化，甚至更加劇烈。美中貿易戰的持續進行；距離我們不遠的香港，因為「一國兩制」的失敗，正處於失序邊緣。\\n\\n儘管如此，中國依然以「一國兩制台灣方案」，不斷威脅我們，並採取各種文攻武嚇，強烈挑戰了區域的穩定及和平。\\n\\n各位國人同胞，當自由民主受到挑戰，當中華民國的生存發展受到脅迫，我們就必須站出來捍衛。拒絕「一國兩制」，是兩千三百萬台灣人民不分黨派、不分立場，彼此間最大的共識。\\n\\n中華民國已經在台灣屹立超過七十年，一旦接受「一國兩制」，中華民國就沒有生存的空間。身為總統，站出來守護國家主權，不是挑釁，而是我最基本的責任。\\n\\n七十年來，我們共同經歷過種種嚴峻的挑戰。每一次挑戰，不但沒有擊倒我們，反而讓我們更強壯、更堅定。\\n\\n我們一起走過八二三砲戰，一起度過九六年台海危機。一次又一次文攻武嚇，從來就沒有讓台灣人民屈服。我們共同捍衛住腳下這塊土地，也捍衛住國家的主權。\\n\\n我們經歷過退出聯合國的恐慌，也承受過一次又一次的斷交壓力。但台灣人民想要走向世界的決心，不曾有任何改變。\\n\\n一九七零年代的石油危機，一九九七年的亞洲金融風暴，千禧年的網路泡沫，還有十年前的金融海嘯。經濟總是充滿挑戰，但一卡皮箱走遍天下的台商，加上勤奮又有創意的台灣人民，讓我們一次又一次，把危機化做轉機，讓台灣的經濟持續往前走。\\n\\n我們也經歷過八七水災、九二一地震、SARS風暴、八八風災。天災病變的磨難，沒有擊敗過台灣人民奮鬥生存的意志。家園毀壞了，我們重建；土地受傷了，我們復原。擦乾眼淚，重新站起，明天又是充滿希望的一天。\\n\\n這些共同的記憶，彰顯了台灣人民的韌性。因為有這樣的韌性，我們成為亞洲四小龍的一員。因為這樣的韌性，我們走過了民主化的艱鉅歷程，成為世界上重要的民主典範。\\n\\n我們共同走過這一段路，無論是哪個黨派，只要是生活在這塊土地上的人民，都不能分割彼此。中華民國不是誰的專利，台灣也不是誰能夠獨佔。「中華民國台灣」六個字，既不是藍色、也不是綠色，這就是整個社會最大的共識。\\n\\n展望未來，前方的挑戰還有很多，等著我們一一克服。\\n\\n我們看見中國崛起跟擴張，以威權體制，結合民族主義和經濟力量，挑戰自由民主的價值和世界秩序。也因此，處於印太地區戰略前緣的台灣，成為了守護民主價值的第一道防線。\\n\\n中國利用「銳實力」步步進逼，但我們很清楚，作為區域的重要成員，台灣要善盡國際責任。我們不挑釁、不冒進，結合理念相近的國家，確保台海和平穩定的現狀，不會被片面改變。\\n\\n要做到這些，我們必須要團結。儘管台灣社會曾經因為族群、世代、信仰、黨派的差異，而出現爭執，但透過對話，我們一定可以找到彼此可以接受的最大公約數。經驗證明，衝突、對話、團結進步，會引導國家往正確的方向前進。\\n\\n我們也必須堅守自由民主的價值。台灣人民曾經一起走過民主化的艱辛道路，民主偶有紛擾，但只有民主制度，能夠保障得來不易的自由，也才能讓下一代保有決定未來的權利。\\n\\n我們也必須持續壯大台灣。三年多來，我們努力調整經濟結構，引導產業升級轉型、推動國際多元布局。我們迎來投資大爆發，在全球經濟的變動中，站穩了腳步，方向是對的，我們就要繼續走。\\n\\n三年多來，我們努力維護社會公平，加薪減稅、全面照顧，讓全民分享經濟成長的果實。未來，推動長照2.0升級，推動幼托補助擴大，減輕民眾負擔，使人人可以享有優質的照顧，是政府要繼續努力的方向。\\n\\n三年多來，我們推動國防自主、採購先進武器，提升國軍士氣，強化充足戰力。國造高教機的原型機剛剛出廠，國造艦艇也將陸續加入建軍行列。捍衛國土、堅守自由民主，國軍責無旁貸。\\n\\n三年多來，我們積極參與國際，負責任、肯貢獻，成為維護區域和平穩定，不可或缺的良善力量。我們會持續和理念相近的國家攜手，爭取更多實質合作的機會。\\n\\n未來的路線很清楚，目標也很明確。\\n\\n第一，讓國人繼續團結在自由民主的旗幟下，捍衛國家主權。\\n\\n第二，持續壯大台灣，強化經濟實力，讓民富而國強。\\n\\n第三，積極走向世界，克服挑戰，讓中華民國台灣在國際舞台上抬頭挺胸，勇敢自信。\\n\\n上一季，我們的經濟成長率，已經重返亞洲四小龍之首。世界經濟論壇評比我們是四大「超級創新國」之一。我們的高科技和創新產業，也走在世界的最前端。\\n\\n我們的體育選手、我們的技能國手，無數充滿創意的設計師、藝術家，在國際舞台發光發熱，帶給台灣榮耀和驕傲。\\n\\n我們自製的福衛五號，以及福衛七號接連升空，展現太空科技實力。就連人類歷史上第一次觀測到的黑洞影像，也有台灣科學團隊的參與。\\n\\n當我們可以上太空，可以看見五千五百萬光年外的黑洞，那麼，眼前還有什麼挑戰，是我們沒有勇氣面對的？\\n\\n歷史的磨難，會因為我們的韌性，而被轉化為成長力量。天災的挑戰，會因為我們的努力，而成為再生的契機。這塊土地上每一個人的努力，都讓我們的國家，一天一天變得更好、更進步。\\n\\n在國慶日這一天，這塊土地上的所有人民，都團結在自由民主的旗幟下，樂觀面對未來、堅定克服挑戰。天佑台灣，台灣加油，中華民國加油。謝謝大家。\\n'"
            ]
          },
          "metadata": {
            "tags": []
          },
          "execution_count": 248
        }
      ]
    },
    {
      "cell_type": "code",
      "metadata": {
        "id": "tqn0wfcqronL",
        "colab_type": "code",
        "colab": {}
      },
      "source": [
        ""
      ],
      "execution_count": 0,
      "outputs": []
    }
  ]
}